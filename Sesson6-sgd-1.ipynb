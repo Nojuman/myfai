{
 "cells": [
  {
   "cell_type": "markdown",
   "metadata": {
    "toc": "true"
   },
   "source": [
    "# Table of Contents\n",
    " <p><div class=\"lev1 toc-item\"><a href=\"#Linear-Regression-problem\" data-toc-modified-id=\"Linear-Regression-problem-1\"><span class=\"toc-item-num\">1&nbsp;&nbsp;</span>Linear Regression problem</a></div><div class=\"lev1 toc-item\"><a href=\"#Gradient-Descent\" data-toc-modified-id=\"Gradient-Descent-2\"><span class=\"toc-item-num\">2&nbsp;&nbsp;</span>Gradient Descent</a></div><div class=\"lev1 toc-item\"><a href=\"#Gradient-Descent---Classification\" data-toc-modified-id=\"Gradient-Descent---Classification-3\"><span class=\"toc-item-num\">3&nbsp;&nbsp;</span>Gradient Descent - Classification</a></div><div class=\"lev1 toc-item\"><a href=\"#Gradient-descent-with-numpy\" data-toc-modified-id=\"Gradient-descent-with-numpy-4\"><span class=\"toc-item-num\">4&nbsp;&nbsp;</span>Gradient descent with numpy</a></div>"
   ]
  },
  {
   "cell_type": "code",
   "execution_count": 1,
   "metadata": {
    "collapsed": true
   },
   "outputs": [],
   "source": [
    "%matplotlib inline\n",
    "from fastai.learner import *"
   ]
  },
  {
   "cell_type": "markdown",
   "metadata": {},
   "source": [
    "In this part of the lecture we explain Stochastic Gradient Descent (SGD) which is an **optimization** method commonly used in neural networks. We will illustrate the concepts with concrete examples."
   ]
  },
  {
   "cell_type": "markdown",
   "metadata": {},
   "source": [
    "#  Linear Regression problem"
   ]
  },
  {
   "cell_type": "markdown",
   "metadata": {},
   "source": [
    "The goal of linear regression is to fit a line to a set of points."
   ]
  },
  {
   "cell_type": "code",
   "execution_count": 43,
   "metadata": {},
   "outputs": [],
   "source": [
    "s=[]"
   ]
  },
  {
   "cell_type": "code",
   "execution_count": 58,
   "metadata": {
    "collapsed": true
   },
   "outputs": [],
   "source": [
    "# Here we generate some fake data\n",
    "def lin(a,b,x): return a*x+b\n",
    "\n",
    "def gen_fake_data(n, a, b):\n",
    "    #x = s = np.random.uniform(0,1,n) \n",
    "    x = np.random.uniform(0,1,n)\n",
    "    y = lin(a,b,x) + 0.1 * np.random.normal(0,3,n)\n",
    "    return x, y\n",
    "\n",
    "x, y = gen_fake_data(50, 3., 8.)"
   ]
  },
  {
   "cell_type": "code",
   "execution_count": 59,
   "metadata": {},
   "outputs": [
    {
     "data": {
      "image/png": "[encoded data removed]",
      "text/plain": [
       "<matplotlib.figure.Figure at 0x7f1c79a9a860>"
      ]
     },
     "metadata": {},
     "output_type": "display_data"
    }
   ],
   "source": [
    "plt.scatter(x,y, s=8); plt.xlabel(\"x\"); plt.ylabel(\"y\"); "
   ]
  },
  {
   "cell_type": "markdown",
   "metadata": {},
   "source": [
    "You want to find **parameters** (weights) $a$ and $b$ such that you minimize the *error* between the points and the line $a\\cdot x + b$. Note that here $a$ and $b$ are unknown. For a regression problem the most common *error function* or *loss function* is the **mean squared error**. "
   ]
  },
  {
   "cell_type": "code",
   "execution_count": 60,
   "metadata": {
    "collapsed": true
   },
   "outputs": [],
   "source": [
    "def mse(y_hat, y): return ((y_hat - y) ** 2).mean()"
   ]
  },
  {
   "cell_type": "markdown",
   "metadata": {},
   "source": [
    "Suppose we believe $a = 10$ and $b = 5$ then we can compute `y_hat` which is our *prediction* and then compute our error."
   ]
  },
  {
   "cell_type": "code",
   "execution_count": 61,
   "metadata": {},
   "outputs": [
    {
     "data": {
      "text/plain": [
       "5.174502404283319"
      ]
     },
     "execution_count": 61,
     "metadata": {},
     "output_type": "execute_result"
    }
   ],
   "source": [
    "y_hat = lin(10,5,x)\n",
    "mse(y_hat, y)"
   ]
  },
  {
   "cell_type": "code",
   "execution_count": 62,
   "metadata": {
    "collapsed": true
   },
   "outputs": [],
   "source": [
    "def mse_loss(a, b, x, y): return mse(lin(a,b,x), y)"
   ]
  },
  {
   "cell_type": "code",
   "execution_count": 63,
   "metadata": {},
   "outputs": [
    {
     "data": {
      "text/plain": [
       "5.174502404283319"
      ]
     },
     "execution_count": 63,
     "metadata": {},
     "output_type": "execute_result"
    }
   ],
   "source": [
    "mse_loss(10, 5, x, y)"
   ]
  },
  {
   "cell_type": "markdown",
   "metadata": {},
   "source": [
    "So far we have specified the *model* (linear regression) and the *evaluation criteria* (or *loss function*). Now we need to handle *optimization*; that is, how do we find the best values for $a$ and $b$? How do we find the best *fitting* linear regression."
   ]
  },
  {
   "cell_type": "markdown",
   "metadata": {
    "heading_collapsed": true
   },
   "source": [
    "# Gradient Descent"
   ]
  },
  {
   "cell_type": "markdown",
   "metadata": {
    "hidden": true
   },
   "source": [
    "For a fixed dataset $x$ and $y$ `mse_loss(a,b)` is a function of $a$ and $b$. We would like to find the values of $a$ and $b$ that minimize that function.\n",
    "\n",
    "**Gradient descent** is an algorithm that minimizes functions. Given a function defined by a set of parameters, gradient descent starts with an initial set of parameter values and iteratively moves toward a set of parameter values that minimize the function. This iterative minimization is achieved by taking steps in the negative direction of the function gradient.\n",
    "\n",
    "Here is gradient descent implemented in [PyTorch](http://pytorch.org/)."
   ]
  },
  {
   "cell_type": "code",
   "execution_count": 64,
   "metadata": {
    "hidden": true
   },
   "outputs": [
    {
     "data": {
      "text/plain": [
       "((10000,), (10000,))"
      ]
     },
     "execution_count": 64,
     "metadata": {},
     "output_type": "execute_result"
    }
   ],
   "source": [
    "# generate some more data\n",
    "x, y = gen_fake_data(10000, 3., 8.)\n",
    "x.shape, y.shape"
   ]
  },
  {
   "cell_type": "code",
   "execution_count": 65,
   "metadata": {
    "collapsed": true,
    "hidden": true
   },
   "outputs": [],
   "source": [
    "x,y = V(x),V(y)"
   ]
  },
  {
   "cell_type": "code",
   "execution_count": 66,
   "metadata": {
    "hidden": true
   },
   "outputs": [
    {
     "data": {
      "text/plain": [
       "(Variable containing:\n",
       " -0.1643\n",
       " [torch.cuda.FloatTensor of size 1 (GPU 0)], Variable containing:\n",
       " -0.9347\n",
       " [torch.cuda.FloatTensor of size 1 (GPU 0)])"
      ]
     },
     "execution_count": 66,
     "metadata": {},
     "output_type": "execute_result"
    }
   ],
   "source": [
    "# Create random weights a and b, and wrap them in Variables.\n",
    "a = V(np.random.randn(1), requires_grad=True)\n",
    "b = V(np.random.randn(1), requires_grad=True)\n",
    "a,b"
   ]
  },
  {
   "cell_type": "code",
   "execution_count": 67,
   "metadata": {
    "hidden": true
   },
   "outputs": [
    {
     "name": "stdout",
     "output_type": "stream",
     "text": [
      "111.89702606201172\n",
      "0.8759613037109375\n",
      "0.1759043037891388\n",
      "0.15269269049167633\n",
      "0.13798002898693085\n",
      "0.1266876608133316\n",
      "0.11800604313611984\n",
      "0.11133132129907608\n",
      "0.10619977116584778\n",
      "0.10225430130958557\n"
     ]
    }
   ],
   "source": [
    "learning_rate = 1e-3\n",
    "for t in range(10000):\n",
    "    # Forward pass: compute predicted y using operations on Variables\n",
    "    loss = mse_loss(a,b,x,y)\n",
    "    if t % 1000 == 0: print(loss.data[0])\n",
    "    \n",
    "    # Computes the gradient of loss with respect to all Variables with requires_grad=True.\n",
    "    # After this call a.grad and b.grad will be Variables holding the gradient\n",
    "    # of the loss with respect to a and b respectively\n",
    "    loss.backward()\n",
    "    \n",
    "    # Update a and b using gradient descent; a.data and b.data are Tensors,\n",
    "    # a.grad and b.grad are Variables and a.grad.data and b.grad.data are Tensors\n",
    "    a.data -= learning_rate * a.grad.data\n",
    "    b.data -= learning_rate * b.grad.data\n",
    "    \n",
    "    # Zero the gradients\n",
    "    a.grad.data.zero_()\n",
    "    b.grad.data.zero_()    "
   ]
  },
  {
   "cell_type": "markdown",
   "metadata": {
    "hidden": true
   },
   "source": [
    "Nearly all of deep learning is powered by one very important algorithm: **stochastic gradient descent (SGD)**. SGD can be seeing as an approximation of **gradient descent** (GD). In GD you have to run through *all* the samples in your training set to do a single itaration. In SGD you use *only one* or *a subset*  of training samples to do the update for a parameter in a particular iteration. The subset use in every iteration is called a **batch** or **minibatch**."
   ]
  },
  {
   "cell_type": "markdown",
   "metadata": {
    "heading_collapsed": true
   },
   "source": [
    "# Gradient Descent - Classification"
   ]
  },
  {
   "cell_type": "markdown",
   "metadata": {
    "hidden": true
   },
   "source": [
    "For a fixed dataset $x$ and $y$ `mse_loss(a,b)` is a function of $a$ and $b$. We would like to find the values of $a$ and $b$ that minimize that function.\n",
    "\n",
    "**Gradient descent** is an algorithm that minimizes functions. Given a function defined by a set of parameters, gradient descent starts with an initial set of parameter values and iteratively moves toward a set of parameter values that minimize the function. This iterative minimization is achieved by taking steps in the negative direction of the function gradient.\n",
    "\n",
    "Here is gradient descent implemented in [PyTorch](http://pytorch.org/)."
   ]
  },
  {
   "cell_type": "code",
   "execution_count": 68,
   "metadata": {
    "hidden": true
   },
   "outputs": [],
   "source": [
    "def gen_fake_data2(n, a, b):\n",
    "    x = s = np.random.uniform(0,1,n) \n",
    "    y = lin(a,b,x) + 0.1 * np.random.normal(0,3,n)\n",
    "    return x, np.where(y>10, 1, 0).astype(np.float32)"
   ]
  },
  {
   "cell_type": "code",
   "execution_count": 69,
   "metadata": {
    "hidden": true
   },
   "outputs": [],
   "source": [
    "x,y = gen_fake_data2(10000, 3., 8.)\n",
    "x,y = V(x),V(y)"
   ]
  },
  {
   "cell_type": "code",
   "execution_count": 70,
   "metadata": {
    "collapsed": true,
    "hidden": true
   },
   "outputs": [],
   "source": [
    "def nll(y_hat, y):\n",
    "    y_hat = torch.clamp(y_hat, 1e-5, 1-1e-5)\n",
    "    return (y*y_hat.log() + (1-y)*(1-y_hat).log()).mean()"
   ]
  },
  {
   "cell_type": "code",
   "execution_count": 71,
   "metadata": {
    "collapsed": true,
    "hidden": true
   },
   "outputs": [],
   "source": [
    "a = V(np.random.randn(1), requires_grad=True)\n",
    "b = V(np.random.randn(1), requires_grad=True)"
   ]
  },
  {
   "cell_type": "code",
   "execution_count": 72,
   "metadata": {
    "collapsed": true,
    "hidden": true
   },
   "outputs": [
    {
     "name": "stdout",
     "output_type": "stream",
     "text": [
      "-1.0471649169921875 0.3307\n",
      "-5.519646167755127 0.3307\n",
      "-7.686560153961182 0.3307\n"
     ]
    }
   ],
   "source": [
    "learning_rate = 1e-2\n",
    "for t in range(3000):\n",
    "    p = (-lin(a,b,x)).exp()\n",
    "    y_hat = 1/(1+p)\n",
    "    loss = nll(y_hat,y)\n",
    "    if t % 1000 == 0:\n",
    "        print(loss.data[0], np.mean(to_np(y)==(to_np(y_hat)>0.5)))\n",
    "#         print(y_hat)\n",
    "    \n",
    "    loss.backward()\n",
    "    a.data -= learning_rate * a.grad.data\n",
    "    b.data -= learning_rate * b.grad.data\n",
    "    a.grad.data.zero_()\n",
    "    b.grad.data.zero_()    "
   ]
  },
  {
   "cell_type": "markdown",
   "metadata": {
    "hidden": true
   },
   "source": [
    "Nearly all of deep learning is powered by one very important algorithm: **stochastic gradient descent (SGD)**. SGD can be seeing as an approximation of **gradient descent** (GD). In GD you have to run through *all* the samples in your training set to do a single itaration. In SGD you use *only one* or *a subset*  of training samples to do the update for a parameter in a particular iteration. The subset use in every iteration is called a **batch** or **minibatch**."
   ]
  },
  {
   "cell_type": "markdown",
   "metadata": {},
   "source": [
    "# Gradient descent with numpy"
   ]
  },
  {
   "cell_type": "code",
   "execution_count": 17,
   "metadata": {
    "collapsed": true
   },
   "outputs": [],
   "source": [
    "from matplotlib import rcParams, animation, rc\n",
    "from ipywidgets import interact, interactive, fixed\n",
    "from ipywidgets.widgets import *\n",
    "rc('animation', html='html5')\n",
    "rcParams['figure.figsize'] = 3, 3"
   ]
  },
  {
   "cell_type": "code",
   "execution_count": 18,
   "metadata": {
    "collapsed": true
   },
   "outputs": [],
   "source": [
    "x, y = gen_fake_data(50, 3., 8.)"
   ]
  },
  {
   "cell_type": "code",
   "execution_count": 19,
   "metadata": {},
   "outputs": [
    {
     "data": {
      "text/plain": [
       "81.29871072524311"
      ]
     },
     "execution_count": 19,
     "metadata": {},
     "output_type": "execute_result"
    }
   ],
   "source": [
    "a_guess,b_guess = -1., 1.\n",
    "mse_loss(a_guess, b_guess, x, y)"
   ]
  },
  {
   "cell_type": "code",
   "execution_count": 20,
   "metadata": {
    "collapsed": true
   },
   "outputs": [],
   "source": [
    "lr=0.01\n",
    "def upd():\n",
    "    global a_guess, b_guess\n",
    "    y_pred = lin(a_guess, b_guess, x)\n",
    "    dydb = 2 * (y_pred - y)\n",
    "    dyda = x*dydb\n",
    "    a_guess -= lr*dyda.mean()\n",
    "    b_guess -= lr*dydb.mean()"
   ]
  },
  {
   "cell_type": "code",
   "execution_count": 21,
   "metadata": {},
   "outputs": [
    {
     "data": {
      "text/html": [
       "<video width=\"500\" height=\"400\" controls autoplay loop>\n",
       "  <source type=\"video/mp4\" src=\"data:video/mp4;base64,AAAAHGZ0eXBNNFYgAAACAGlzb21pc28yYXZjMQAAAAhmcmVlAACRJG1kYXQAAAALBgAHgMXBABX5\n",
       "QIAAAAAIBgEEAAAIEIAAACXKZbgEDf/6YFJ/sKhEvVg/vP854yHB3is3AvyikP8TzAAAAwAAAwAD\n",
       "gEw3mUDjtHWwm0RgaS2FYNgAACmYCogU5hCypj+4z2ooiL0wHn+ELNnrspB3EYkCoVoMFAET33c1\n",
       "7jtD2bObN2SWqODpmWbRqbu8zbAQOyqvEIr06+2LcbH3jQa2ec9NutXhVh2FIARLMunDTyZSOLFi\n",
       "PTNtwmzOZf6aet2fcvN5jqePKQgiJLHKZpn1oBCJvDAh7ZNE5ItblxMc3Q/T25+UGsE2W0T2lnCq\n",
       "Mge+r5HucCqlHo0jxODRtRHXteASj8k7f7CCM8U10SqncMSzGOuoiFuSiaE1lkZNhxuSWO9LOg/d\n",
       "eAh1obQj/5A2lPlHCiOZazZfgOHygXbesdPBzBXXBZz5rFb53HYGB9J0gCXmw0g4eFgPotDGD/X/\n",
       "3BSWPo0vIhs34w06yfovOtkrRnmoa07Pc434FM6HU2gwLF8Z/o338KI7Tm4UN+JUMEv2qXlEU9s1\n",
       "UFqBfYMXOcuvpr4Iicob5RGWYImpxwgpBRymKi7vDPvoQn5CcdM817OJCYW49A/kg2QpV/7w9aRE\n",
       "gv8Bcew53atFgRzr92h6lQ6JgzgPxTxA/E9SMzp1rII0rBGIQmmQ0DA1dCJw8UCT7Ss60arM4w/v\n",
       "o/uPLZlwPNc7oBNMmqx4gA0zCvhSXlJObu6TVxgxywd80ohkC3U11n1DdIHoWoWICj2RodpaoSjQ\n",
       "F+z34FaS8Xy6kyeh+gTeROOiWNbTkB2A/45hyX7Y+WSb3Bs7iHivGYIUT9mrCmTOJnKMQO8xDplw\n",
       "I6HgkSsKLU+mM5+qaKrvkciyLYrNpBP0d53hSXHnUeSzKgehTQJqbvrvPkIeNeclz53VLzojEJpq\n",
       "K2Il1Jd1I4g9Biesr36Gb/GBVSFxDhrHhES+SrK/E24k+x+sTdSLbGwE9qp+tXlkfu6m7+n6ZKuK\n",
       "Wjq9+sxoTK0X8xbNG/Fagyewo85yy0shnnWt1SMBATqC/DvfyGyOMpMAISo5BpeFxkOyCHRpZpsZ\n",
       "vc0Xd+zB4TmopKiIZc02UIs071FC6dM4QHbSLKfpvajclTcZm1ZSjkLVshWiZWmKA1Sf8Dbip/hT\n",
       "FiAr5JFpgcwCpZFeCGYTz4UUvYPj/eOyDjdtkqHTqNjnUWYiUOB6w9tr5BS2HoLzBnkUbFwaiWsR\n",
       "Z2FyGOW+jfNvInfkrJtYITf/7y0ytOryfwfZ5Je43/bg+RELbaTGairDIBQ3zNrgWdrbjLCxTm84\n",
       "mxBzxbUaQk/bN2c42Qj0NBQJSTn5V4RfuHvsEojP7YcFpWmlW+OWT/v6qCqQWmd0K+SU3rf3Xnx4\n",
       "pdrsjCmOH0lvKAGgPaVVywNew1Hu2xmd2uERHAT+4BvLHuI/hNS5ajjhC/9fZmExXtIr7+lD+Z7A\n",
       "apcaZHShg4HxOnoEeR3BZnnelwBB+3fjxgYiV9uPxlSTjdTwJoZCOvacj4bBebrprQhrFgA7pfHh\n",
       "749BR4Pctr0KVh0vv4R/EnidxeVcl/rHGzjDfSMo6eLTVTnxZntQVEETik2oFQyWVA27BqmO8+eF\n",
       "oJYn4S5xuKLL0OmN+aIYlQnQKN4dHvkzttXRt5Lxu6cOX0RSl/kwrn2mTM6Su4EqCwYEVbSuq0sW\n",
       "dueaXEjTytjykp/UwiiWXL2ra2+4v034nvmiH5H/+rZ1olseS7Jk013acyv4rGDK27oEhYf/jZ0b\n",
       "hMWrdz1NkZiWZNDpzetk9foSxt2sxGmbA0BI8Kin4DMvlUIKz+h1V6Is+kcEu5FKboM9djwvrU+H\n",
       "KeqtGGHmoBPE71V0OVvV7a52me2ZVWV7CwDp9xrFyHp4WBBwlXmi318SLk+1fj+oxwlXf5IKEkHp\n",
       "U2eRkiHhKVwqXvYYsNfj7xOoEWzH0nExaD8ohV2CiMrKlm89LpzzinSEfuKaMSzyaZpwIVogoUDo\n",
       "dLHjKOnKE4qUmF1WEkvlqyyma6W/DtQ6Qfv/jXfZKch9YZxHe7qxFoiJHiDX01MCPXYVHk4rabWF\n",
       "XsTDOFtOfR6iDWRqLizozJ4a0HV5SHeZfwoZke4/W0gdojqA5wRIRtsoBuw4qCe+tzUnj4osm8VW\n",
       "HcmlhvXVMftdfP//zBIupkfcnEoaSmirs0PUZtzIiXFDtCCFWFHxI5Rm3iRp9b+ybM3+QX67mRJ0\n",
       "YE+2rCgEnyE/62EsH5xzloQRhEDq4RzTMzb450QO4zIwqfk6qR+0mBWViy7UVnH0eV4ze+mYlE8D\n",
       "eIsL5UU6stnpPQAK3T6IFgtF4DxHD+cHHuuXbudPhwKpA++H1JO04oeWOmj7346NFSLXFfR1h9We\n",
       "Wo/2UTvdAJnW5l0apA0FbdsE75NwkOlUFhivUMQfeOoZglWAQf0LMmzcKE7Lf4/xMFixE9f12SK+\n",
       "wGi6F+sOwrKxoK/z3iFpgkZpKShtiooRYEEYghZuaDEWECzNy+ewgyftPBXJYdw0gtclNQPulQNB\n",
       "UspzvfJavc/oGRFcTnkeXk1w2UFF6qXhMAU37v+eEuWR0xLuY+qLY8BsUUV0vj3K9pfua6oRRz8Z\n",
       "ue14HcRqMuPNRSG4nfGIBn8EbiLKelw40UUqLntcETsmee/mHs9DQK2uLTO4wafMI7IhQYQoG1h9\n",
       "TYK+Xy27ej8KnhtTL7nBk/l6OI3OO63nbkAgJFeRfArm+BPt/tbkpn23XANlcEqfWZqsIUpatvJa\n",
       "XYJicelGWcY/EwBtYSttI1bphKn1OKFg32MYtdKU2I0RMM6u98sbiZ/NCO3ZVQszLg6Q6p8y8rTS\n",
       "ClnE4b+YML+giOGtSmxbOH0XMl+kDLPhnktdYvy6KlL0Q7qBJJD2WjOYGc4iIDtcdqfScJ/st290\n",
       "f2A4UR9InTIbo0n0Wv/GtrBZSj23jDnnFSit0RzahQKiKBgyRalxR9nyWCX7uuCfYjFVYb3o/Mfc\n",
       "ZqherSMR/RXb7yN4mdNxBTf353XPuWRCTx1Mh2S1gjsQ+GNwiVG4heun3XQRlLhY6z40rDzrd1MX\n",
       "vXpU6mHQTL+uSuwuSQO9R9I3/qK4Ui3VXdkHF5OOBataJPtgUGYKEZ3MVdI2GB+7wCtIk4goZ8+u\n",
       "lNwxwKA8d99hrzfIh3X7sQq+3ZKJfgoLVm5ukhO2nZVQ7aH9yp19VKaf3dfIgWiVE4qH3J46MLV3\n",
       "nWDrc5rXTJHZPRfnVB8PYzhiMOl1j70OoyYu7hk3cGW/2OE4WQ6ebojLQILz/XCSh6qPQf9lmNFh\n",
       "gZARnx3tHIp43wPS2t362ruTpj920Df/+LlM/8wWb282BPjMQiUf8I0TUJHUSZhdM2yRS1X0sk2Y\n",
       "Jo5BWhfU4ZilqHueVfk/SEL7iLvw6UtoiX8YmXxmEhXkPr++zhaPMyDbTZBKtwrsq71OvlEATe7j\n",
       "i2P+AaHmeI+i8vTC5V5zpoJf//pKQekDtaC1ILFJwTNbxqipRXfRTJ5wjBoygjykBvF7UeO3kVXv\n",
       "MJgoNa7NwOKCtm/KfbVOn4YLjLuqnzC1IyJXjsv7DyLJ4eelPMY6S1BEMW/JSntSXsq7A0+ylEHE\n",
       "LwaxaZPf7KITN2oMbhFa+WUD7Ss8Y9/94NDFeJ7xtizgDAvESMbcj9cZBm1tYcq05h+oKxU2HcPW\n",
       "L61T2DiAz+KPkLy40A/noBccwI1ZRQ9b34vxihXOoGEmRL6ApDxb11npVYypzhhFb0EUKSHHGA0q\n",
       "w6TnGz9wNECtfnpJB6EWgwOFT+Vrb0859KMtLhjTO3mEIDl0OZYaUGyLZ/BGSJY9RwpiktxCkszL\n",
       "U1ApMtv2rFRxjOfiKFcn67qkt+7gAQQMTiL7kJ9WVhwMfo172v5GpPjpQ0lwkECjiwTwMhl5apm0\n",
       "48Rc2vwk4A7BcUDy5AVkbvDlHUHUYf79FrArYZhkZPtJn2t9A3CWNonB2wgWSwUyL7uarkAUFlBH\n",
       "VesSAbzOq35OsP0MWsEO3gHMgZTDCO9RcjAjR744PN010/X2jbNln1BgpgfrTODi5wjpqncSQbdv\n",
       "L238COo11AZPJZ2V0Z3/Cd2qhurCmdUU9fp0Rv/oZ7qVnPRMtz536gUFFOs+IJNsLi2P9g5zgPas\n",
       "hAmPDUPaawmWlZvS6qKNi+HgtMmfrBboPG2FLa2cclSOSXhI0GaZH1NnCp5dPkV5UWJIHJI0Mqpe\n",
       "TneCo3E3foS5JswLEUed9WtezPCyYRxZ0nXb/Ioh0sbYAFO7DMSTYguAhesnEIhNyWtvtMNCFTsl\n",
       "QrS6aKaqv9JCR6lxXHQ7KKGOv5mf3VolB8OZS9+f+Mdjb/qR7CG+pXfarP1WtQ+Y+Y4+9AOorkno\n",
       "eQw2FG41rrP30VQe+NT2IcirYKs/PzK8URaU72PtyPWWswDckFLGxOYVBJHO3RkIO/nWGQ6T51pq\n",
       "E/oa9dbMkvYHOfou5W06mdXr+8yOUlKjqmRloioOk+RlmrsJz6HMjJKHuGxFDw/xlpqA1PrUbXhi\n",
       "eAPd2JrPyYVyIVPPVRbFsmxr1Z9K8md/qCW8+gxe/CVzUzrZfGB6FMER11jW6Yo3ZvqspPphH//n\n",
       "8+YcgZt3ceUPTjJYLQMj5uzOaRwv0bo1WX5KBgF+fHsXU1edX3Fa8QZucvJGGQdErYL2FA1aTnvN\n",
       "QgbUJy6qAXLiueCHqzlO8SLPhVJ20IBM/LgmGvsCsY2wjiZD3KxkLrs+zXBaq/FcHfGUNO8EMFuY\n",
       "eR8ExaJ7BYpn3wf+loPzf6gRSo9GOzSmS1hI4K1LWEpoc3rhqQmG/VqXemQVSIBkpjvOfr3HJpjj\n",
       "5fLMJUpdsAsQ+1OrdXF2shebctJ2Nyk86O1jZ/hSzc9FjMV1IcGUy8t9n0tj+nwLyv6+b+6dJFBb\n",
       "uWfqBL9YIgWsFnat7iOvX8gL1Ynb2Kspx6Ml/thkZqNIsRSrfwKNTJb4UCEaQxkguCbjjB0zl2IL\n",
       "SMolNpTd9VCKi+6NV2j5a8q1Y7pkkFq7mKYPXIa7Ud813LTOsCLKRmGgMq+T0pBXKYF3+Bs5vfHa\n",
       "47ti84Zl4hKf3w1eqOU6qTgclJc07EWS6H6NBK/NAgfg6AsYMItqkvT4fP1DKOEytoktUkCVKovq\n",
       "ZdT++LPnL+v6i2x892wTCSv1D9gRfUAQpyIvW0gySyzh/YAWAWAL85wTCTrD+LfFPkEvS7fnMJZf\n",
       "UTYK+fGitvCABFF+ABFYl+mdNeQkJRNSL0RK2taZJHJWn8B5ns//r/8V+tqqNpzeJhffYYFBBdTm\n",
       "A/b+C5ouEOpmITqLz41gK9SgHbvJTLT9c4DcPUScc63fxlVEc76YVa0K31A9w0qyfESJs7ssaUIH\n",
       "UAtTHw4CwTvaddNeI7UVMO18AcZXP2gGIub6H3+LnOFoB3KFev5CB6o9mjhi/Spfr0i2it3X87i7\n",
       "2Lj34eHSwJ3lM0fjlVYHGxOhdXN54Kb9bsePyFA+Ky2QOJUW+fMrSr4FRBKO/gEkSO3QxawFVY3q\n",
       "ZD0PtHPNNVmVFTg8TZ7FPVxRcAJSWps6UoFAE6fA6JXjsPTv8kJztvoDN5F+E5J1zLghE2XPW2hC\n",
       "hwueMSMM+Wl48sNkWNSc8bxczF7fubCO7+M+PLGAtAxRZWIz31uBeSd4BE7vC6rbxJuozi5WWYIj\n",
       "MuC/sObl4Zb0Yn8aHJevU8YGWgxqr6kplI79N++fAjjGghPw0G0VvJkr/xMCu44YxO0C+i2/EJua\n",
       "7f8phq+0RvULoqzx3qni6sier/D5A8jFUOFwB/AseYQltEeqUGG0TuSfd+xHregUV/i/RcNem8um\n",
       "RKPsJJdUd37gsGpXtDdo8j1xg8j77d8TcE6rCYru0yE9FSg+4BFZTZofqYaOSiYHY/vtpjIRNB6J\n",
       "VqyA9eIRAvsE2jzoJ7eRxol27SuKiqtGwwqrqFksBuyGyl6kv8+A+GGJ1ZGuMQezuce65OF/Tv89\n",
       "/rwULvk3DiEVLc5cER+EtrTClfw2518lBFgFUnbLS1+ZjHNt/2uh1Q0BQ8P6S+h5hVYDMBELQ//o\n",
       "7vVnJfcWbWsBIX2kdBOqWFZZGtyGjXd84a89W1QAFVRf/FVhP6W+bS8aNZm7zyPVF32OOUTdMf9b\n",
       "nQC7Io0/5GQeidJCgeGmzKj7BgVs/EnIm8Y3R9e2rEW2w/zIOY0ysT1XY1cn8y1vkxN3i4HlgVoY\n",
       "pIec0NOYdmjZNZPpIHgNqhWgKu+CUiU0gqku6t5MgF6Hk3iNR6C/qIUBurGT18/xZ9Td8FYySjpa\n",
       "jslBHw0qPq8A4Tp8w+/NxIRYT8tDw73rLoCGR7xFvwbHhfIf3qv/ekQvbdlwEDKs2EZc0YCKcWl4\n",
       "2lnY/n15HTlQCqM63U1P/jmotlJhsUpRSZ9fBenc6TgJHp6AWyMx8Y+zQmb9yOMD9SD4Z1sIVmB1\n",
       "yh0KCAlKnO28MHU1w5bSyCE0OBp+gpQQh41mxulq6di47FztO2mYLtaBmVCABW8m0e9kH6BP7cph\n",
       "mjbTe+j4ngjcrD5tvuKdKdJDYo8o5LARmnTQ50QArztUHfnnpaSYfVYao7N482BoH2TqC1TgJcp5\n",
       "LtHHULj1tqIZweAR8rg8LrbuL+eAuf96dpy2IYCGKxbsgAaA3iHmMGTkr7Qw6HXIiknULrs0ehji\n",
       "GI8yWqH8S/CUt3GXr0O954P47on6hi3RYZJq9rSX1Gy9ZYH72RreTppxdI2e4tq9ka7BPE9XQKZH\n",
       "laCUV4Fxwj9dX+HwOCDjW8MZHYlaic34MAHOsaJFAGIFJWoWLn3XWWHzg+6KM8GXCPLjLRnPWawh\n",
       "dFJK6M/eQy09qU6xEUoK1UU6OU4fL5P81j7GhlJ6MRbRHrfZNt6OyPWlyc4grW7S9lwpT6dYje9u\n",
       "2+gboCoWDXsan1iLFWQxgepcnnK9uZJ9qU2/g8KKZTXatYfS2fdpxV4TFIIeLY39+hjzvVFhmoYd\n",
       "HQTMyU+9ixSJjAF0c12JTHKW40h51XNkVxurebKZSO1oAZNWfUPbHhQ3p9cSkNlFBHS5NGk0kd9j\n",
       "e9NUbhUgKUjceBmIMw87l1rqP5YIzZXzhmxs1CEl7n59ScmjUTKfx3ecVSzTdQVTpavPhTTYnJDw\n",
       "RO7BkZYdx1AOmi/dSKjJZaZ5pqsSiTZYkZWCR/4zwvk4CbvqDSODStFynCoGbdaxQNsvwCOxSnBI\n",
       "gnnCuGvxKI4QOYzCEh4NJNagCjiI/QV+YqfIJsrbow///6QYEaP/cMQA7QkoBHO7+0vGbSOcLpvf\n",
       "zKzm8Zm6TIjZg0+9LopWrCsHPJj2xFZ7r7qGJqpCFEfHEAhW4LQMH4a4qKthlXSJPX7jceq3mJAr\n",
       "z362O3oJhsJagkEd6QrhEy99kWnLTZQuTd7GAbckJRKpWFFQoa5moEP9kHZqJtQJrP7oQi7qnebD\n",
       "rNJeNLn+RqkxVLu+oRcDP/s5zzhgPXcmXNP/b9O/x1poeeg904ndpqcT7uj2zSc6YOml0Ue9J/sT\n",
       "9gc1eMipAtOI65tAwhHzDFwHJPLDzL700Em7zldKuP6p2oT05gVzuIO9MfcyHlCAPKPS9g6yHdZc\n",
       "BlZauopmABCnjOLzM2+2GZtcimvCOwad9glsjnBKrL/Llq9T3oT++cNVH/7tou7cb0+983+iTdeW\n",
       "WuDzfRgSWczoAnRFsGVoUMmzjSZLdlCEAHLtvbf11LJshdIpgbLY5JS+JYHiEC8xNzIkX6e2YGI5\n",
       "VjqGKwqyUw+r9OJ8Ki7YCBCWgRquh77nINZesBzs2z+WFJEK4PgZDe4jtvumfFzK4f+WFlx/fwSk\n",
       "9vlV9jONfBvhk6bHVrQJTtqy/3q5Ng3YKD8ridzeD6SPtX6/JWAJije1aWDPscbs4Mn9rDhtEFqc\n",
       "hlxr74BRD+TtCPkCX9ASgO59VZp1/kQu6R6kJsWWPW9JyENzKUJq9EOUisaQKgH1fgnWu7DY1GZW\n",
       "vBKXOKf+ti0aBVZ+ckQK2ErBb6W0QbIseW4sAHx8cgUmY+7keDDlUgHPdgkK9vBFbALRkezdTNUT\n",
       "Z2bynQWX9inIZl6dcx0kpsFIuoorw8HtiUZBMVonyOAOMV0O5qg7lLz5fE4naAJU14xDKwsc0YdC\n",
       "n4hFJbROboC1gWGcc/cgORqzeErcOgxpAftHEOjEPphZrmZn1mSo/I4/myAR/nmKGC7J5//yP/+1\n",
       "cTefCdB79FWFGKRDb5gXvDRQibj/+9K/tt04xjY+MyoiXT2bO7QxItLdigSV6AAz/kG+moBOZwgu\n",
       "Tn/rM0bdYzOtu7WcUwMFqlv+L73rWuw41gfVCC6R+yUe+qYFUS5yze8IwQp8/oV2ulJ84sAx8D87\n",
       "nkoKN9hQNL2xxhNWXkQOnGjaphiZIveE452pG//y8Kh6OtpCZQCvibyOydFnFAGLVIGFEc1t6SPu\n",
       "iwImrMN4gnIfuD6pmGhHc+sygdo9wXS9DAdP6vpGUFH8rwE5JCP1Xnqjq2n2ka+Z/Au4Xam63s3B\n",
       "hRTImxsdHSMAGQF3p5v3n987xWnpcaMZV8M9xADD27MH6EUnuATIe1Kn8/bYmEvp2q6w9r3wPi43\n",
       "St3VOAkWWnsK6XKf15q9qlxCrypSV7UZvy80+38tOyunxtNsiaU9hqVxwivmt8tL3PGxfmEZfd4K\n",
       "ZCR8nD1WoksQB179VyP9GnGUaB7ML/cemm+dXEnlKPwctgvG/n7qXc9JtUrHCTfC/XDxY2OzGXAo\n",
       "w5X6k4xksmHjpaGgSazWOM8Lh528g7Ik0UJdGQCtq+z+7389/Hu6GJL1pzyti1n3ITQWyYgd/RQB\n",
       "Z0jLwry38nya09eNnuE/PtSDuKrD/hu0kCkaU+6tS+3gvAtaPjMfkgQOI3kc2lKEX/256nH23xjZ\n",
       "MP79J+1xrXDcETO1tafrnkv2ME13/4P/98xbOy8H3M1qxx+pzaYSoHeWGBnijCRJV9wa9M3xJurw\n",
       "OQYl2Q4R6SFZXqvGM+JP4+TIfoz6zVD8ujoI94B3aqPaPMhcG9mLYf/xhdcq56tmxohP//1WuXGy\n",
       "1swPSvQb8F36F0P2+EN+XPP3ZzLpCK8KgO9gO32x8To4znSx3E/3b6RJm8BkcenNIucok3KsjOTS\n",
       "gpwD++86SD4mabUjPYVX80+iwi21+TGeRR1RXDfMv8ouiv6IEZmXpabO+RP/hK1f/5eI9LZMyky+\n",
       "bwJGrsuy6rRcBwFI2jMF3GrUWMITd9uNytyEQJhccVBoHv3EVCmK49rDfaK0+VmRW+UJjyJvIQmY\n",
       "39D3B+HZWwYjwaGKrnGOR7k6hCatHXQgMDHPVk95Sj/5QBAoDf4/09/eAumlc3qsqgYmWsNVrb6z\n",
       "faPgDjy0wzvrLuF7LlsL4j8T2VjiPGmQA+JNU2v6qmeesgf9991QcThTNL11M1krbfqO78ytPmzS\n",
       "4hlE0e0YJYimLZtR2ag9uJ/h3jVXRZNJnyoekIZGCaY6gM7PjyEfM6kchFz3DiOpx5QoHtIEMCmC\n",
       "BPDpAmJg0RPHNGpiFy3GWyn6L+GYuaZ2neLOumpMPe06LGc+mxtU+g9EUOVVjyMYsZA7xAa1QYSA\n",
       "3ikNpvyCSXRMmIm2pQJ6gl1HHW+vpPC6ASaWrijSxtXtl8HNDX52a5cR21TXGUanccs5bqYurSxX\n",
       "tLjNB6xiEiVPlSH5fTceH9oqlWF/e6Pnu8G62z1Z7BGWnGDTP/ovPxNkt42g2SdEtJcn8FPE2C7d\n",
       "hiUhx0zjaEG/flXKGNXm7zhnpHCoY21izX2xS/uookLbowtnKh2jdC25jcjIeINcP/JWNuAhENQo\n",
       "c8B1fhxqFfsIt9msbJlRfb1bde1tTt6s49tfPOsJ1gCKg8QlQzvvZDPsV53ss0PXtRrmvy10bgA4\n",
       "hI25b2CLHcVMtY7Zd8bt7M7uX7QJmwVk6d0VVU14YCRaQ+96wlzQKFAtfZ7LQI0+H/dCu1CON6zB\n",
       "b9+LtG1SMPMz4ACPi43KklMBe1fgExoAHc+GazAHDUnMkiHvfYjuTVpHlq8jnMwhua9x2LHnEsT9\n",
       "zH28e44EZOvzKY8TnGbSreIPWmnDJDR25SfBconjAvFLkii/S2eB/T1nRtFQvcoqlHFKeyy5TDfT\n",
       "aaaIsYSjoKwJXtIcdIoPcsf/OYhlgG+Tdenq7gNP9tOlUl/Dret6Nz29K0iB9rF9WyvogwNQP6ZK\n",
       "wbSg3LWvLC1KPsfPQ+joNOihBnSlpjynpOiDvVqEmE6f1m7HGShjOKvo6AzGeShLxZ3FM2qgIREX\n",
       "YmorlOwt9+mxgmnH3WMy0Tu50AGVXoVfR24hN6lk+F7ZbrkgwJ4/1g6reXVsxCHNEd21/Sh6skeu\n",
       "FOOAprgkiWWBr17qJG6gtA8euciVdTy6mZ86SD3yA4xKo7u2sNW3D+YbZVTYOycvRZUY7uOSxnVe\n",
       "Wjh432RZLoW0UiavPMIYmOMPYvsQwDR/DoA+w7khKAHRA6MX1IUl903r7UVbQtKYzhnvRLTPK/1t\n",
       "l74X8Ga1ESAmg8CdPHleWlxIkdRVlkiaEtwd+V4v+/y4i1mXXCbbmX7udYhy0tIWdYYYYRvANeti\n",
       "jFj4dWL2wWP2j2Gd5gtAvetf4z53oU+AK6CHA981psfvn432S/by711u1ZjO8SyndY6Qq4L8n4i8\n",
       "hp5yxlfWX/a2ooEmOSvoS1FJnpbIW5sJY7HJaxxzIf3hGd60PHlwqDYOTiGrHyB5MFogyoT8csPE\n",
       "4v1cYnAInk5aAdY59Rz3aiLn1oCuUgfC1d5YGNCJGXWNxD/Vd1vsBAgc0Totu95o0KXTWCL2GPiL\n",
       "ntaqa8gl/rZ2wVwf4lx9nnLhTXXmaSVRAlV2i2OoVCTX5nGROz0QAF6tyNttKzgOLVJiqXd9Qizt\n",
       "MAXwuvW0cr3Y41Kjy6DNmSMf4dV37J+qAThiiEY0Nr4qNtSdnLMaujLxaeGq2EDpl1S5fHydBAAA\n",
       "AwEuVLqCShwv7j8E29oa/47IZcD3K62hBmmPqj9P2rR6xv4QK3LV3B2YFKTQ0aht9MHbtlnaEimd\n",
       "0DjqFtoUeJmO9NwT4U7dO4ZBzYNIKZDrFVUp9l57CnuXBX2C22OAUVlXTqUJQMhP+Kp9bUKJZhzC\n",
       "gKFkYiqI75IIY8Xxrb2gPZEAAndi/EBCQzzN6bOlFPTWdf1P8yz1AsFVX/snlZU8Stsv9SpAd2Hn\n",
       "cLNFCge1KhQFIx6uwV0GLDGACAqgBbQLjTV+CdL3Oh9ajnr2coUEJNMT6NoK3YkcRf69HHlpPvO0\n",
       "PccUNqRRiiwJcLgNdQKDriH7WeCj8nJISRQPmnn7bzx7/peSrt0BhwYCj7olL3jPhzfmhQUJHHyI\n",
       "GUl0Ep7RUxZrJNJ1dH/1HDsyUCRR9x71LWSp3wTQAgjMf2gzDJ+V04XEVzfmHdKtVSdJAQupzVMx\n",
       "w1f53BAwNwyrEI3Vs5PpU0oGKoBRviFrcIzb2YO0UjQXWOZEAYwXrhfjbBXV7vzLm1rfwTuHLmFD\n",
       "+r9bArXIsAfAHqZEUy4pM0oY79/WoiPzv+X+eGb7T+xaTQ6fUKpSM8QDNBHOnmh4a/vG0jMn57U5\n",
       "xhsHhh4nCW/NbqeWlWn2JYHthYko9feDO0MAXZJJKCg71RdRaph01gTOzNbYXrmG4R7pub8mzqlX\n",
       "CkbYJEthAov0W92l9VP9A47e2bHYNEnoeiYeL4pxIRZzQV76GE9oUSPg7qrKv7alniPkTsWePIe2\n",
       "xW9KaLSsftQ7E86aEmlZlrvnk8LdkqLJgFx56KWv7imJrBkx/zQOL/6AItsQrq4BmjD/cjr2qoiq\n",
       "pbj+qO6IfX0bQDmeJGNNJVxlWgu3Q7J55Tkv87dOm97cqBzHmNHGqzF3ir6FMf41lY1n32KPQsFh\n",
       "E/phUaiP0x36xIAsoaIiyg5SYyWr1BWPbk4OHIFNev3ckec/kyvT9lsWdENMFZhIGMkce7omwGFB\n",
       "Xf2yfwPM3mKG9y8xsYBtg1R2pAXEeCo+4aXUaXBVFjw5A25Tz/saqdlSDZrDmmF9pY74Au4846IO\n",
       "o6V9iUMGwP9ll3U3dEqq7hSOzAdXBSmBFcORs8CTCFuTuJ0n/3ziXzlYLyQG9RPmPz78mlELi51R\n",
       "0EVFFeHjE7knPJ0drUx4Q67Q/AdPzRQyX7vp6AuDd/bLyg9rWXuEOG+t89xQ2FaKQcRMqBsjVqXC\n",
       "6F3IhfMoc5YjJXs3W6iLC+ZqGAUSgLCFiirQZJ1rNH/yBMsmUUrCfa+NwnmXLdy79KFXZFTG1lrG\n",
       "HmUkymp0GMVd2IrEWGK1xxmq/z55ZY2XeYNrsJJL+MqtRZ98HURWv/7z31OtJ455R+NAehgMxb5A\n",
       "we723TQt8bLueLdheu+tt5hDJ6Erv3VZfilPFTNsZduB5gSnHEtj0GlH4jHO2c2UxdTf5yrsat7/\n",
       "mf/83ldqym0FIgri9194ESgSHnrWAe7X7EDVXGrDTRt8B63e4IEjFISaMj00DyKw9aGXgyRMRwpW\n",
       "AoH+FLEdwJL8VcfmobNaZqBHf8CxPV+qaXcP2IMJNDt4ogtHJxoU5h+rjSPohbO21UC6nT3Tzryj\n",
       "59Jv0AeUfJQi8y3y7AjJV+cWVVMQOj0QQb91owUlexOfQJw6FnhshzHsO0aZDPrwH9Wb0O9PQAhk\n",
       "eodqbGiMpgwTvEC5aHczpEVqJruZhaZfuKs7RDrP819uS2nkKBaZfA9j+J1y1kTgLO0o+aZQDJiF\n",
       "9oDZ7SJtuWE3H3XpEb1mRHvzMma92ttG2A+2kf62rdVNojlBSH7Kvb84RFfuGmV3Z/LLBnr4UMdw\n",
       "ZF1oS0UM5eIQNQ/Cj2ap1JxZFNFXVdz4KeuqoCWMZ3ezzDabPDGtNSCwbjeqAlcSd0erBP9RAm/D\n",
       "Cga7Zfw9MQu5eh3GcV4yPsqf8cifpyDfcaiaw1vq6ucwGzNcWKJyBSTFNe7ZSvMQxjkmQnND3NGj\n",
       "NJ8wV6XNUNG75S0yCzccqYtb1spUhh07c+meToyXlQQrbHfLOFAa0NtmL2XjJmV57+Vp/AiHhWAA\n",
       "BfwAAAAIBgEEAAIIEIAAAAoAYeAiHf/+jLAFWSwDRi+IDd5C8gWt0YQbwnUN8oXTQplAtm8Me576\n",
       "tg2OAVNe+PqA1pJXLUsJkhsneyvnQoKRcT4Lro034Pfgz5PR97Z0XGbl+/IRWRnDTZ52+P/lnga1\n",
       "DJ5YXQ+Ezx17I2Lqh05posSAyLo8B/GSeK10dhalzsokU6aB83MCr3DzhPY+qqaWgVXuBidhsj0H\n",
       "JQ3XSQGbTwvBSgacwAMzDVDzkDEiiWOPIZrafDMiV5l3IruigoBnhpaj8dXOCjh06xImkqerxVgI\n",
       "b25xubapPXZbZes3DCJili5kxzn8RNNhKSx3vCKIooFsXM3Bq7+5p6jKnOicsjqwLUch+YeHMh3E\n",
       "Uur7Nf3T0ksehS7CeCHFKERet4iCbJ+nS8rlwasVCzq2A8PzNdRIVztdCiRMNVmwoPC0421xnwBL\n",
       "kgQVJaTFKn5yB6HnNGKxD3MriFE3rja2QCeOHOze1AHck+NfD4qRGfHMMR9R/ictp//41nAWtl3H\n",
       "TTU0ltyrQd/AUnNAhMjCAxW1c9PHh+O8Lqxo+vGOg+BFkIL4nQRWS6ED1BH6zGDMFvQpQ/dHapsY\n",
       "c4HrLPkwGEgIaKpekUKwXGw2sXC5wq5iZS33mWB9WDumCzpT+vCyDKP/mfil2rjvhJ9gHNAlD1se\n",
       "OVJGHiz8n6TBDjnoWGWY4a6WR2R0ZzJ2DaSaNvsRZwivlmIBu3mw9q0SROWvwExYFrzUuA3LTdM8\n",
       "IiCQ8OHLYszvii1tVb3c4cbfpjBb29jL1p/UslG6prLcdw/mp+v+jFetU3spnUX++zIj19PV5AIJ\n",
       "Nv+GS8QS8pSDdcMAA9YFNUHhdrCAu4Xo7XGf3SXfdLhCUU/K3q9xEDiRWSnMNXeJof/uZoiNWH+7\n",
       "n2VwMFf76mNt7IAMN67Whhdri6hfVehJQjAW0ACViMoMJewPhe9obefFAeMKN1ksJXfM/Wna8unY\n",
       "ffLLM5yUtkDIcBC03tBI5hxHoQwdX6RkVbzG9/modf4OC5DXlB8g4XpACdQPKbRJytC4nvmWWSHr\n",
       "+ykkavNthk92b0RI4W0PFYVrLfC/ADiQIXooKuS2U0p8HRy3ll068g/iwFF7lEQui5dH/zyaaY9D\n",
       "YgbyZKnsScDfEulSaHWdYLD1ju2ajp1agQzOvZxlBuqM8x99g3bEaO+pluearnJhH1ZjEp+yDWdw\n",
       "OGDgM3RsGfLzaF0rzRQpWBNyfZ1FAc9wrlBBEc0Pc5shtR9uGLUbjx7scYS1fcTaReaw5A4TWSGs\n",
       "rn84eyhgARr8tVN9LKLymYnkN3fr7Z5oJx4xZDE4ryvsdKExlWYKr56NyuKWtqDT31AoXPuw6yuE\n",
       "HliG6sLaXRqWraI9QERAP7eVuXckzSyiOCpZ5kBf7qj/NAyyEVbw5wKcPKd8uvK452zcQysBs0zg\n",
       "cyBZUTxel/WT3RsnAmtzpnPwbSow6+1fquP/GS8oI/Y3qukivCfdPXaEp7NXUzEk1pDtC999iJxh\n",
       "vhrixu1f4zBPxJRMG3p+XR+dCvC99FUrqx2FGP2//5zI8Rn9J+a2bUVr6mIdiUTpUp1k97gHnyr+\n",
       "ySaJIsTci9E0PltnkoV4+IgIucBTgv3WUf8a2+Mk/JSsc1q+fRBHe5sg7TXRc1gvJTYQODiD3lIC\n",
       "2w/Ac8c20OTbVv57iN/XPRAEDUop2Sgc4JPMZVgcPm9yKO+Lm0RhUUrq04IF1g3/eysKlm/isgVS\n",
       "3duScQLDXk1g7R8QHYPmvv3gZ+1tlPDAcVrab5c6Q/h5bMjZ92kXtVUYC5Fp84rP3X2p7tgB/8gv\n",
       "OBPXrZCC64EFj/1sb/QPTLU4jufe8TULj6Ld6dKcFzCcSiCrcdlTJhJQIV0J5uZB+1CbYydtIgAU\n",
       "qhMTyCOfyWWJz63WK/kYMIkGmcoEi4Lia7IHfwNO2gUgWWjz9CEzjTwLEXNG2r678XvO28jwPq/2\n",
       "spS4Ni2KPRRHMl6VoCDEkX/8i2DQYvjaBGIQtT/p4K3heEOg7rCyNq/G6Eme6b0bnKzjmu6nATbM\n",
       "eijsTejxirtClxC9tHmz2yIA23smX2EHINg8QEiTKhGErlRcnPbGgz7ozdyKEBeLrf8rswzs+tcY\n",
       "Qtpla9haevFPrVHa13kO/79Mbg88mY4jdwU3QgvvNyPAAQ6BldQW/InYtdz8nDIzNZjb3D/3k8gV\n",
       "CeWpHReLwp2BlCKaTdWvvO+UBlA/jL0fv+NTDRQg+gnYWF0kRQ9XvM2tMrWjDOgAGL+hsnBzdili\n",
       "JCXJ0HaiSRl4obIYbUhqMNC/5vx8hXFn8lCkg5YJgMMvJfF+b0a+nQNJNWJwT53DzwveJKteluxi\n",
       "TUvdy0QaX4vWl2z5oefQ/4cgBoBhNIpDoYle0Bg4zWYx//TE1+laEBzRjT8vlHqgs7mq1RhKZJP9\n",
       "5FsceU9Coq9QT9pgCag9KpH5mDCXuXRx/GEbXqCg1S8oE3uKP2XWvqwrmKy+UKJ/+eZ9XHTu+uD4\n",
       "5lxp/YXZSnm01bT+Mgje6QSJJvvYy7qnsrZyEwnxHB86cu1GtOGcT1kvr6f1kQNA+SRZCsOgDCQG\n",
       "L1pfablDPoxoTcfwP7DgPY7D2d31w/BBfXjj2CfcV/+8LCrDA1aNtl85PbVMTpFuWx1Zi8E8Na/9\n",
       "N+qTJYXawVruBNJmJuJc0Hag4jAw1cyJYiZF0kqaKopXxFoKi22e/OPTCj7v72XB9dpiRjWxajZ4\n",
       "MsU+/m0MOgnipbdJXozkDgrSP9gBXqfFJqlMAWeZ1B7vMO0PDkWV4TXalnF3SH4yNFvI/BYZXwpK\n",
       "qYNGYIhU9an5svS18kdMz6bu9PFcF1LTGouwR9rXapn655wXexCC/xee3+M1C6aoX8uLCDjnmesP\n",
       "NBsSah0E1f/sRAtiuvDoYFrB6eqKIS1yirrD4wX69vhS57ieIx7v5pytBIp1aL/MFsz4jzN4oSZv\n",
       "CnVm7DKV6phYOIKb7ZZ/Nfqabk6/SmkxI5kHNpBjLYXYQ6gEFekk2McFvmn04F1MCdJ/87iL2kMs\n",
       "yLaX3vqXCVc1Ibf/6os0FUPOJXJwwfxIeX4NdeI/QIDs7/i8QCxVfy2gEAMoEBfLxc1M5fTJ+krM\n",
       "mf8UpEm3xxontD30aTj17QJHr33a9mxIUFwmoCU+s1yESSVXL4+T+v4Tzbx8ZPkYe5XM9lUM+/DU\n",
       "AIOMWBHczGIZCeY0prowspAMrn26CALFitmkKV3eJT1r4OmDlmQseoeT24st0mvVABsFTe49pM8L\n",
       "GPCgwOWOfGWNR1vqqH7PH6TgLh1UiBr2H+VTgApGb0c0u/Fce+cDkbqKlErQltLA5WxdzFj2yzp4\n",
       "8j2QCEJAACG4Byw0IzLABnQbsA0d+RldfLu8NS5emiEFt4WFuKBy+B////+73GW3M7//fjhhZpYH\n",
       "83jv87RbRsX/aCrkXAAAAAgGAQQABAgQgAAADFZh4EId//6MsAA+aPoHju2S2Abnspw1a39gR4k5\n",
       "WEnf6TLe/+H1PWJjrNKOPpPRHlfgQK7SXA6wrSHIm03Nzho6G2uhc+BRP1EwLeTd5DsTx7xcKZiY\n",
       "zCBm+FdH8HbxniRks0kJd8JUPwqHASqGG8c3ijZ4YCqdUGY0GzplCQ8FV0uPyifsbsys3aKB287Z\n",
       "lRS2lyjz/lntaGJkaywmYJ0y/iSLQehfd4n/E2EU8bJKNzI1MAihkNt3vsfN7iL4UqOE+Ftpx+Jl\n",
       "iSfCaEC47BLajQXyc3A7aHuRYlYGhccoMcoqywTFkEjIkQvAZ4G3CYEZt9n+ZPPubTEKmtZeCFpj\n",
       "9UZy1H3QlOATeMJz5CyRoUdSo1JUbolzuoBketzWilvVFlQy62n2g0PusOcKbiCZF5cMawfSqzWi\n",
       "VvRH8fJxwkmPqw5a31Bt7RNHFyD1bppKHa12T8czbKks+8FbiW6Qj3kHEqUVAn4Cr3/dzkVRpAFI\n",
       "t6fs7wZzDyTJYm2L600ao3LWSLxc3Cb9bixLN+rQSczoaf6vAjzvUFdZeZs69aVVzh+XPgV+St4G\n",
       "0N9x+kNN6Hpl+llQ7AKMzlda1ZGHXMT9n8vSHmXEig4PiRqET20Gw6ZbRzf9hDLZiLsgrvX1CvC8\n",
       "4Pkj2m5ZHnfQenfQnOaEg0QhomVuh4YjdorWLkejkYhO88peqglYQnp+34rXakvul5EBr1a/3AqT\n",
       "Ru4S+rkZS4wI9u7ZsQv6sKcbupJS1NX4jDi5OX+x1jBwhRZviF1/kxtB4lYbE48ZgNHg2xJmIR0G\n",
       "pulUr8A+jdyTTzkEDGIJ2sdkZshM6uYpGhOAoLvcZn4mD+tIx3i2gy5FmqB6jD13sR4TpxTG6dOa\n",
       "1N2wLMauXtqlAorJTuoIlsbQKLnP2fZJeQIgWXouTX7Hw5U619w7uq71bGNG4M8yDB0AA4F0DB94\n",
       "BAUh60UeLcoaf6ssBhhtBUzTAuVVxTbFjl24R/QYO7a3VhyfEXqtOveqpZC9vVG06IM4ve+zAp5F\n",
       "ek5i8NJlf9wMu+FxFYxsA1SrpM/TxBlzBO8fXS66QqWKa4cO4Tu61/2Nj6xo7JmHp0yszzN8D9Q5\n",
       "olNAX0hO+tkNaXXx0MVTx0ZWzmKaGu68Vi1hMzvybVYKKgc+1j1FOz0qBwQlC3gkrNlu9mtRWPyv\n",
       "+VW/HIQMz4K1B7SdhLFyYzT0jwTDSL1hxiY+wtIn///7aLxY9o1g74x5F331adRzKExrd+TwnpLA\n",
       "0JaVnWY5nNPDN1DVlE/8PEVJ2pMVWrX51pTcgMn9o1eSrq4X83/G0+EJkIpKSDgRUK09inFQPDdq\n",
       "B3IBHVvTCGpU+AIMPSouFhf4gFb6iCtE4SDRCaMoMC34pFoEAfTsN0dqjAwQiKJDzaXSkRaRUGqV\n",
       "3UpC5kgEhgnnCiEzU1nwQBD7AIXaCMQ5e7OmJAVmAC1tYpEhwKT4ysWywLzgBuSAaj/tVT72bBWS\n",
       "DhxNDK6gURjsZxtPAnczVdtsEEwhbIRmhg4tPQ7lYuyv5b4pL+OUmZrmtaqqYitxUXynXXPoIIuL\n",
       "A3mPw8noQJFSyBWNATW09OjNb/efmtqd1wjPvKsIpdX/KAu4zLq6q4Ff/PvGof3z6XY/Ltak///+\n",
       "kOqw/cbxhaitKyxHsr3EdkqyaBAZWibpTov25gD56NDhbnSGppxNy0Mg8BrN8utlGegJpxxQICtk\n",
       "ZSpfVCbKEG0ZfDxl5BsB/NkdXa7lgwUG9R9IB1jCb9oBHFQC6HHv/NMtKMqyDatW+XGANh5Shubk\n",
       "azrTl4egAiTOQX7LeeVuApD8U77ry+QDBRoKKX+RTeiY4zCbwzuQDu4tiR5Y8r9+cQGTlXAKVC0b\n",
       "CA4M+VijV7qze2ThBv9pefPfG+4TACs/1/j/IDkRzTJFN4z4PZ8s9j3u0PFzdlSDEYnCjy9sm2jl\n",
       "LtO7J88f+2LrKIJGXN+TcPSOzihOHZ7Y51r55cwkJpO0eoQkAOIb2C+5xsYUfhlgz5xW6JviEZ/3\n",
       "sUyrPRp5IPadJjBqR2v2mKH8NZzxBULABdp//7q0lhbAcRNHQlRwuBtZzfvng3HSCk73R0R13nrT\n",
       "jDa5zx8z4v7xFEP1oRLbAi1I+eUH2yI39PLwZjXahMraRhwXk3YZLHqL72uulBrNbu7lGDNkulP/\n",
       "+zz0yj0tI4oN4KIvB4+qsr/3WGhgCL4nhxNOOdm1SQJTox7QFfzsUnAQYGRxjG7vOH7hXhiNmZts\n",
       "RJ9DJMHyp6IU3gNTX0xAYz3YP7hLL0HATFaaV5AoL+sxt9NcmAnFME4dp5V42bcN+xxjJ6UaiLqG\n",
       "vgAkufH93/6ILdEmLnvXPw1eo6hwK9fAS9yvdWWBTwZPtV7R1Qfge5VDH41mcPuRFSteCpi0FOHi\n",
       "bemxSPvi+YsD0H619y1iACdgJtLUhdZaBYJOe93Q2egDHOsHlZzYNxBExY3erQ4wPmoYmiFm3GDX\n",
       "NW2mMxSgntdCmNNY5LFAQ8efGg77dBmnEW08S4BH4rFI23RlEj47+SBW49QBkTApATWGdc0GvAn1\n",
       "H3GA8tXCU48NiwqP7JGzpUYbav7rWdPrslRlKpuRCROrXzKRytbZKFpuBufp68H9/wYFv2iXwUv9\n",
       "4v7eE/CRw59rYV/r+aEsuSxYaw3k9ZC/7Lt1TH+H//EUqZOPj2mhvkrBRCPFInJrdvZmFzQUshHr\n",
       "RuPNr+Rl7ufX9r/sJSLCaY5amP7YBfPUdGLTMIvfCMdpJC6TmlfOK25NOdyZR+Z0MiwOB4/Trd3U\n",
       "xTSlYsZM97xqNjX2tEYSMJvXmc4d23T1Eqf99eX016ksH7K5g75qijFdzLG48ITS457vVlrJEiu3\n",
       "n43gDBBlrIgAkcXJLCVpAvlsg8K0niGMJBdTJSKPrWSkCgwceBdw3z1BS+9jk4/ruIETdxuUT+sH\n",
       "zIOYSU8DSy/tHjveyqSr9a7qB+vOfdLJTLZqYsD65Xy9GJrAoxJIybM+uKXRpn8Y/yknRDzpOfrf\n",
       "d1JcyMBoLSQM0WdS90Y20LTVeu2RXvA668qgJFylgXlGsjhMdrSqcQwfU4lNEPbxjy/5X/dJ6BLL\n",
       "MY0R1v7pIzGA5dDoJJ8fOdg8M85H5F+IU5rPVvcPpwq3a7x6fpXKuUQSB9N+0aNe/mNa2DDKC61E\n",
       "du9xtZ9aatEI1/qtLB9Ead6AaE0t6KahBFR2Preg12JwRVzcqgNDUpVwnGdFAbG7U+ib0Nlxrm7z\n",
       "fOhZV3p3/FYjHAFlJjZpo+ULfYGHU3+dG8lGK3n8ohfcp5fhxQ7tC1KJ10nOIzCGw1OcYAbu7XWp\n",
       "Ll9BEynKMCJ19bqc/FEs/aLTamN3bDb0W0ZtZTkFO663gzehEg4rOLXUo9abMgGoL11qIOlTvVX7\n",
       "AHDx/miBDX5etfxIaQJG8iM1PqPyrAm5Vv5EqnjqnLWvMjADRNDwRZgr7hGCsYen5RMBmxfRHimX\n",
       "c/Y+Wnw4FN7RFLZbbgexXytCbPqjgUjnLiSZOQa0diBElqg9NNpVHFzd+Ffg3ESyM1I1uKalpeh8\n",
       "eq0+qIMtGigG29OPXj6dKhN8ICe78bAhSgIu2dYwo6i4bQPB/prRrpDcaCnPlQ9MhAhTDdLVcu47\n",
       "dVU7h5fGsJS5k9KB/bgbm1zAKCzW3qaYudqwqMkzF7K9b//+biHTH0jpSqlo8rakGEF7HO6wd0cq\n",
       "b9qZkG89CMybNFB4Row+9ogy6KhtIwIzvz37wKxOllbu+Ug0J4tr6GWYbG4sdgE7Q//ROKNtAiKL\n",
       "5nKyaVPeC0yvYbg7qAf57824whESrzRdPqZvo8XKxQzCuxK+5DdcDRc4bQy1bbFXE+FhqSXzf1xH\n",
       "Cww92gVGlZMiht9ak8zBx8J3EUNX8SMzcXybPIuFQbW/wm38nuSJ6LeodSQ3Jy7bSvUppOhvXn2h\n",
       "BovFlgTuI6cyJuqp4JSGsL6R/aO8x+ATlcHWOMbevFfri7pU3H0zgAAQ0LMHZuZPvvz4vaFp+l+T\n",
       "tTbjV24ELlI/8zGIwRNDaBXWvo8nAAiJaAbT3lm/YC7dwEnc3ZjSsvbMUn9w3vHnm3+vjrrINXzB\n",
       "xtA8UXV7usWASQUNnV/+49CDouY6N59ZEyeIAWXhzN9y9GDXjOnGqJw9/1rDvhKYQg7Rcn1X5BHV\n",
       "SfMdc04e9hBEAB+Z8OKtrT/tZgAJQRjk8rzMBp9DAl13i/XNpaWVYjxDVtki2A6PBE1GrgAAAAgG\n",
       "AQQABggQgAAACoRh4GId//6MsABKEVkqn5kAWGEqFsdntZPdi3vQTqR+HU2ElKl5bILv72VFaEyf\n",
       "kkAXHnPotiTr1r3Wq+ulfd6HEh84c39u6CzsW6Oe89mxBMPuKBRCn2ZQ0QW6EIgfNuO8a1kfx6ll\n",
       "oi+oyX+xaBkqTnTZuqHLLUecA6Yg9hGhghmko9BanjAPMBKn6BW6oynqfW/rKHOWlu7ZsdZFNV9f\n",
       "3jmKGFpna7DttNPyDIlML/GtcepZeCnBBX91E/Qx/rfNWJbfzqhQL0Wsd9anckIkJyhpCrz+suWG\n",
       "8jug+tsnD38mKP0iV2FdwPFbxmRJoFJ72U40l8CXXJIO2ACrwT1fSnOH6FPEW8XnwngINBNyh9QD\n",
       "QtjyW36R2C7lwQ4bzxcADvcoxFhqtjo9X2Ksgj8ffbp8LfGpoIvxviT8FZkbCx6+Nz+56ARqqC3a\n",
       "ka4rJMkKyq4aC7CyL8Uw7k9WDHO7oLuRJFbzYO/jxCdvlFweL0blQCus2Tji3ddPVuNmWVvjibna\n",
       "CA+XbsEDW+tU7B+96ywVdDJhoKTio7g+MT4jRr6ZuPrc6pB1eCA4JfN+GAXiCKLp3qEAsOjZVe5a\n",
       "ii+EtZ8mk8xtRQ/97SldYjVcigpHxU6o++bK+B0nsKZE///ZqHaHstw5iYd2xm/r7tAd0b0LdTx2\n",
       "9MYKcy432wDHhF9nAckWiLwXBgdLH4VMfm4fguXiE+Cvla4337seiestnZYXupiu3p9PHgWwrqOC\n",
       "dOjF9c8SrSPDV/VBFV/HwK+sdbDw8Bcquj3z7WhLJXZ3+sWbkxwVu8Ytp8p4cqKA6g+1IEdYNJOM\n",
       "WGBKZRhuVzQqDRiKH8s/GjOzbyQKLglHI7JtGzkk4mMN26Oo7rBA1M91A/QrAy8AJOZzqbtxdSDV\n",
       "rhPUXs/s7QHDiKzUc1TJKOBLQsoa6EZ2rLLEmxTYa/04fj0V5lOT3E9gX6b6+sgIR///2pgph6HL\n",
       "PUeLs8CK2XTyBKWfZz2bhozBwPLbzOBW3MXz1KsIGMU7uiMCnbzfVwVV5M5eFZuBJ4yOZCX4U4ch\n",
       "8V16nzfiI6pgfdjvd8c5k6M/L5OQeOuSjpapWEFtdptYVv+xvXgJBHhGP+JxtD/f8qOxe2+i+Xd1\n",
       "6PnaOPslVmt/caO9mYAnGw6zT5xnkG9ichDGV49LJUah1MvbeIHyG+BEBLg/omCZ7uJMqT/GMeI1\n",
       "EUQBxMH7OOnzQzajJU/Rwm5mWrqtFq1AfwIUfcPYrkYaZO++CeZmyHvQk69pJUuvTvOcIcQxO3Cq\n",
       "RwlgfZBWtvlAwgwjgf7QXwdCUiKpswYi/J1w4U9R/T8ZP8ebcfCahfdMqUxvXiQ84Tfa1QjqoVIc\n",
       "F6BYmCzOVn4Dt5rPc+32vIx9orY9yCGhZGgqbP3XavOMkso3yIzu7STSXO5rZYP1Hx+WNBU2gNaW\n",
       "OQBhdgmA2M7+uzgacrWx0MhPamShADUAjFbL6o2WZSQC2JgL45IVn8R/wbjWSVVVLawVCR9Hnsnf\n",
       "VVpnr7C7HL5jc7E4nK5stCgJaZpaQjR4b/iad0DAlXD4ZoJucTkr1e3qD0TQ1do9ojT/EOIywDf+\n",
       "e0sXsizVkQDc4kUvAKWQYAe944SphcnEjhaM6VC7nGQzLO8znsCwlS542yxlFynjpvM1YIEkvpWF\n",
       "C1jPi91DM/B3B5sU6iV4+uqaqFOavudhX7AfIvC2pOvQbKB0LoWynKIA6LPWUMhukQrFPdZ60oY2\n",
       "RZMUhzmlHz/bEJGSbzHz6PBxZjQp9fdo/xkDIN0DtXDuF5Ln2khJ2XhqFRxkZ/DzNee/aElr8Liu\n",
       "upiCJt3GKKHUBJ4fVEjqIwm9v2i1iaEvLn6TW1hUwrz1hvUH7uYMznfT9UOi1Ts69uahB+xVpkmj\n",
       "GOwgbDpdUKfshMT4ACNK4Y0Sv2QkFTSLzEAObjP1v5Z+tGclFlBAsnP22S2LMBAPBOZ+8wO4VIcr\n",
       "EV+m+Rkv4k4KHnQnOjLFvQH/hlI1iTtiCel89DqBmWsV2XDyh+pG5N+QQ2QXRBQ21IR6gE2AVBAE\n",
       "PamQ3O91v5904mj64PjPQLPeODEBgbgGCSlzbCNaEFRI+23skx4f7D34NgILGkjkgXOFTP2E/WMG\n",
       "LTlc6gSdbh3zbHY+7CLemHFza2FjrdEwNn9SrLP3pAHDMesk55WBlwC3FchzM0bxn+r7o98IYv18\n",
       "n5bIeaYtAr/F+m06eTlaOI1e+6xPOtn9cNtBv0fVC29ArImkzYoyHIo6mvBQgvl9NJbeK54GMICe\n",
       "ETTpHRoi0rKEjQFGbgi1ZW0NY3RfSReVjmUE7GJ3tOL+ZWP////wXi3ink/R2wwsqi//UV8lAjh7\n",
       "1bbnl7Rix/0qKHi4p2XYg+TUyNwmaw9pAgKccsm8wYgMvrdMIjU98+IhfRasySO0D6DAyAZg6jGJ\n",
       "K9meL89pyNxdrmYQiVEKBsHA/GZz/sYaehJAC2jF8x757BnX8OdXq15cQoAM2bVCQbBRMSjje0j4\n",
       "psGqvCwvrG+g9WDQGySRCw7GtG+aHbkhzpCxnn7P65gv6mhbQqESTa/HGsIO1KHsKfn7iApcUsvo\n",
       "Kb8DS00uKdSJ67t3kHjbbcOidQqOI48KjclcKpaF2q37Tsowy6/4maKC9GF9VWe4/VA/CX/w4cif\n",
       "2ueswbOdqjjQfKnA8iXKr3bOCEHyWWzyl1XY1pjEEGvZDoeqJD9+P+Ah/fhqBrqGwVk6r0icj2q8\n",
       "oraDDdNNWLpA2cHViEfpvCAMI7I/YMN6aULfGutEomLCxQ9fNU+sOpjbF5Loa////vBD///+8YMz\n",
       "0mUWX3umNFBtN2WnvzO2BV+VG5UYkL/GeIsk2PrTHq452kShBztUdUGZrwdg9vwJvc/4+5ADfyOR\n",
       "kmVw978wdh4QdOwgCtO1qfxlv6B0rng0TPt7teC5pEGENoSIH+wXOch8QE9yvMBlETcwJQuI05PH\n",
       "wR87J5BHZ7sVM/aSeq6MiyjkhT82Oxl2QGS3hCTg6p3MCAJvG9pAAynPl881HscT+mtg5tSQ8u8s\n",
       "YWXSmGRSjWmyKyNu/PyP/HoyV//uOKDYro/2GNSzo/8PmqYJZzyRV0+3QSMyJHHWyUc2YTiorGqm\n",
       "ckZtGmfrmfXuYAZWvISwjlrWfXKolwJl/tFhqMtt3iYbSu43XNNwUHP4Cz3Pou6t7ds6Eqiqt8uO\n",
       "bcyRHqe0Or6YEvLEQw60WdyFJmla6tA9EUpP6vCaXN66XiEfxbAsjewB6QSHhnIN2ltzZXBNih4W\n",
       "pJABAaygETP71kNOzo2jqxn0UyZL++a9v9w+y4xYcSjcdQylN417jSlemVUXn+D5CHkAruHf9JLb\n",
       "K4LFOWy8Kiln60TEbx41kq5TKgBV5rp69zZcOTCC3y5nIsIIaDw0C4flMdTDzVWkGFbhCJF63gY3\n",
       "TgOkUIpaCO7yEVAqV4K/LClZjOsPWtLUq8supkvb0kgEhIzkb1MpNWpKCpQUJsWoEXVRCaY17FEt\n",
       "b1iD1p5Hqkb956RM17iBcMcFVuLL/TDdakpD97XIdlFAhI/+7C9vyGPmtAmNpjcrDagSa462Fc6x\n",
       "WyqBBdBv305KwLL03kx0375qFttiqALaAAAACAYBBAAICBCAAAALvGHggh3//oywAJPu/JM0JPuA\n",
       "/Dx3kALj7f4aheNCALWDRZJ/tKgV6wkV8wAnmiDZqHwRHx/eZ1VYstTIee5LLj4gg7QcO84Ew6ia\n",
       "QE5d1on5YmvbPhxZXV0E+AtXqw+f41rL5/QkG61wT2nQtic8Dej5dlgpLoU/XjYrCasQhRi57xll\n",
       "65BA2NL4QCqrfS5nDC0cCZW/ZQIV0eFRIwAyLt6/zk4raL/q7vkAvymkMZlSKFa6bomaG5IErR8G\n",
       "aijk6OFNuIGJop43TMTXt4gMvYBDtQEVJ/fU3WhxKE/L2UUDFvogv3GD2OFcquFh3F6XJ7cUj0k6\n",
       "IuDiePNAwdputI7GQ7RGSwNRxib3L3wfuW2VlKQWMaHJApclwDQvATL39VQYUM5vBFDjGQK5l0dm\n",
       "IjT8M5PpbpNdaTDP2W+YD/OxTkr4KScWGMiXgidpA4jr9Byt8GpTwlSAba7mjh/OzeSWg5mVm9SQ\n",
       "9rkGAbiB2z3Xw3lt6USyHYS+tOFMcwkbMKX3uMvQ+KSWD+GyCu55QztUmk8yIa5oM9Zvya6q7Lne\n",
       "KwYrOpeZS6tWs5bFYJ+EovCApqF9Lmp5MgL8SWlLDUAKK+V23bFUYACb19bTcmgtGj+vSki71WLA\n",
       "pMBAJi8YH///ztHGoylWrO+Vf7rVhQf+LlTHpQvJauv53v7sZeXTzMBPXvcTLTCFAxxYLNyFfdTV\n",
       "2lyG43Xz74iUxYP3pW2P6f/PwRDkNmuHskgtWQZQwP8JH/bfikVkbA0S25mJMc9DgvYbQO6dKh91\n",
       "UvolCB9V069/NHeCFPZRH0rZ1VbWzcufWIpIecfblzLGV2myf+ZwTZYNx9mWT8oPOosS8yGx7weP\n",
       "pcfAq0fF+Pc6xUeWJ4i6NoAsCJrLt7rl5XcuUAcESjrOejjNaCUbfPzSEKCWkIY2rN3n4dDMTxmQ\n",
       "GE7Zw36EKlowZTEjbHfl6puIu5YvI6tItoQHapUw6Q18CyC01rFVrtZMAeNCfCE8iNgfxIA6Rgxz\n",
       "J8A/rRABbn4NjvRWj2YNisjgJSQTj5KUok6po609wPClFKBrOfNUc3jz0mkHYVh1sMDQwKgi+vKs\n",
       "EwFnFsBebdCVycY8OXE+BwOFdhqEr2pOKDzfiHLhlgcsiE8944IC0AfVdpfko3YiT5CP4u/ugq0x\n",
       "9Oqai6MbBP5K1YUi2vM0ukPah9z2t6bFhzWzLmzd6CXUoNVz1DKx5dgJfJ3YJ7THoH1+rttqW2Bv\n",
       "sXRLqN7UmC+BTT7ocRHOg6pDyfNnQPxhUpWBtkg85CtxwxHwtifp8JhNnuTbzMyOSoXx9WL1I9/e\n",
       "7ksH1s8+ltF2VV4XYpX0h1w+ZyPH/wJeVOLATOwm0yftsLHLYaOJnTFlKWYviVnyEYELBNXy5MNE\n",
       "d2r6YDkpRgZfU7JPOLY9D3hWpmFcedtc1dVdlvBT5SJw3MXg0NKkxPZogDw6D8Kk3kOTjy/WWa3G\n",
       "QSrIfzROkG7rSgOCSHjTEjgj1OvE2b7CYvrVCh6D5Y+gs+SZ2dHgZXTy5Cx+h4AgLKhXWQI+PM9P\n",
       "jRfIqfs/caOD/8X6+kVQ5HDX/TyDwPVMw6YP60VO6++tDCFIYM4NWyYUVxvqQSgPYlGPzIKOU2R2\n",
       "jzPN5mCkJ+cyEgz6yzVrf6gtl5PUeMnL2vwTrIMSk+ecE1bRgMDtlzWDqFqwuU/zyh//MlBJz7+6\n",
       "svp4sPm0lJr4AmbG+RcbhHaulgNm6VpTkGGUGLdR4LVErh/y1IyS6oKgmlm+NlU9FR5qEA5a0R/m\n",
       "DjQaSbPBA8rO5cpyWUltwNupdnyEvVLnmT/hnoJ85ZthThm5opCOiHDthLwoyHJjpQ7/tes+EIcU\n",
       "VBBAwoypTOj69hlUTmAZI9ulEPmsZ8PdZQG5LGHBlmkB4h4bdFUn+3pB0ybvu8OF4VN5epfM7d7X\n",
       "6YFWtmDeGM27XuObWQFaZxg8LdKTAR/Xqne+H8ZPIbwnrAChB2XDBM6dD9fmBvfZdJV6GxLm9IWI\n",
       "3NvTB6z/ar90WiO3vgfSkIEYdKT4Q8gI24IfnfiACVcBReG+QDtghAKzbUnVI9xiQpQmYGp43t6i\n",
       "rowa3qVq4qA59Jf+O4wDA2ZkljWuvtF1oB//0wXO45bIuK7+o/f3+p7DPhMXV6//sFz4/zfOhaLA\n",
       "lLush9O1YQgp2WIT+5xoDPhWQuA5yJT0y4c3xwoc9SnwlDhAl8BNA9KZ3Uv49wnl2IB7b2noeryW\n",
       "0LXlnpkryjymaHwCFhxHwAd5O3LUaPexgfnhNDmkW1AQk/r05zxM2YbDqmx9eTmTYJd67BhziDpf\n",
       "SKbEA6oqxXKKTF9kWHO+SGcuQ25LmVi726NYu871mvOmecqfQ9+Hs2BEK4P8jiarZslZGIDYEanq\n",
       "ui88CPm7StgF/Zsef3YYBZcu+8d6gwlFhAfOvRY/BUCJbf9X//nWj9OoTI88Fz1YNlQLtc0DfZhC\n",
       "WubyQhqjU6grOASW0oOHGxkFTt2S4TzE4lpaPbhxmhMTUrSnT5wZFPdAn0VPJf0a2mXXZ5ExL/dG\n",
       "wMEobMucXcuLOhkpzpCP2MoX1jWAzfaO0wt28dcDniCXRT2mRUXL3OnlszmqlzYFnliHCkDD2Qmb\n",
       "GUnf4A2xL+mbT0w+4WI03Gn+qFi4CVhAtaM2gLNs/6Rv8GWEK0MotShrmsaFf/OsYxxg+4sbxZxp\n",
       "/VTYA1+Wg52N9YLG/cKWT2lY3mEkvuIXWQ3bHQ/+SXkJ/zL/+7+qJ0yYtdjwLu2Rah578fuQPKTs\n",
       "wMXTBOQOs3vU743Ad/HpodywkxWKCmjMgMEk0TLTHxD///+gNmFcnVonld/5LiQce3BilcXvNWK0\n",
       "zPq5YHuFZm8yzWtLVM1IG/kjiPMdMPAnoqoxnorkC5GKVBcGh+V3uf8UTUEC9mRvk/epS34ZHSCn\n",
       "QJRQqvI1BZ9ZcLJO5tDtO8xVTXgIOLFAN1sSZRC31WgJZRqZxZeMg93beh9rWnHAUIiAdDGWCMp5\n",
       "AAbfwGScutMed1qb6goGga53IBQXLNEg2/w6jMNLwmVyDJphoNGECEu1VwxlqtS0/0AsS3n4R3Fg\n",
       "ELpURuior41Dv2Gal0mgn6DiRomfTrXAEIq3KOYITmsRf35VyDnaCtI1XTJ4b4iuQVdawUyHbnzW\n",
       "9Yok9o2Dx/xHcLDQ10Wm9wHzy9KM3Z+K3IRSGG6T+aOKCWN1YGQEcUu+LGn4LS5N/yC2VZXA1eCi\n",
       "WfzOi/34akYXiGGNaUV8IC+xlGHpNEAcCvW87N7Ac2xzOXvJ6AwUc+Kt80tB37//uQkenRS2FaOz\n",
       "BlSklj3dFB6lDX9zBe//////BKiW5rU39QBFXRATXm////NXAwFoHHKKgPW4aD1JY2p+IhOIZbEL\n",
       "+GAzpwX0BMfJ7Im5kgkbZaryCDif+3lBFHPL3NpKuYU7AuV8XSGJRApaNWimvP6KSX2Ob8QiPcut\n",
       "xWWnnlEp6lkTcg28MdI22W5z+zcsGqTn4nBemefxYIhyNUPA92ymlcoOMGN3N/NHIJFi9dvLYhGe\n",
       "n6xqTNdyXuANtdEpYUgHxnXNmnTVZ0nLNUlDnn5eQkgNNIQ90N1YnoxZB6dJhzT9nrOb9xFe2ima\n",
       "ev91QPP6uJihEAPPN6SOmBB+ZgDnaz+cMpwmOL83A8SHC8C6y6Fks71X7FZzBJ7gM5/as9Fb2gtS\n",
       "/6X/xySzoBlnwt27tTebyIri3U9l41Ey6GfafvFOv7fLmshywEa1lqaK65o/X8La1TXWr7U8PQxb\n",
       "Vz3bd9NZgrLBEJXFte8gtjaW9IcnNrkWfaC8ciHEWUf3MbK8lFaD4bgpdqFqJCF+L4tqfYc+25fv\n",
       "YFbWpxhGK7tCeZKsaKiuelGZHsfrhb8va3/5Kpdtns2SzC3aW0ftCWB+LjZxd7BFthpA/ivkOBEd\n",
       "Of/tTUC7l3LbrK+PRE/////vFc6T/6dFZNl56YW8AyRpjGfiSy9NPhwZ1d8sl/rPrnwyZY+2ibsA\n",
       "GoWouz4U/LwHQVg+ANHanwkhcc2AEnAAAAAIBgEEAAoIEIAAAAtJYeCiHf/+jLAAnCIGdAnL8ech\n",
       "ElZYIrdFsTjrc8Tl23IYvoPYa6mHDcv+x6Il3CuUzwK0rU5ifLHEn3LPt8P76g8P0N47suQUltKC\n",
       "osghkTPQAxIAMKdQ8jvuJVAozL/8yaiFqyACztOfcrapMkOj8MN0dDLGz6rC8atcAzwAWM4EB11N\n",
       "t4eX+FQ9AQ4pQSenQcMZ+vbcno5tmbi3Qm/QUIswOwkvQwP580Ba9cfiMD/Ty+OAT0WVBSCbZV3D\n",
       "DR+Nl32Ehkyl44kZkjZFl5/MwPj0KyalBQmkzFdbTdxd5nkXpiwgtGWgP5gnOKdtIzKwL8wB0hXR\n",
       "IDZ07/HV14C4FQSpbxyib08Ir9zxqXxaj9swzvz/cw0uoX/8jIMYED16pahruR37crcbM0oBLHFC\n",
       "7FEkPe/TbOzvsX1G3c46hA0LSnX7wJS0rZmfFvjFmMH/uiDndY5fH8IkEh6wX2JT0Y3uW1/5AKjn\n",
       "WBXDTBJCxy8KiAVvyqviFtmFoSu0dMBOjAhWFAK07kzR2GJ1O1+XmZ7Z7wO32+XPCgHsEad3Vqkj\n",
       "8030StdiW8LyDfFUdP5nTJ5mgQaGsZC5YPs1hAslyzlhGihG/8FA8QxuhqtdVfrh9c3KsL8EWcnK\n",
       "378bFrU8NfV7DD7xXwcjG/Bcc/d1YmoKt3G9sAbICxIZ/1VKPVutAHwA+Tp4QmlY99BBiR2Xyt36\n",
       "ws6c4ETKof3PhoL8imLUsM6g9hnUmisA9thOCBJD0KjNUuUV2yc5V0sQDUBcUkNdvvbcagHN+a6O\n",
       "Cx3LqYTuaAYjSHFP5qfPaokYe6TnHV7aNtTYyrC1wEhzHpzLoHWq6KosEAr73OkquqllO8dtNBTs\n",
       "CYBMh+USWBu/L8x/yw//11hFLlb3V3fA8N3FqqpFbD1Zv5eoML0KWrJ+yN/57NIa3qZROTmjXUGc\n",
       "kKUmwu1xVBwldxMxpQy3bf4dyf+exDZ9mogX9JEQWVdjWLfQjJYLwUMyo66EW5PmlZvHLIOd0u59\n",
       "v2tImoMwrAXI4q/BBw7R+yE1T7NpaHduf9GDOgD53DIB44r+ibDEyqoiY+DpHiOeP6WVHcvsmkqL\n",
       "bRUolMagpQRwyG+o13BPqXWlSw/mUpLp9K3/cFliIyXa0qz2rIeqWIu4lt4p2nRWVHn/pHh5UZqk\n",
       "dcp27jpxI+cfo5+i0xM1Ajm0MMf7Pt2CINUOoUeylEqoXWnSo8Y/gA3iTBTRWvK/o/met1z+ZkiP\n",
       "ZZXTw9eR75P+RcXAPGVzyphLxrqEJJwhbYIex6Q59nED+x3+yiTJXMmbz9C1CGJXrPgnusvpp09g\n",
       "Y3z4Ynk5hZDv/q8LSQiUfJYH243Q71L3h65utN1TsEpdcvjT0fL6S2LSZHEyVA0ulbHPzxREzI7n\n",
       "qeVA3FQNdf2CwE8vhZt2qeVj+0iwRv4axtSlnHCelQna+rv/7WtFfIo0HojPPllQk41+4bBleWbu\n",
       "b6tkcW5tadaGO9BVtTKgHlSmfkwebu/redoQ9mYQud3CSkrrgEj0pE4oKNs4dNEsM1pQxnfNMvin\n",
       "dBiT/nlm4TttGWYhhsj7/aIbjlkSjZgrVaKIDABUQ4JbaHsCrijmhXgf1+LPRdSNqQvgr/kX6vVX\n",
       "/MBU7Q+DREeyWmMdUYT55wu+PYudCdTQABA8+w8Ht3HYYC50hTPYvYI+3ZbrI+eEO6jQczJi2+co\n",
       "ybuQhyX480boOztBIrzI1/DjYncyWY05vEPGm5l9oRoTHpj0ELbzq+53w1stIDWYUPk7lPaFW6Wn\n",
       "zdWrUpwadQp6aRs7cp9JadKf/NlDTgE1I7CX1kKbSJetq36L4P0gs6bdr4fEvoVIyFZTo3KWB7PQ\n",
       "+mVMa+ZykbhLto/egx48lGgt1dWQTc8ne8/////2e3VOO6+rFQn2CXp01vgk7EbNPr9o+R7Ci9PT\n",
       "RQ5Hs4qw4NDeuLfRHqXizYSgBEhpZJPRcb918QBkvqrb41nh0EYH+6q6RpI90pZcd5/tGLLP603T\n",
       "2Cwy+k989eiptEDvHZ7TyO9Uz/LzHJK6cF2zozKowvUv5EgX9aRPt8cGyqOQjWjB614kPZzTpvTF\n",
       "zhQGH08X5qRyEXn8JZLqaxRl62UFhbLcoz8qf9qE0AK06ohain6mh8Nsp9+YSP/6ztg3PiforM4o\n",
       "qrmG/nx9nmx/7tbGUijy9yw0WG7OEejM0q5lpnJ+PZDnXyYOJdBCYmrMiF5hLNPyPlSQkoxvEKJc\n",
       "j8DrHhYVwdD37/AaxkX0jV0WUIVhXXglEqaMv+gbWVi7ZKoihDcsGXAtRRbx93BBulqxHFVJXrHv\n",
       "/EB3TAyA94Gg5wIi2r3NkDii8SZzsWYT1EcsijAd9O0OpNcysiMTebX+CUtI5Gd0TnW9cdo0avep\n",
       "lcn3mYDOWF3C1yHzC7XcWRaebsRhbkf7iEDe48n9P97982T6IMvkSp8Y//xRtn44d8ZJYpEUGna2\n",
       "wN7NIPruKcRxeYKcyxRrYX8fBiP8MpiwHtZdCnXeoGYgMKcpdVnG+DAbIgGWKB2wDGT6YRWxnYJ5\n",
       "AtJ2DKo/+tbR1JPA/RCHdTyN7qwWs1/Ukj5UTYx0hdohsZBoDFzcz4UTepeNLOiYlvJRbHPzRWpG\n",
       "/n7Y82bG43fLBW7aKLI//+gnxySLEXASbVfYGXzGXQvTYuF6EW6vCIBrKt/kRU6EmL2Ag80pjQzK\n",
       "n/1j98llYOqnj2jK0nQ61fK0WKECWaeUzgGlP8VlzO+WHlmbH3n9I2I16ChteGSie8dRwQrl71Ta\n",
       "ix3pYGk4Zbv/iAzwuhGZ+FUOqWLe5VoQ6Qz8aGmLl6Vj9z7lzyii8rSzXAgrdIEMpI157+dErhOz\n",
       "2h1SCAFR8W0XEtM49EXMhSC0Bdnbf3+Bw/UIf5OzYOWMl/7DbzDRG6YYf4l//+J8RgAFUyoZe8RG\n",
       "IlJ7tBESrYZUXJnZlAwtk87p0DrDkxDDhUqf/7WL/xsZg5quOJw6kNDBov5Gr9wXeBU4B5+4uJ+8\n",
       "H25rtPvnZV2ZMCzYN9sBdXGJrKRrTOYjfs9yz0Dd+2zg45BK9Bfre1zqBkS7iOHmhbzBfqSOuAdR\n",
       "jr3g2685Ak4P62lzPqCML8yXWsP1ow8nWXQSqfvoXNaLzlIPS3THBYwA5v1USLqLt4rHlGu4oG6Q\n",
       "y9DVnlM5AbWgjHCZdHx5f3u0kD9xTYpx1b3Ifjb66KAJ0KoL3dWa4cBlf0TITqU+rLAoJ7UxhFEQ\n",
       "4BfQgg/QLAXZpMEnwGdw8NysphsRid+ASe1Ti/UcjqjNIMkeYv5MveUnPLrcyeiaoDWa9Sl/5Jwy\n",
       "DqmV5LAHRLWIQmTz1IsLgTJQReUzViwMARfJAruwQA5aF5prAgA39MkHTFO2OIwc+5vmpIhlrxjG\n",
       "4Lcir7LUFVUQvYKX//vrX6wpaiH7tVDs1Oyvfx/btRlMX2jHUvj5pSiWmM153cl6TDqJ5s8YU1EH\n",
       "0R9gOae1VjMKRtn0bg75NCvVsZYFI3AyCTG0s0XIEC7dIt2GgFuISyfVFZogsEjmjvcb/bgvt3Hv\n",
       "kE0iqA5WdHCxRHux/4dMm64f2b2khRArphBXfza46/bvO0mtIwZyx4quXcHw6J2wF5FLAOTnourW\n",
       "yD/GD9Dd1G1isLfbumZQ13uyzZNUm+1fvj0W2tH65HuHRhwYKx8zjhXN4A7f3uQFs2G8lNiKqtEo\n",
       "PL2em9flU/tVmYdi6ddAFbABAfGTkVxL8rfE8WQsxAxzGYAipmE2q0Vm2KEmzRss6w8UMTbQEUNI\n",
       "OcO+KI8LDBttSbO6tQddnd68fcIr4A30QqU3+syXExT3PpP///6tvD6or0I1RbhEx6Q1GnjNC3Tc\n",
       "ekZ6xUaG+qvH9Ns8y5+cjvSQADjgAAAACAYBBAAMCBCAAAAJPWHgwh3//oywAJwmIlShMvGW7MZc\n",
       "hLbkhc1dgG4tCwU3S44ZTBYuqUfcq54O8g5QtoaCmOQDxf7qmHYFLhNcbTGGWMt7itbhgu+YEHOo\n",
       "ZBqigbocRLWODO5GKVJ1bpnoBbMpsJOS5oMyuOCdya6EZJFQK4bvt/JADSiu0/Y6GrfV7NF7sPlM\n",
       "Fm1cCHHLxIshtrzbfrzlt0ClJuNs+UM51qgtU1nk9XdKP3g7xDa1aYi/lzZbsZ1ATkxmOM6wNxFt\n",
       "Qq5nc/xyP0OGHpelE+Rs9qPrayaoFRWXQtFbcfYBtMeZ/2Cw8wxPy6GRggxnIi/z4lnvzleXgpbl\n",
       "paK0mgL7/QnhhBmmVeDbEN9ylhTtPUCgdISyqDNNqpmIlfeEn///rUxzHBCkEOpmcmTF2T2bmhkt\n",
       "vkFM+rh9leWI78l7/VHVsVu6BgTTYsJRrxZBXISKz80nmlJARXlELBdmbgLu2agfJ2ciAArQ7axo\n",
       "WwkLSrB6BqV7CQmpFepHq88BII+SdHcdMdJR3/g00w8FhGEIujes1EGM7v1DK+0f7exR5QHOh8Ci\n",
       "8Hc9G91wNLiu9kiDmNN27zu7VBVMWvjArSGOq/T0/AL9CBRnG9l/3fFQP50BKC+V2wvrRsai4cnv\n",
       "bDD8D5k0/nbuWFySEYPNzqjjHyxqT02gLbbtmzszxuuzKx9tVAhm2CIkDnximWJo9VdzGX5xPdD3\n",
       "lcZ69rIAg4mryHrdKsN1byEBMnO8I8BYzi0iTB7HrinmBQ7lIEsE4mlfTqj6E79eNGjln1wQX6TT\n",
       "h0G+5chWRu0fH6jFm41SCqvjJu9/TaxGpeYiSP4npRMp3Whthxz8oTiBIRf+Nob7LnUQkQ366Hzz\n",
       "REnzOPbQ7CMyvd8cEHfmqmA1+FkTfsDlE8OQNA9GIr+V2BwwVlmBCoP7qtIL0Htyb8ZH3VhCwIQ1\n",
       "SBJCLHcU9dxC6fD+Ca1ZjgTgTkL8SgqsyYPAIGiaQRTeJPzzxF24ZUF3rOyXzmX5wV2BGY/yJyNO\n",
       "2gqXpIqxO/+QgXWd8ib/C6XOjhXx4vN44e+cP78hlXAYu5qXvxE8fMn0FK7oAG9fqVJTR/70E7Gi\n",
       "tzt/kt9byqthYcYoANALEcOX28BcKGrBpdoPKEBzUcvIU3WfFMu8ifAgMX9IQH/wmZnSgK47ROPg\n",
       "xD9TgQkXHPnNaP9npUAsl+nwIzlVpUrCq5CYbb0+pIaPEMuj/9b6aLwW06Ua7rYZKGPqsAQ7dlyl\n",
       "itlnxs8q7sOOzyon1LEwfICwIAfILGj79PGvSlnRSPgStYtleMWNITOjO7IcU9mfqt9u437+F9YH\n",
       "rz8Ha6c3VRFbLw0Y634JQk0FfmZEvB8w1N8adl3q6vQNb2M0VVoaJjflI6lspqsmOfnx2URhkOiI\n",
       "v/F/B13A8jxP2P8HaNLxtu6ivGL7TTdHDfdZdF5O67DxR1+E0aJlLarpnoLYaBbkjxjNNITR3S6y\n",
       "xCs0e+t4z6nioZ8arbOfq8+dSiuj9jvVVVn2wtJImaQK+f1jVOgRrwTzsG/lYSHcPa3VuxZNrzxh\n",
       "hUARCJfcwXdXiorD0vrgcZBEwut0AjXCPja8cQiGq1hMROtSt3yOt9F3o2ZTa6arhaIj5U8NtRSR\n",
       "WWj/MJhkKZuZBHsIMxnVNLxSFZC+BOUxJggDrLuVy7WIbINhIXHK4kBVoyCDtTGwzQahhHXvE9P/\n",
       "/lpFu2Eaqrfk6mFHmwRMIQPPkZVOjXH1qWRrlPvGONYu8ZOXwaumho4Rk5LXF25hwVA98ylh9pC3\n",
       "BsBb4ckYLmbXdXT1rx/K+Pwx7omCAL+JXhzFju06vAWnOf////+3Q079p/nA0jl++fQOlV1lcL3b\n",
       "EHSq+jj1HR1Ox9copbiGjZkY7mNeYRnI3ExL4v04Rghb+/jkzHNQAq7+9kocGsyakRL4iwe6qbsj\n",
       "pf+FlBEp/3oa9g76n0qLT/////qU/DhjQUR2DFR4pFMXcdWPriOGeXmsY0XbRcdjt+IYVuRNSQv7\n",
       "sS0vCUsWaWF4NtFLqAueyr5Yw2zfWn0xdJV7xh5eRB77xQpgZrUcEd2dVvoOf6gxBm4JBh00Z86b\n",
       "6Kp9BslzwtfWEqsrFBWp/WEGsVG3t5E3L+ErOKaa1f7DN83ArLUaZzf9Tu6MHuf+INoKlq5es0HO\n",
       "3YUpcHxjuidMKKSw4iSlKp/rj9HCHAaiz6nzYfeVLMMogRZhmkB/ef/E9NnZOnzQXpnBIVOxqiSu\n",
       "DQLrlmSx86D9uogOLzoTHlSyxLUToD6Ks6zdV44VyfNHfuA2N+vu5T9N0aaNK2qMXv60pRxJODzQ\n",
       "11e6AB0NVCAUJbARdq4U1thuVahLRnMm2lRt2hMd40ynE65anM+4K0njiw/u11aOkhODxXxuHHgo\n",
       "qsEUb1rh+9BTP+BFov//+s6HNLVq5W5vU/5AQKD/aUeaBBJDMNTejcKXrOEPLo1JbsiVhtGTAIFp\n",
       "VlycRgN2sFux6kJLKQx8Bz6AVa2Vle1rQI9XftOiW/ae9y2sWb7KdabuvvYtDrateB9ARQq1GNiy\n",
       "Y0prF165xfqQYJ0PegDX9BWSj9Wc8s9ZtYwLfetXYlfUVyLGQrNZr054tfyNXoLwo8tEWzlHdQ86\n",
       "QQLBs9X4d9cuSbGZ+btrdmaOCChQaPxlVxZnuzXf//wB9/uMwyP2H44tIG8Vy9q84fJKS8Ej1GQH\n",
       "nZck3z/QL8+MeNwsGgh9+8vMx3/+zUxNCHasjPEk6viPYT0Wyx+87fxRdY1lPaX6XZFbFdNFFvwS\n",
       "4iM0Ap5smEQC/eI/DrCrYID+1C//1PkJoYl9DNg5K/jfU+BdaXQwNDCk0+yOomWr/RqI2KXI10HN\n",
       "f8udHzGIu0JTWHl1vTT1f3l7j5Vp4Hq05wPKcjGexntmwPttrrrC905JceB6kYmfsoXryjnzndm2\n",
       "nltbklWH94cmiMRSkFZWih4VqdCwrWvAqnS9cTLx/Q7o7+TLRrWCvwZqEHFxMvoZh33pVcjT8yGq\n",
       "bNoEFom5RQRvxvBz1g9HPbZuKyBi4AC69lj010VRAk8xf//CGpVC4/rvfO/hPLNEPRGUmF7eMPwm\n",
       "v8zamjrySocAZ8fmAgeJz9nTdRvrK+j91p3QFdfqUM/UfCL0Z+C////+1DW6IRfo9ctEPvc+jpR5\n",
       "pR4a1c6AFtAAAAAIBgEEAA4IEIAAAAhwYeDiHf/+jLAAnCjClShMvJk0sNzqx1jIAGvXBAw8EbBl\n",
       "runwudnBzm7+YDSpxKmxPLM+Mn5WYz2ljqdEc5a+R71V9p/b4p7QhYW9iz4M9/fbcOwLDirWAk3w\n",
       "Xt+CtN6j1K16jpH+D26T0GiXmNrwzOVO00cKSmTdcPPsLohC8e/T+92Kj1vLr+h9S5IJwGvbqS9L\n",
       "6r1RqK2Tnx9to2+GB1mVtcAFOkQSbb27AMYCoIgx6qIq4kAU/ktUYEESo0BxrUDWkR/Q9EfVo07a\n",
       "o29sy3KNrHNyRpvkupPdI1nTYvgj1X/g8+gYD9geLgJw3vtYlIGVonO8+XgRfzfze0DNQlkiUqSn\n",
       "tIW6jzpQvpEVu6v6cS4t9zPVGvcQpwvYdC701OfTtem9nc35H55kyfDXFFvyvuFWreSgefB0fZMu\n",
       "uNHPZ9hFDxt4wLJBy00CQr6mkiLIAYKG5uxciW0Zp73ALRlI8xvJkMC99vQwuHpEsuKJCyaDid1Q\n",
       "juvAIP0dASs/O/D3fgFh289gq8Bwp6DYJxlVEfRBKeMtisBZO2kJGKrfNQ3Xea3vAarZaRrSXakf\n",
       "z6gpj+nVo/5Covit3Pi7W8gbmOh3SN1xbe3X3RQXqR5pmDRAAh44wWCyRepXmgKwVAxaCf168qw9\n",
       "JT3bsHwhNiF0GQu3cg3MRfE4ZjaoWRsZej4pTgJCkISqodsVjisCGYssxCXsPFvi2zCd0xzb27EY\n",
       "vCc9Gt4NNfraygyGv3L61mwYxXFixnKdNpmudZzBmKGxKVf81vYBVXu0SudCRoYvy2kKhsfm6v9W\n",
       "6fiWdpYvBTybaH49gsoAFXrsPQJOCU7FHCs6wEjCMCB7UjTvTuVi7lwPXgH8QPIa/B+XyIwI/B0R\n",
       "9gWwEZpbAfzOjaU1LAvORqu8+/mGmC4Gj2rwpXAQfkjTvcddB447Y13/Lwf/JTkPLSqU7KURrb5L\n",
       "8ydC+Ox7YuBSXkuK/vUHdEFKjeUDQDMIM4v4kXK3c68d7VBtx33N6kNjXU7AvSQXt1///8QN8fC6\n",
       "K2gR4ZOxvelY2dQa3n8gLSOOCYqjvYpPUmIcBD9E/Rcwuv+nvGlO8oY17htek7PgoTWQtbUMKDO0\n",
       "FElHBbcrctBY9g31I4g3qZ5YtFsYDhBc+pmbUd616aRUcEVijqvwbUTb+RZMy272BAS7QcHnYv+v\n",
       "zym5OkSrobu4bCm9qfQ0MTluFE1nlKKsnJe8f9uWYF5WSFgTI/V/t5om5Rr1hx8ACkB3BEveoHIY\n",
       "3RmnRW7zpd8Lx78isMUy57hr53ms2qDv0N+tXQe35E3A2TajlCbKWWMm7rFPIcvLSl0GZj1xi9lw\n",
       "a0+KDJ/dtY8r1E98MCbAI3Ts3XQfkzETJemkz2X58nkmvuIFzeMDsOqWCC06xFKiOMNApfOc6vfr\n",
       "zEd4o9NcDRiX8Q07B+opA45rTIraFoSFza6OFLfSXzxMRasL3tuQHfEnQmCz2jvI96XSdNdSivaZ\n",
       "N58+NugQU1VQvm3oQd6hyMKgamp/76AyPcnfcIyEtILMYUHxz2ACRSlhbWQQiZBop1AoPtZOUkbb\n",
       "YjCxFVduIIsRNLi2zBe2tmulgoKmhUJihWdjVky8bUIdTubooFMpFAwIBcj0CBVHO9xoXX6S0Rfj\n",
       "8z0W8US7Pa2eUj9VzZcV2Vxp8SnuR9cFiTl/3p1hCNMTxogTY6trOtVoljZ8fe/fl+7EyiGQDcmT\n",
       "JuEO+bVa2e7EfvQqcwalUh8Vk7ax+aygeaPtIOMh309DrvnnvJoMIojLsn+vkWcoIsIxn/KN0Vew\n",
       "fVecFb7tKT/LjwDWvsxZakEJXtYtw2Un1xV1doGJwqT/56Sufax2XYaHkwrJpjNeI4UOQYAbFBIa\n",
       "VvczR/vd+BfkbqcLhZZavnjV5xqXrQ8fRy6TzJ36xWWUThp84hijH607CwmaTazSEcLsON8YIzYj\n",
       "KyflpUSpkEAddHck9N90AzC8///fX6BWq9nwz850fgMm24rcI0c1jzzopBFu/YuIpf4QYks8vq1u\n",
       "JLcAR3GwNAK8bxf//3r13rfx6tQxSyCrwHBZDyisj4zpGerV+VsHfB0Hu1CZ3ocEPDr3NAmjHVCf\n",
       "6+59QMNksRBceKFoqjEYF4smDgMH6lkjUZCW/rFgzgDf9GAJFajvZRv8qspLlaNfScCtPMYmafaT\n",
       "UI211nijy0BhioU48jLbqb+Grr7WNEDRUhocHcBC+/wJXTRGKfsauQ1Q8hQSpNKqFtczvyvRRFts\n",
       "HqEUaIcKaQJQScuzc/+f9zqT6LZm3rH//4w5B6I5jmDyGRTKrlSn2KJJ9my8u6dWvWmsgYcXwJ7/\n",
       "YAE9FtOHBpqT8jbLdSQT2j4khmGRYHswVKQYkVFt9QlS1+c+f5FoGeenswTHRoG7fjy1aF13sDJb\n",
       "57InW8bDHop9mSFafcdHYS3GQOYkXGjrnGEpCd77yXySMuCVm2ml4fh53ovK/Z///9YeiZYWDQHx\n",
       "ev0yQJi/K+IckLiNg/90c2XVeclKCpBdc54knLFMhgDGM8NybwZqUvuZAg4cEib/pnvIDCzPJCAJ\n",
       "n4WDWsBl9YRdZKmzszJPD9/3Ne8L04ZxmJD1DEdXf4m8PiQkRZUwpKvQZ7gj9PFGSrFy7HAUMTP9\n",
       "jhTgX6Zfl9rz9rHVx26oq0vtRnY/ilxRbU3r/8j1pQxgbD/yypNp8UI6ezoCtXCQzlOUD/PG8HqY\n",
       "99QpsKs7u+5fA3bIwAK66WbiQLpeVH0jegl5ck8Hw69ThjV38q8XaHFZiSN4wvHTE2VLwYrB4+DZ\n",
       "HCItlCPZHzRP0AhM+AprQOtS1ExJSeos5Qo8jHQGxUudcjgwnT7G+fQxsFB4zialbnkfYewgB5t0\n",
       "IUwMC8rY5f/bc50i/bx22gIOAAAACAYBBAAQCBCAAAAGjWHhAh3//oywAJvvhq+VcJkvtlkR1bqC\n",
       "wG89vcHtuA1XXTyVr2e/OKWF8ZW9P54KUnUjBXTryemSfaTRuj0CPi6CvHJmLCklR5cr8GHFzsj2\n",
       "VaivLPzYWGvRbpLyK7a5QasTjsf6IolMhHwBjMXtjEfPexINlwUNyz7IN/E11gip1Plg97Bjn6wz\n",
       "EEYF1sUj6YA1KTQX7Y+v/2Arvstsaie4742u+5NDD/Yk2Pgn1eCz0qrmmYic5z17VfE40Enzw+UQ\n",
       "GE7uhYRdAeeO6Ef4zRWFHjMh4dwr1Ro83WBhuI8jN3GJhbZ5159nVpLbIJJziVbm4qzCo0uMQDUt\n",
       "o7ftQFO7ylcLoOBP5w/Q9uZdU7HVNM8oKQIGrVnR1jIqyTNjSeoddHzxm8MqgWlpG3TSbtmEw8oV\n",
       "g976HcIxP1Eit1sO+nXwlgFnsCyXZRGJBNgXRBY5o2DDIoJo90e+EO7UcqN3stjuVVu359TYA2E1\n",
       "QxJDEeqQKbvYVhSHoE02homR9OjkxvyrKyjH+HCyIk0jBT3Cv4JvhpRH5ESBxxZibSXCyD4HZQPa\n",
       "bYnDO5YGLvW7poRxrZWlvTBweMDdo9iEh34hkjRQGuxX/KEFP5NSZuInhJmwDKKD5WIDNx2q/3OF\n",
       "MZ1f5lP1lrODULH+tCfwVzqt1vnpKFY40RDc8TTn22TsDjN/Jyvdv7GBTIjnBsLScsx717niBtRV\n",
       "5vA1PIQANo5K9R4ih00/v3bD0qmVkpFmkIwLJgEc5D7hChmranreLR/GeserC9oT7wnmy8XW27F9\n",
       "2WWzrRLWyaNUEW5ZyhXWEY4kYybVNu+ztKv4zawTya5Wq5URA/3pVaL5FhV0FGpOrThOAaY6ctjn\n",
       "9mGstt1//fTycwC/y0oMyI3bakscU00Nb+WPDryFLiWJqXVhFPUJjNoNPlFvtlOvriP8dBQbukUU\n",
       "o4tX6iC3QILpQCvRmjIKTfbo0P+edlEblQ8LpTV5PX+7zWVyoVl0+2r3/43BfC7FO8C7wg5WoDGf\n",
       "6bWVnKECqhLtNJAgF/zS84X96qYJKLimy5x/wJ5ykqZ9tvvyELwOo1HfGwHVQCbC9CkJ2/t1+n0a\n",
       "x+eo4MnGXGe6Qx7+Ij0p1f2c3gRZaHq6LXsFQ6DUuZSey/6hNgKrSYjZgwSqnsuncwonYwuhRaHv\n",
       "gzEua16BEOs009Ggms/KQQbcBztFASwLoBDzMqoEz2nooLNxvMxltmb4jRE84XmB6txX8G7UOyo1\n",
       "HhjtTa9UO0uQ1DTBlH5Cuzyn2y5NC67GFIjVx+huShRNs0l21slFgpXljEktuxPI6naE3mVQx8Hf\n",
       "iLpfegbUe282B2UcWLQ4u8UinnyTlKhuC///8rpoTR55QkhUow8+pflVckcvvF+g8tDvko3fFQ+L\n",
       "UXuC6PGmTTC/chhAY0KgQTQbq0XAB2sTD42rdW51ih3LRBiROSK/TXHzregktPBVlRDvzHk9s6S0\n",
       "a/8fWZ/3oPbVMckE2PCcj5viThiVkFeyMd6jIWOiWjJYf/xxaZ1JGpDbjzAvHLKBewZLYJIN2REo\n",
       "WXb5+Q1t8J1nC94+gOVHdlJX33xF9pjsW11KlDSJGqvi4s5OJoElJKe5635me7L54NRyGBIJ8lYO\n",
       "nYB33DoYiKn5ie6pTv06r9O9q1jKITyArixtFDmSq1+iTCpeEOyKYRepBhWRRuEWu4HgFR34XLwM\n",
       "uR0ACD62RAe+iOGDjN5MacEiIZ964YMNhCQ4JnAchS64RQRee5dKS/XgwSRr/6zeLkSG+pMimO2Y\n",
       "DiLhm16VAhcDaqx5GUkWppUe7nR3XP4EAE2HQIUrTWViOtMf6GBPp4INoRuSww6P4zkT5ipp/XBr\n",
       "y8yCJrpAX//9mm/ylGyg829nyIIVHMDNqkL09tLZQKbdtzgMPWkFyhvUan1HQLPk2a8IBu1Vm90/\n",
       "quoIh+7AVUdXIbnjDeWnkLZSulwdkzIQTmuRY+sefURELt0VPb34yO+4xF8Psp0AKQZ7Mo0Rs4Lm\n",
       "7JCYj7TP1wgCvkEURsn3iz4kzNjTr6j6sf9lDBe1MkS+5OtcHwhOMbZo737E+pMH/0dnp35o5zG9\n",
       "790DL/7c9Sm33HLOPenX0OqAyBr7eh7iq6ONWft2efkvh8A8Lf2/CQR9BIIGOkhsEC9VnphNGTrh\n",
       "MhOYetw5xr9xoM2OtwdImX/9cgQPgUT+FXgQ/VTtQWzGZMOnpORqLSk4b9yWP1qRa6ACl+PztbgM\n",
       "+AAAAAgGAQQAEggQgAAABVJh4SId//6MsACcKLhHR/4e2/8/8YNb2LjPJWi3RzxpH6FfGd7o0ouE\n",
       "hO9YijNLX/hFCUGEOdT8emAOFK8w3QzUB6n1e/3pkmlkug4CyoGUOYvOx752LRDQ3YQKy77hWsb2\n",
       "KKDAS9Ne+NB8OC1OH5VNwHmu5ZaY+ZxTFvEE59wi30jjlPgSCKf8qg0uKdBOjX3ckVM9vUdxkYo+\n",
       "vKSHVniBUFqjRI09BbVh+Rirbo/2gjQz6lC88sLf6VqL+B4j++VPvJ6pdLAbiGeSzLqN/Jc6Fk4Y\n",
       "a3n9JgjK/CeUBYd1K7OYEUEmtQU3mWfTppyNHvRmtp25ppl5xJlSa671z0YM4/pJteqaHgAqHJAm\n",
       "/nnnGNOw0Ty7c6oCIrly2YwgAKPQYQ9ey3J8nHolRkJEyZadjsV6lIzuIIG8wfp2PvUyK7Sz4O8/\n",
       "la3wCEgAAr9uS8s9/P2hk4x2XQyDfJN1DT1YLUBp154PFH+btzY9SJEJjRdGjDIj8E44PmIoAA/N\n",
       "cZei9iE7XrFH1ho5fER+pFoZGTaWv4pvmXBIYnfoP0eZ0jcXni16E+7Y3WOT/b9APj/YTvBvF9CY\n",
       "el9skoKIFYf0X4g7MkWnqcI4EG3PGeEWbS4NyRSMZbKJL62oOtMfBd1WsO2A51uYpXgS/axsU2JF\n",
       "G7bUI+NRClwsuPUYXE5WSt9MucyPH4Ne+8sCmuUf4zcpdjQvWuMzv6qlBV8QYojbDCtHt+NJKhBA\n",
       "BpIXO2BICH1f6G/uf+aHqohKOEGq5kmG+9UKRNmwwCV7VaqcQYkBTugZ7ougZBVow8joldx83sGo\n",
       "kG3rxj0evXacjfJ503cwf8HTPjLR4/CABiHsiOVJBK+d702I1bNEOOhP1D8UgCkmb8Yqv/KD5dDT\n",
       "/jy3u+K64eLQnZWU7GNdmfVS51ZWjRfoYi+0PD+B3nnQpC8UMy54/g4UXMQUWYvL4IhZ0iUbcqp+\n",
       "HAxzRkp0evieOoXLVn8NkcX0+o+gVzSUctkKhUAJ9PBh6OEzaGjuU9rKaINnbFkXn0mwJmU5CKre\n",
       "wIqY3m9lqB0oJXww8yeES38LY01Hj2LygVLf1Co8/i4X84HcvZeNt08oy+lTXuZejE29dm3qfmqB\n",
       "UYGAWCufueyAn2W7GyHzqFh3ML6+LSEYGffmVGt/zunO5xO4YrP7g/+wspbDYNdZp0LUQ9CZav4V\n",
       "oe0KC00nHO1YEcyrR8K1HryHQ7WTtwj1O/b3/3VYiOiqGfO2AnLtp2D0PFrVOHdU0pE//5UkhtQN\n",
       "Yj/2j+kUfvhNh1of4dGJtZphZW0cPo2Qkncx2OtPGCclbu6Z+YcZcw+aPXeYfgS8O4j8V52wRU6u\n",
       "0jsn5qUUoA5hGfqysmpR4bV/TyW2B9D6wqvkA4jqIf/k5+WeuSYw3Y4vAwc/RB/PF6obLySxkSpH\n",
       "7LpiDIqi21XqB/3gTogEcGIzc/NeE8Kc1v6T//+W1Y8eddS6kFOkNXpT+ySfCnCJkWfhKo0abR8L\n",
       "pdjuM2x1wxIROproE5AxRSSo/Y6+Njt6gCKIL2XHsgVuvfUqQzzG7Vr3F3NITPMvDx28E8GaCFhd\n",
       "s+nYwFGCj///9Ff+yARpjZlfgRvhGJEg+oHBZc7zU8x/KwlN5Dsa8dbdUfFAFPA7CQmR1pffEipw\n",
       "Fwhu0WuYpvgX4uKiPvxwYR5ugQsBBCuMRbinnqzoADzfzJFRwjXinGdZzKcXIurQRWHBtpq1MXKJ\n",
       "x6o64YXUVvV9N/ZM//LKEHU3dAj4aqRA0v3oJPxwZ72qQZiiP7YGdtoB3Ch81ipZDcBZ7OtUEV4u\n",
       "YhVMPkCDlytAOmAAAAAIBgEEABQIEIAAAAPrYeFCHf/+jLAAnCjA6lQQbdUEpTWScSs4MsdeHtCQ\n",
       "b9WWjadrrJeT4RnrInVuL1Op310sTb50pPwbxWx5IkYB5aPMdLre4ZRibgWuGLHchmgkY1AqvBGh\n",
       "euc38DrY5ZjY8jdTDUepB6lljZ803qPqKDgl2GIEvhJN61QFGMolAcRAgnJwcCB8TTG1r871C65x\n",
       "D4r2ThEJu175109cwvjlZCWNlMpG9gF8mKTYBfeArB0nogxRd7yfx0Acih8YFCOnvDM04NNHU61m\n",
       "ft5th5i4VmJK2Ywtw2AwZLSLOOp1AETdzZzJoJLRvwHIZQZve5OMm1+XECaSf+RFMb/vJTXOXyJq\n",
       "Zblk923j++A68Ixt7e6MPMMYFiJILiCw9gml4zQ/Su1jHrxLGnLLBcEbanx3BNPrAPKUyxC/1/Zb\n",
       "PBmGdWW8KKYUJUt6S8wXl3ro5IYyHTcaN5/77ifJmdT3fIhVEhN9/CARU5fKSPOcnKgZ+3dJZsF+\n",
       "yAAt9Kaztt4uNYWAYax2qrFfWzCac6EtpBuovpAcBQE/hRC9wJvIK5qwIMkJ/8uyengVR79onNnI\n",
       "0Av//PgAAEw8JMBLQmf1QLEPlaMYSpR43D91pRbmeimwe0vdbFAQWOOR0k07CjpB5q+VcLDp4Ng2\n",
       "ax0m92lFuBD9LMfx8OrfoMxLV9nWb+Wv49iCd346F2hGuupBTAq7nZPeDgVpG/AiDMd4USm/LFBP\n",
       "KRMzmdm/rp4l/E0ER0jU0fH2DhZ2OcVRIq2xvMG+PyoDDTp3yWViaphBYJlJ/kFQBSs+AYI9W0cY\n",
       "42pMbFCBf0bS6QbWWdF8HZiopD+abtgDP///40+vmqGuD4JpAGQbT7oCfwrCMPIdINI2csrFVltT\n",
       "/+90Cg2r2O5WGtX0m6l/fyzaUNJbxT0H25LZ+of7XxaUmjEJ3m0sQtSmwmeY5dBrIEHjApsQbkSb\n",
       "ZcQyp8g2EL1kRaHTOeeu7lAOLVGhFR3cdvrZdI7juWa5YyeIYoNaZI4a5g5CFqfN/7mFFs5etdSJ\n",
       "z3oEHDhfan5Y7L0Vg2sbGP3ImiOQG8jJ9ZgfyBAMZcS/wB4jmtarqa3egESStn9wWFM1j5Be2xz9\n",
       "eXGm+KcWFVsFgLAexLlZUz3F9AorilhFWcpKUUKOpwSA2Et3AZKL/BaHyWQoyfa9wf8GHPxt8+K+\n",
       "jtJpKSW+G3/////E3XP9x8yCOsOxBYc9GUAEFXfMHs8kDvlDe3/pi/ajgCiIJuATcTQX+t7o40GK\n",
       "BMO+447tcwvme5TGhuUn3TsayQ8nnO0wI8GLchDsb9y6jHsN0HHpvmtsIOf+mqsNabCiuOhNjw+T\n",
       "YRABiwAAAAgGAQQAFggQgAAAAoFh4WId//6MsACcKJWwoTLxEVvi4HRxALCPSCzFYioLpVfkpVys\n",
       "Z6S2AHnyVoeKC/unvxIoUEF6fIzrou1TNJmnZYTuMoYlIuHIIoSDxoGFQwNaRk/vkdA4ri0s5IL7\n",
       "xw+mBVWDNFt2P113JUurDIn4QGhlijKrKj0D6gb0Iih9RtB3qbrFpStiJ2dW3USKgdrjeJwGvA97\n",
       "jjKgTRXJt8s+haDcOORxJt5WJVFfufz/Az7Dr7LKZbo+WmWO2iQmAKVTStrZgbmfiCGI01U6GQwU\n",
       "k+K+os0U7Zjw0ELUUasb2V58RtjYzipBwsHhwbnk9c9m3D8JZrqmfp3FIgyQrtbAKPZJdDBONLYl\n",
       "uOb2sCFgfEeUyb3kHMJr5TB9SQvsAsqlfcKNjhtRv1Ikb5VQRnPsiv4DLCa30aQpS9AEmsMSouOm\n",
       "godiuwuYXDJ6iQESDG71PTuv1jXxEVhW0lBHSLovJw1h8jGI0px4713oFG+F05tBAJVBNFZeY6Ib\n",
       "C6A80YWd0BjnH+lovCaIFoxxxck/9clour/Ywe7/956TW+/iZbCFVRVnGK36W+E5XMK9T729aDbg\n",
       "DG3Pk7H2wm9cSgq6uATD4gjHoTem6skzqLer3ng/TcDwLaJMaQiUzM+L3h2218scz28v5prB0RLu\n",
       "OHrfSNfYoDzlGt2Lm8D42a6nha4lwsN0D/9ZYlkbq94S2lCSevQTDmDrJew0ljZ/fNrr8hjzF0xe\n",
       "1l3R8LMDB5EXNtAtZf/9w/Z4Xw+/sm7DhkSHqIWFnHPT8oHugoJ+vXdSFNXaGo1BN2rynBlU/z1p\n",
       "/1i6wmqKyLDkYQH7I9JueAeK43mP/zkmAB2pf8gQ8wAHjAAAAAgGAQQAGAgQgAAAAaFh4YId//6M\n",
       "sACcKMFNRj2y6vcuJFvRXZrcKnitD6hI1dDLU/+Oa5XngOZtzTiBiamcGDNpffDcv1lw5Z/KCgGs\n",
       "pBURjaB39CXDMVkH6DAd7qwMlsZegy7ivLXSAoE1Ct5zbQ+CI9WMRSo/D88QLss9F6oynZy9ZBuP\n",
       "I8cCmmSwAX1MLLtO47A5SwTGpOFxVhQ7o27Z5glnkjGoaAv+JtGSdHNGEPt/fOCwkdDaZ1gt8P3d\n",
       "gtwDvHfcCfqHZT7yd157BNEQyER6zTH4Siq+H1DWLpDN+fDGEVEkHZ3De8Nz6ALeXkKNznfKJMr5\n",
       "W4DD0qsIYX8lno4FP2e4oC6V1gcwTDrZ7mwFBQxVeJIFR4jXfTChEfraCf1qorPzY45f2OxnWH7m\n",
       "VWZ4+jC9VSaQI/bSo5gRvh1OTet7ve5RFmHUS2V4+v20NjQAjgi7pOkfqlhZg8+8X4cCid32wOiS\n",
       "w0PV8blj6Uei/IhB1KDLwZzCfKu6yKxHzywJyreTd4Ve3JeXr+KJPuWskJzIT3o76llSNJ2/hjX6\n",
       "qGvc630xCay7AUUAAAAIBgEEABoIEIAAAAGaYeGiHf/+jLAAnCjBTUY9s/EDNiBDnHyhBi0AcQD2\n",
       "3Fwyw5/4jiYPnb87sSld9A7a/Vl5D7/U4EDWQqfdldCpH61ImkvjfmZbSCrq9k3lrMjo9D5b8eKf\n",
       "i2uK4sbWcyKZ6ey4YVVeUs819NaVPodMyAoGXljs2j1XAzVUkrnouIA366FNM4JHznejXvtaiafB\n",
       "k+uzmM+bbHSQLKZB5YauqoHvLAntoaB0yCc3koctgRuZhzf8PF4sOZu0aI0M3iRBajQX2aiMEjSm\n",
       "WvIlNcNJBHqv+FXikhV2urVTOWnHcAppP6ZYqEYfHe8v3m5vPoEO0G9iR2kEH5DH/JgJcNw6W2OL\n",
       "jE3USahVP9We/veIfyfxKQMSThyF7lND7VXgDepEg/kQNInTUnQNDoNRtqqT0pRk5iibpl6AX+Jd\n",
       "1eyb7C+Ytqxm68NdMuim58hUT1CuBZccMi9r27IAn2Mca/cbMkhQsA4Sf1QEuq9ApCc8nPQoJkXm\n",
       "obtS5GrS0QC8qxN41pJ1EqN5qF/pSoqWCSJIZi2nGpD2TQzgFbAAAAAIBgEEABwIEIAAAAGTYeHC\n",
       "Hf/+jLAAnCjBTUY9stAVHF0DLcVOvpFvykhW2Pj/xmkDYYFvr2LNFz1/JQ+D5vxjaZhrAI+rQ9as\n",
       "NPzqtH8hXd7YfXoNBcM3C3YRRYPklpgLLM55MoU/HNTnhMOK7qqzdv7cEglGaIPnw7Maii9ZxR6T\n",
       "KBm9gdrjx25/nCOUmeN1OZWA92gscb9rg6afDgv1wuY5QxUr4WOca5oF5BR6e7BnG5o3fdNftHMN\n",
       "g53STes4OHJhdAS+mCbSDb0B/Mf7hPmGwbfJp/cuFz+A49usVexlWzZG0FXVpRVYKuxdTTW+2WN/\n",
       "/ia0FyH2kgFF6kqsxk/ydsi25N+B1rNo5z0Q4BDgJ5pfyWPc3Qtrt35FPAyXl+2meDJfIdziLS3Y\n",
       "TjEtvMSVqbE5iIGDRCzJYdBsVvDRpy0S8OvrCzIrW6edLAGvN+LETdOJa+LTk24TMj3FzsIji+id\n",
       "CWbZT/I6Wdytb95XSlDwU1unt8GU8VulmqQ/+Fgs4BjoeLtVw2j0Dmpv5aKdqhsZ5rBka2ApwOAL\n",
       "aAAAAAgGAQQAHggQgAAAAYdh4eId//6MsACcKJRuunhsxPdp+y8vt9o/q+bOubIVL0JIC/UUduSM\n",
       "Wxu5A0pLlAN5IU1fUlH0FdikeB2zPAH1FlAFVFLDV1xgyEB5ItGx1q9ZW0vyFILy5+zcf+w2Dhk0\n",
       "FN66pVtsmHZniLxD/yDfc8HdG7H9YH4h++KtBOAbTpIu2xWKOrfJjdxuEOyWyNHeNFsgimejIBrZ\n",
       "LWSCETBNqKLEpzNf25ZDP8ml743/oFFadaC3wDWp0lzBlb1eGwBIQljB2uB7kIJo79wMZy++NAR5\n",
       "JBiU53Jw7XUxtybzgELUrzEiOtoLZ5Y0qwSjKlJhY3QzP1e+bXgvhgBLMefdhtIpkaLkg7HcwZrN\n",
       "zUeUfLyDSUxAd3Rm9MgLwYbXBW/8Ite58Op25BMbFysAW9LM2mPdIsmad6y+uPwN4H1/MOsrd5ht\n",
       "qnibm1ksxHDi3KDna9FInLPY70INURZEY8KL+NVawe7bvztr1ysMY5SH0AFtyeK7dfapNfy3qb+q\n",
       "k/xlWXxK4BqQAAAACAYBBAAgCBCAAAABi2HiAh3//oywAJwov8We4oV8AIFfR0ygXsNz9bMketWr\n",
       "3sVVi7QKnqQgQw8mlH9d6i0IVBBqIiFrJxdbLnHBZJsrpmWr3fqeUyAyYXl5ttm62bcCYoiE7kxP\n",
       "CvY6NCnoQw2vXC7j47qoZinwoMQlC9H9UKJpF4JrS385jkjvqJwRvwV8N3V/ojYyO5CgUlGN59Po\n",
       "LQ10Wmnrkowf2cIdYXS5J08ogq/7GcDabgZxbAsdw4VSBpBGCVypIbU0IhL/rs4aP3JvQPbE4CZG\n",
       "EGvI2dCvzs4wfBxFPzd9azcXRA6FOTrZoEu3R6RtYmN5Egq1HYxHjNbjRfDEbXcufu9Gb7KV+SR8\n",
       "koTZNFqtT+RTZlkREGIx3jZS+DlJoC9Nz0ZocS8MNiR4tlxnMPjUF0i0eJp5OHEh+q7baoJDZ+wh\n",
       "rCpNEJjAbWtClHhhz2gfaXLh7W2InhiDFoYyBhhgjorSpAusb25AScwHNaAm6F3qp8bDdF8EpCqM\n",
       "u5SDLuhpS+BigpfponotgKWoID0gAAAACAYBBAAiCBCAAAABgGHiIh3//oywAJwok4h7fHIIJyxP\n",
       "nZ/zPd77BPyDW+E2LXgQPEXpdz/Kl1v+I0mbrcMGphu5MDqP6dyFv3B4SeoParAqRgghLNcCXD5T\n",
       "iyYkz6rCP/+UEO3wpRAk8F4rV8kRtkZTl/dy235H7jXC/XU4Mu/eB5KPElumRJoY3IPDU2nI4aWt\n",
       "CMP+uxvvuIpW6ckpvgKlt71xEk9XtN/X1394jW2pLTmjoMk+BMfUt3To4yRtSOtnZQUgmyi/DPmK\n",
       "vJvTsZ5aIyBR8idhRARgTnSji4DvoP3f2CIZeVuGtQYd2Uc+Yw1iY3ldGYO7CH9ETPo481d86vUU\n",
       "kq/6jeQ/9Ex8UheN/gPvUOdAbuQMyvIdG93p6QKSOYjicaidVoVPaseDpTbOF2s9aKntlbZ2clF/\n",
       "f9NPMmeMzdttDGo9xSUpEFke5NokUevLqIWHrjCZvhtyNtQYoEhXGUyvFPfv3sjM1Jq7VBBksPmj\n",
       "TL7JQW1FHUoHhlVFqCNhQHscrQBlQAAAAAgGAQQAJAgQgAAAAx5h4kIf//6eEAFY+DVyTJFe4C3f\n",
       "xj/Sz7KLcnbm7GiwnMmoxCrlk1o0UnQYSEB/P6wkA7QwOIHszBzicplhPiDofKzSKEyZ1jd5gY0+\n",
       "lXU6YHk+vV/rsGhOhO6ZFfVebkfKeDe5evQln8II0b7K13dXfcXIYrQzclv7270wfhZ1mjDyicHL\n",
       "Ab4tzLL9BfECg74HDRSy7Kbxu3RgHvenrO6v2FliBwWvMemtmEKgsEtHszuT9ZCt78bL8wW47UIL\n",
       "wIAEBCM9qYDNaNExPiIx1cSZOM3zhTBzJoj4lFDGuLvk0AU7s3ws9GnsDUoPOTYNDTTK8+Ljr4QP\n",
       "mZdvh16IZYxSE03W+bsNUZS00NWow2tEZtPlyLlkZtK1oDeDMLnJSdQWspliUpGJnavnnZDNwA6Q\n",
       "BdZFYeKVLMWNsvV/CegfUi4N0MQGNZ9kwY0QawRNC9u5KDF3Tsfeif5ArYhdgZOHc29Mq+lTlfuN\n",
       "xrRSyIdPLhLO3+zsQFsUv3Wytx3WMfkPU12eQfEoYC7EU3tWM1NQn/yjSLOLX2ZW6lHM0B7YYVYb\n",
       "R9Wy+2/7mhVLr2ryc9R35ZxQ6cn0xHjGVKVby/w3aehsj5s3Jx0M9gJ1Pdb9v/fmCSmY6HnFM6zV\n",
       "MtHBkS3FcDPzT/L7+G9jg0TEffBN1xO9InzWxWiqHHgDL5U/ThPYtEmZ9POjyfNxjmplzyidE6R6\n",
       "MqAhxhYqaqqYOE6rgK0TGSZlVp9cE1oXLU53ATiT2UGKZirtEsjFtDV9UHJcym0MdJragYmZmsqC\n",
       "WaHJjbN/6sya7JyTJJc2oCZVTYDaSIcej0ogKbajaLLPzAtaKEGLsk6CuxxLDu/azxDkqKJVWt/G\n",
       "I+FmyfI+UHqiPnAiyoyxgyK9Askrt0g0TvT3yeHqrIt3LkAYxGdbkFcjcdsU+wp4rxP+HkLLTKw8\n",
       "5mmbcnD9Cimp/xGpmHv3Gyjbl/twzKLJSaNLKsBIMlBnXST0YOOiPce+mQF/9CNr3VUj9u3P0KIV\n",
       "RnK+vBDN3axgbTj31MXNWj3AEGYyOksOzJMbIp1rpuVidnqNbqwAAAAIBgEEACYIEIAAAAGuYeJi\n",
       "H//+nhABWPfHfSIKDiOHTCu2Wc6JQfpvcrHerLa3h0bYpJZGRdEg4/8Fk7zt4QP9SNc7tC38mkhh\n",
       "gus/09cExtkBoWFqxngiGxcZ/CQBQ3bK3bLY9tD4KO4MEUveHD8/PQ8RC2yA+lKkIGSbHSLEjOQT\n",
       "u2CcKN0uEzVCmgQJdEIA3bkockIbOia4CjKFfyPE191BAAAHKqJERVPTA8OigKEIcklZy0FVJX2U\n",
       "Zg0GbZDlQZ9shpqzoUbjRUZlG8dgaKulu3fi39pI7I88hASmQ8B2/pFfEzX4H0xAfMcE91uL+7lu\n",
       "hpLmVbOdw5kqcY1HPhuZQpH+v6ckklz9BV8945KCOJR2rEZziKnnOfb2CWNFU0GhPEJEGUKVnj+l\n",
       "ElRI7GHL1gpMvN+VUFWpDAQ6L4IXiNQWQLb2ikBkplmuMEvQcqMcyAD3fQYn30/Nd1Z1xu++f1rM\n",
       "4QT21JU/f4z68qoOgavhXvi+pqe24dCCMGQxX+EdTbMWDJkK0GKMF8vNTDSaTYxvmR04NrQX2SsN\n",
       "kUiHnEuR2R+zX8/WJ+ltGRsGuNjicDrvqjn9gAAAA3dtb292AAAAbG12aGQAAAAAAAAAAAAAAAAA\n",
       "AAPoAAAH0AABAAABAAAAAAAAAAAAAAAAAQAAAAAAAAAAAAAAAAAAAAEAAAAAAAAAAAAAAAAAAEAA\n",
       "AAAAAAAAAAAAAAAAAAAAAAAAAAAAAAAAAAAAAAACAAACoXRyYWsAAABcdGtoZAAAAAMAAAAAAAAA\n",
       "AAAAAAEAAAAAAAAH0AAAAAAAAAAAAAAAAAAAAAAAAQAAAAAAAAAAAAAAAAAAAAEAAAAAAAAAAAAA\n",
       "AAAAAEAAAAAB9AAAAZAAAAAAACRlZHRzAAAAHGVsc3QAAAAAAAAAAQAAB9AAAAAAAAEAAAAAAhlt\n",
       "ZGlhAAAAIG1kaGQAAAAAAAAAAAAAAAAAACgAAABQAFXEAAAAAAAtaGRscgAAAAAAAAAAdmlkZQAA\n",
       "AAAAAAAAAAAAAFZpZGVvSGFuZGxlcgAAAAHEbWluZgAAABR2bWhkAAAAAQAAAAAAAAAAAAAAJGRp\n",
       "bmYAAAAcZHJlZgAAAAAAAAABAAAADHVybCAAAAABAAABhHN0YmwAAAC8c3RzZAAAAAAAAAABAAAA\n",
       "rGF2YzEAAAAAAAAAAQAAAAAAAAAAAAAAAAAAAAAB9AGQAEgAAABIAAAAAAAAAAEAAAAAAAAAAAAA\n",
       "AAAAAAAAAAAAAAAAAAAAAAAAAAAAAAAY//8AAAA6YXZjQwFNQBb/4QAjZ01AFpWgIAz5/ARAAAD6\n",
       "AAATiDgAAAw1AAAHoSC7y4PjhdQBAARo7jyAAAAAHHV1aWRraEDyXyRPxbo5pRvPAyPzAAAAAAAA\n",
       "ABhzdHRzAAAAAAAAAAEAAAAUAAAEAAAAABRzdHNzAAAAAAAAAAEAAAABAAAAHHN0c2MAAAAAAAAA\n",
       "AQAAAAEAAAAUAAAAAQAAAGRzdHN6AAAAAAAAAAAAAAAUAAAl6QAAChAAAAxmAAAKlAAAC8wAAAtZ\n",
       "AAAJTQAACIAAAAadAAAFYgAAA/sAAAKRAAABsQAAAaoAAAGjAAABlwAAAZsAAAGQAAADLgAAAb4A\n",
       "AAAUc3RjbwAAAAAAAAABAAAALAAAAGJ1ZHRhAAAAWm1ldGEAAAAAAAAAIWhkbHIAAAAAAAAAAG1k\n",
       "aXJhcHBsAAAAAAAAAAAAAAAALWlsc3QAAAAlqXRvbwAAAB1kYXRhAAAAAQAAAABMYXZmNTcuODMu\n",
       "MTAw\n",
       "\">\n",
       "  Your browser does not support the video tag.\n",
       "</video>"
      ],
      "text/plain": [
       "<matplotlib.animation.FuncAnimation at 0x7f1c8581cb00>"
      ]
     },
     "execution_count": 21,
     "metadata": {},
     "output_type": "execute_result"
    }
   ],
   "source": [
    "fig = plt.figure(dpi=100, figsize=(5, 4))\n",
    "plt.scatter(x,y)\n",
    "line, = plt.plot(x,lin(a_guess,b_guess,x))\n",
    "plt.close()\n",
    "\n",
    "def animate(i):\n",
    "    line.set_ydata(lin(a_guess,b_guess,x))\n",
    "    for i in range(30): upd()\n",
    "    return line,\n",
    "\n",
    "ani = animation.FuncAnimation(fig, animate, np.arange(0, 20), interval=100)\n",
    "ani"
   ]
  },
  {
   "cell_type": "code",
   "execution_count": null,
   "metadata": {
    "collapsed": true
   },
   "outputs": [],
   "source": []
  }
 ],
 "metadata": {
  "kernelspec": {
   "display_name": "Python 3",
   "language": "python",
   "name": "python3"
  },
  "language_info": {
   "codemirror_mode": {
    "name": "ipython",
    "version": 3
   },
   "file_extension": ".py",
   "mimetype": "text/x-python",
   "name": "python",
   "nbconvert_exporter": "python",
   "pygments_lexer": "ipython3",
   "version": "3.6.4"
  },
  "nav_menu": {},
  "toc": {
   "colors": {
    "hover_highlight": "#DAA520",
    "navigate_num": "#000000",
    "navigate_text": "#333333",
    "running_highlight": "#FF0000",
    "selected_highlight": "#FFD700",
    "sidebar_border": "#EEEEEE",
    "wrapper_background": "#FFFFFF"
   },
   "moveMenuLeft": true,
   "nav_menu": {
    "height": "116px",
    "width": "251px"
   },
   "navigate_menu": true,
   "number_sections": true,
   "sideBar": true,
   "threshold": 4,
   "toc_cell": true,
   "toc_section_display": "block",
   "toc_window_display": false,
   "widenNotebook": false
  },
  "widgets": {
   "state": {},
   "version": "1.1.2"
  }
 },
 "nbformat": 4,
 "nbformat_minor": 2
}
