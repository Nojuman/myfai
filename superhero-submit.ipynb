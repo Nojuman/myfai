{
 "cells": [
  {
   "cell_type": "code",
   "execution_count": 1,
   "metadata": {},
   "outputs": [],
   "source": [
    "%reload_ext autoreload\n",
    "%autoreload 2\n",
    "%matplotlib inline"
   ]
  },
  {
   "cell_type": "code",
   "execution_count": 2,
   "metadata": {},
   "outputs": [],
   "source": [
    "from fastai.imports import *\n",
    "from fastai.transforms import *\n",
    "from fastai.conv_learner import *\n",
    "from fastai.model import *\n",
    "from fastai.dataset import *\n",
    "from fastai.sgdr import *\n",
    "from fastai.plots import *"
   ]
  },
  {
   "cell_type": "code",
   "execution_count": 3,
   "metadata": {},
   "outputs": [],
   "source": [
    "PATH = \"data/superheroes/\"\n"
   ]
  },
  {
   "cell_type": "code",
   "execution_count": 4,
   "metadata": {},
   "outputs": [
    {
     "data": {
      "text/plain": [
       "(True, True)"
      ]
     },
     "execution_count": 4,
     "metadata": {},
     "output_type": "execute_result"
    }
   ],
   "source": [
    "torch.cuda.is_available(), torch.backends.cudnn.enabled"
   ]
  },
  {
   "cell_type": "code",
   "execution_count": 5,
   "metadata": {},
   "outputs": [
    {
     "name": "stdout",
     "output_type": "stream",
     "text": [
      "\u001b[0m\u001b[01;34mCAX_Superhero_Test\u001b[0m/                       Superhero_3375_SampleSubmission.csv\n",
      "\u001b[01;34mCAX_Superhero_Train\u001b[0m/                      Superhero_Submission_Format.csv\n",
      "CrowdANALYTIX-Best-Practices-2018-v1.pdf  \u001b[01;34mtest\u001b[0m/\n",
      "\u001b[01;34m__MACOSX\u001b[0m/                                 \u001b[01;34mtmp\u001b[0m/\n",
      "\u001b[01;34mmodels\u001b[0m/                                   \u001b[01;34mtrain\u001b[0m/\n",
      "Sample_Submission_Values.csv              \u001b[01;34mvalid\u001b[0m/\n",
      "\u001b[01;34msubm\u001b[0m/\n"
     ]
    }
   ],
   "source": [
    "ls {PATH}"
   ]
  },
  {
   "cell_type": "code",
   "execution_count": 6,
   "metadata": {},
   "outputs": [
    {
     "name": "stdout",
     "output_type": "stream",
     "text": [
      "Ant-Man  Avengers  Black_Panther    Catwoman\t Hulk\t   Spiderman\n",
      "Aquaman  Batman    Captain_America  Ghost_Rider  Iron_Man  Superman\n"
     ]
    }
   ],
   "source": [
    "pathtrain = PATH+'train/'\n",
    "pathvalid = PATH + 'valid/'\n",
    "!ls {pathtrain}"
   ]
  },
  {
   "cell_type": "markdown",
   "metadata": {},
   "source": [
    "## preprocessing"
   ]
  },
  {
   "cell_type": "code",
   "execution_count": 7,
   "metadata": {},
   "outputs": [
    {
     "data": {
      "text/plain": [
       "(12,\n",
       " ['/Iron_Man/',\n",
       "  '/Spiderman/',\n",
       "  '/Batman/',\n",
       "  '/Aquaman/',\n",
       "  '/Ant-Man/',\n",
       "  '/Superman/',\n",
       "  '/Catwoman/',\n",
       "  '/Captain_America/',\n",
       "  '/Hulk/',\n",
       "  '/Black_Panther/',\n",
       "  '/Avengers/',\n",
       "  '/Ghost_Rider/'])"
      ]
     },
     "execution_count": 7,
     "metadata": {},
     "output_type": "execute_result"
    }
   ],
   "source": [
    "subd = [sub[22:] for sub in glob(pathtrain + '*/')]\n",
    "len(subd), subd"
   ]
  },
  {
   "cell_type": "code",
   "execution_count": 8,
   "metadata": {},
   "outputs": [
    {
     "name": "stdout",
     "output_type": "stream",
     "text": [
      "Iron_Man <class 'str'>\n",
      "Spiderman <class 'str'>\n",
      "Batman <class 'str'>\n",
      "Aquaman <class 'str'>\n",
      "Ant-Man <class 'str'>\n",
      "Superman <class 'str'>\n",
      "Catwoman <class 'str'>\n",
      "Captain_America <class 'str'>\n",
      "Hulk <class 'str'>\n",
      "Black_Panther <class 'str'>\n",
      "Avengers <class 'str'>\n",
      "Ghost_Rider <class 'str'>\n"
     ]
    }
   ],
   "source": [
    "for filename in os.listdir(pathtrain):\n",
    "    print(filename, type(filename))"
   ]
  },
  {
   "cell_type": "code",
   "execution_count": 44,
   "metadata": {},
   "outputs": [],
   "source": [
    "# change folder name to remove spaces\n",
    "for folder in os.listdir(pathtrain):\n",
    "    if ' ' in folder:\n",
    "        newname = folder.replace(' ','_')\n",
    "        os.rename(os.path.join(pathtrain, folder),\n",
    "                  os.path.join(pathtrain, newname))"
   ]
  },
  {
   "cell_type": "code",
   "execution_count": 48,
   "metadata": {},
   "outputs": [
    {
     "name": "stdout",
     "output_type": "stream",
     "text": [
      "Ant-Man  Avengers  Black_Panther    Catwoman\t Hulk\t   Spiderman\n",
      "Aquaman  Batman    Captain_America  Ghost_Rider  Iron_Man  Superman\n"
     ]
    }
   ],
   "source": [
    "for folder in os.listdir(pathtrain):\n",
    "    os.mkdir(pathvalid+folder)\n",
    "\n",
    "!ls {pathvalid}"
   ]
  },
  {
   "cell_type": "code",
   "execution_count": 70,
   "metadata": {},
   "outputs": [
    {
     "name": "stdout",
     "output_type": "stream",
     "text": [
      "Iron_Man/\n",
      "Spiderman/\n",
      "Batman/\n",
      "Aquaman/\n",
      "Ant-Man/\n",
      "Superman/\n",
      "Catwoman/\n",
      "Captain_America/\n",
      "Hulk/\n",
      "Black_Panther/\n",
      "Avengers/\n",
      "Ghost_Rider/\n"
     ]
    }
   ],
   "source": [
    "for folder in glob(pathtrain + '*/'):\n",
    "    print(folder[23:])\n",
    "    fullset = glob(folder + '*.*')\n",
    "    n = len(fullset)\n",
    "    valset = get_cv_idxs(n)\n",
    "    for v in valset:\n",
    "        !mv {fullset[v]} {pathvalid}{folder[23:]}"
   ]
  },
  {
   "cell_type": "code",
   "execution_count": 78,
   "metadata": {},
   "outputs": [
    {
     "data": {
      "text/plain": [
       "<matplotlib.image.AxesImage at 0x7f2fe69e8208>"
      ]
     },
     "execution_count": 78,
     "metadata": {},
     "output_type": "execute_result"
    },
    {
     "data": {
      "image/png": "[encoded data removed]",
      "text/plain": [
       "<matplotlib.figure.Figure at 0x7f2fe8317748>"
      ]
     },
     "metadata": {},
     "output_type": "display_data"
    }
   ],
   "source": [
    "files = !ls {pathvalid}/Ant-Man | head\n",
    "img = plt.imread(f'{pathvalid}/Ant-Man/{files[0]}')\n",
    "plt.imshow(img)"
   ]
  },
  {
   "cell_type": "code",
   "execution_count": 79,
   "metadata": {},
   "outputs": [
    {
     "data": {
      "text/plain": [
       "(225, 225, 3)"
      ]
     },
     "execution_count": 79,
     "metadata": {},
     "output_type": "execute_result"
    }
   ],
   "source": [
    "img.shape"
   ]
  },
  {
   "cell_type": "markdown",
   "metadata": {},
   "source": [
    "## check size"
   ]
  },
  {
   "cell_type": "code",
   "execution_count": 7,
   "metadata": {},
   "outputs": [],
   "source": [
    "arch = resnet34\n",
    "sz = 200\n",
    "bs = 64\n",
    "data = ImageClassifierData.from_paths(PATH, tfms=tfms_from_model(arch,sz))\n",
    "#learn = ConvLearner.pretrained(arch, data, precompute=True)\n",
    "#learn.fit(0.01,3)"
   ]
  },
  {
   "cell_type": "code",
   "execution_count": 8,
   "metadata": {},
   "outputs": [],
   "source": [
    "size_d = {k: PIL.Image.open(PATH+k).size for k in data.trn_ds.fnames}"
   ]
  },
  {
   "cell_type": "code",
   "execution_count": 9,
   "metadata": {},
   "outputs": [],
   "source": [
    "row_sz, col_sz = list(zip(*size_d.values()))\n",
    "row_sz = np.array(row_sz)\n",
    "col_sz = np.array(col_sz)"
   ]
  },
  {
   "cell_type": "code",
   "execution_count": 10,
   "metadata": {},
   "outputs": [
    {
     "data": {
      "text/plain": [
       "(array([   3.,   31., 4382.,  427.,   13.,    3.,   14.,   13.,    2.,    2.]),\n",
       " array([ 73. , 119.7, 166.4, 213.1, 259.8, 306.5, 353.2, 399.9, 446.6, 493.3, 540. ]),\n",
       " <a list of 10 Patch objects>)"
      ]
     },
     "execution_count": 10,
     "metadata": {},
     "output_type": "execute_result"
    },
    {
     "data": {
      "image/png": "[encoded data removed]",
      "text/plain": [
       "<matplotlib.figure.Figure at 0x7fc9be980048>"
      ]
     },
     "metadata": {},
     "output_type": "display_data"
    }
   ],
   "source": [
    "plt.hist(row_sz)"
   ]
  },
  {
   "cell_type": "code",
   "execution_count": 11,
   "metadata": {},
   "outputs": [
    {
     "data": {
      "text/plain": [
       "(array([   2.,    9.,   10.,   21., 4297.,  305.,   68.,  139.,    5.,    3.]),\n",
       " array([ 73. ,  98.7, 124.4, 150.1, 175.8, 201.5, 227.2, 252.9, 278.6, 304.3, 330. ]),\n",
       " <a list of 10 Patch objects>)"
      ]
     },
     "execution_count": 11,
     "metadata": {},
     "output_type": "execute_result"
    },
    {
     "data": {
      "image/png": "[encoded data removed]",
      "text/plain": [
       "<matplotlib.figure.Figure at 0x7f2c336ceba8>"
      ]
     },
     "metadata": {},
     "output_type": "display_data"
    }
   ],
   "source": [
    "plt.hist(row_sz[row_sz<350])"
   ]
  },
  {
   "cell_type": "code",
   "execution_count": 12,
   "metadata": {},
   "outputs": [
    {
     "data": {
      "text/plain": [
       "(array([  15., 1528.,  334., 2978.,    5.,    0.,   13.,    0.,   16.,    1.]),\n",
       " array([120. , 160.2, 200.4, 240.6, 280.8, 321. , 361.2, 401.4, 441.6, 481.8, 522. ]),\n",
       " <a list of 10 Patch objects>)"
      ]
     },
     "execution_count": 12,
     "metadata": {},
     "output_type": "execute_result"
    },
    {
     "data": {
      "image/png": "[encoded data removed]",
      "text/plain": [
       "<matplotlib.figure.Figure at 0x7f2c301c5240>"
      ]
     },
     "metadata": {},
     "output_type": "display_data"
    }
   ],
   "source": [
    "plt.hist(col_sz)"
   ]
  },
  {
   "cell_type": "code",
   "execution_count": 13,
   "metadata": {},
   "outputs": [
    {
     "data": {
      "text/plain": [
       "(array([   8.,    1.,    7.,  958.,  609.,  256.,   43., 2940.,   34.,    4.]),\n",
       " array([120., 138., 156., 174., 192., 210., 228., 246., 264., 282., 300.]),\n",
       " <a list of 10 Patch objects>)"
      ]
     },
     "execution_count": 13,
     "metadata": {},
     "output_type": "execute_result"
    },
    {
     "data": {
      "image/png": "[encoded data removed]",
      "text/plain": [
       "<matplotlib.figure.Figure at 0x7f2c301c14a8>"
      ]
     },
     "metadata": {},
     "output_type": "display_data"
    }
   ],
   "source": [
    "plt.hist(col_sz[col_sz<350])"
   ]
  },
  {
   "cell_type": "markdown",
   "metadata": {},
   "source": [
    "## step 1"
   ]
  },
  {
   "cell_type": "code",
   "execution_count": 8,
   "metadata": {},
   "outputs": [],
   "source": [
    "arch = resnet34\n",
    "sz = 196\n",
    "bs = 48"
   ]
  },
  {
   "cell_type": "code",
   "execution_count": 9,
   "metadata": {},
   "outputs": [],
   "source": [
    "# create function to make it easy to vary img sz and bs for sota technique\n",
    "# of increasing img sz and bs to prevent overfitting\n",
    "def get_data(sz, bs):\n",
    "    tfms = tfms_from_model(arch,sz, \n",
    "                           aug_tfms=transforms_side_on, \n",
    "                           max_zoom=1.1)\n",
    "    data = ImageClassifierData.from_paths(PATH, \n",
    "                                          tfms=tfms, bs=bs, \n",
    "                                          test_name='test')\n",
    "    return data if sz>300 else data.resize(340,'tmp')   "
   ]
  },
  {
   "cell_type": "code",
   "execution_count": 10,
   "metadata": {},
   "outputs": [
    {
     "data": {
      "application/vnd.jupyter.widget-view+json": {
       "model_id": "a2c70f9d12664513a48ccf481856b4b3",
       "version_major": 2,
       "version_minor": 0
      },
      "text/html": [
       "<p>Failed to display Jupyter Widget of type <code>HBox</code>.</p>\n",
       "<p>\n",
       "  If you're reading this message in the Jupyter Notebook or JupyterLab Notebook, it may mean\n",
       "  that the widgets JavaScript is still loading. If this message persists, it\n",
       "  likely means that the widgets JavaScript library is either not installed or\n",
       "  not enabled. See the <a href=\"https://ipywidgets.readthedocs.io/en/stable/user_install.html\">Jupyter\n",
       "  Widgets Documentation</a> for setup instructions.\n",
       "</p>\n",
       "<p>\n",
       "  If you're reading this message in another frontend (for example, a static\n",
       "  rendering on GitHub or <a href=\"https://nbviewer.jupyter.org/\">NBViewer</a>),\n",
       "  it may mean that your frontend doesn't currently support widgets.\n",
       "</p>\n"
      ],
      "text/plain": [
       "HBox(children=(IntProgress(value=0, max=6), HTML(value='')))"
      ]
     },
     "metadata": {},
     "output_type": "display_data"
    },
    {
     "name": "stdout",
     "output_type": "stream",
     "text": [
      "\n",
      "100%|██████████| 102/102 [00:19<00:00,  5.20it/s]\n",
      "100%|██████████| 12/12 [00:02<00:00,  5.47it/s]\n",
      "100%|██████████| 71/71 [00:12<00:00,  5.60it/s]\n"
     ]
    }
   ],
   "source": [
    "data = get_data(sz,bs)\n",
    "learn = ConvLearner.pretrained(arch, data, precompute=True, ps=0.5)\n",
    "\n",
    "#learn.fit(0.01,3)"
   ]
  },
  {
   "cell_type": "markdown",
   "metadata": {},
   "source": [
    "## step 2"
   ]
  },
  {
   "cell_type": "code",
   "execution_count": 11,
   "metadata": {},
   "outputs": [
    {
     "data": {
      "application/vnd.jupyter.widget-view+json": {
       "model_id": "cad8219ee82c4efc8f1e54e25ba5f628",
       "version_major": 2,
       "version_minor": 0
      },
      "text/html": [
       "<p>Failed to display Jupyter Widget of type <code>HBox</code>.</p>\n",
       "<p>\n",
       "  If you're reading this message in the Jupyter Notebook or JupyterLab Notebook, it may mean\n",
       "  that the widgets JavaScript is still loading. If this message persists, it\n",
       "  likely means that the widgets JavaScript library is either not installed or\n",
       "  not enabled. See the <a href=\"https://ipywidgets.readthedocs.io/en/stable/user_install.html\">Jupyter\n",
       "  Widgets Documentation</a> for setup instructions.\n",
       "</p>\n",
       "<p>\n",
       "  If you're reading this message in another frontend (for example, a static\n",
       "  rendering on GitHub or <a href=\"https://nbviewer.jupyter.org/\">NBViewer</a>),\n",
       "  it may mean that your frontend doesn't currently support widgets.\n",
       "</p>\n"
      ],
      "text/plain": [
       "HBox(children=(IntProgress(value=0, description='Epoch', max=1), HTML(value='')))"
      ]
     },
     "metadata": {},
     "output_type": "display_data"
    },
    {
     "name": "stdout",
     "output_type": "stream",
     "text": [
      " 85%|████████▌ | 87/102 [00:00<00:00, 190.06it/s, loss=12.2]\n"
     ]
    }
   ],
   "source": [
    "lrf = learn.lr_find()"
   ]
  },
  {
   "cell_type": "code",
   "execution_count": 12,
   "metadata": {},
   "outputs": [
    {
     "data": {
      "image/png": "[encoded data removed]",
      "text/plain": [
       "<matplotlib.figure.Figure at 0x7f817ac26e10>"
      ]
     },
     "metadata": {},
     "output_type": "display_data"
    }
   ],
   "source": [
    "learn.sched.plot()"
   ]
  },
  {
   "cell_type": "markdown",
   "metadata": {},
   "source": [
    "## step 3"
   ]
  },
  {
   "cell_type": "code",
   "execution_count": 13,
   "metadata": {},
   "outputs": [
    {
     "data": {
      "application/vnd.jupyter.widget-view+json": {
       "model_id": "0c4854fd4ac44f3ab91e9abb995a497c",
       "version_major": 2,
       "version_minor": 0
      },
      "text/html": [
       "<p>Failed to display Jupyter Widget of type <code>HBox</code>.</p>\n",
       "<p>\n",
       "  If you're reading this message in the Jupyter Notebook or JupyterLab Notebook, it may mean\n",
       "  that the widgets JavaScript is still loading. If this message persists, it\n",
       "  likely means that the widgets JavaScript library is either not installed or\n",
       "  not enabled. See the <a href=\"https://ipywidgets.readthedocs.io/en/stable/user_install.html\">Jupyter\n",
       "  Widgets Documentation</a> for setup instructions.\n",
       "</p>\n",
       "<p>\n",
       "  If you're reading this message in another frontend (for example, a static\n",
       "  rendering on GitHub or <a href=\"https://nbviewer.jupyter.org/\">NBViewer</a>),\n",
       "  it may mean that your frontend doesn't currently support widgets.\n",
       "</p>\n"
      ],
      "text/plain": [
       "HBox(children=(IntProgress(value=0, description='Epoch', max=2), HTML(value='')))"
      ]
     },
     "metadata": {},
     "output_type": "display_data"
    },
    {
     "name": "stdout",
     "output_type": "stream",
     "text": [
      "epoch      trn_loss   val_loss   accuracy   \n",
      "    0      2.038103   1.494437   0.507986  \n",
      "    1      1.727562   1.326945   0.597569  \n",
      "\n"
     ]
    },
    {
     "data": {
      "text/plain": [
       "[1.3269451, 0.5975694420437018]"
      ]
     },
     "execution_count": 13,
     "metadata": {},
     "output_type": "execute_result"
    }
   ],
   "source": [
    "learn.fit(0.01,2)"
   ]
  },
  {
   "cell_type": "markdown",
   "metadata": {},
   "source": [
    "## step 4"
   ]
  },
  {
   "cell_type": "code",
   "execution_count": 14,
   "metadata": {},
   "outputs": [
    {
     "data": {
      "application/vnd.jupyter.widget-view+json": {
       "model_id": "3e15b315c05246138dbf15b155fe2b54",
       "version_major": 2,
       "version_minor": 0
      },
      "text/html": [
       "<p>Failed to display Jupyter Widget of type <code>HBox</code>.</p>\n",
       "<p>\n",
       "  If you're reading this message in the Jupyter Notebook or JupyterLab Notebook, it may mean\n",
       "  that the widgets JavaScript is still loading. If this message persists, it\n",
       "  likely means that the widgets JavaScript library is either not installed or\n",
       "  not enabled. See the <a href=\"https://ipywidgets.readthedocs.io/en/stable/user_install.html\">Jupyter\n",
       "  Widgets Documentation</a> for setup instructions.\n",
       "</p>\n",
       "<p>\n",
       "  If you're reading this message in another frontend (for example, a static\n",
       "  rendering on GitHub or <a href=\"https://nbviewer.jupyter.org/\">NBViewer</a>),\n",
       "  it may mean that your frontend doesn't currently support widgets.\n",
       "</p>\n"
      ],
      "text/plain": [
       "HBox(children=(IntProgress(value=0, description='Epoch', max=3), HTML(value='')))"
      ]
     },
     "metadata": {},
     "output_type": "display_data"
    },
    {
     "name": "stdout",
     "output_type": "stream",
     "text": [
      "epoch      trn_loss   val_loss   accuracy   \n",
      "    0      1.635797   1.30428    0.589236  \n",
      "    1      1.603217   1.302744   0.592014  \n",
      "    2      1.590669   1.250607   0.607292  \n",
      "\n"
     ]
    },
    {
     "data": {
      "text/plain": [
       "[1.2506069, 0.6072916686534882]"
      ]
     },
     "execution_count": 14,
     "metadata": {},
     "output_type": "execute_result"
    }
   ],
   "source": [
    "learn.precompute=False\n",
    "learn.fit(1e-2, 3, cycle_len=1)"
   ]
  },
  {
   "cell_type": "code",
   "execution_count": 15,
   "metadata": {},
   "outputs": [
    {
     "data": {
      "application/vnd.jupyter.widget-view+json": {
       "model_id": "aeca006bc4db43aaa5f0c93c71892143",
       "version_major": 2,
       "version_minor": 0
      },
      "text/html": [
       "<p>Failed to display Jupyter Widget of type <code>HBox</code>.</p>\n",
       "<p>\n",
       "  If you're reading this message in the Jupyter Notebook or JupyterLab Notebook, it may mean\n",
       "  that the widgets JavaScript is still loading. If this message persists, it\n",
       "  likely means that the widgets JavaScript library is either not installed or\n",
       "  not enabled. See the <a href=\"https://ipywidgets.readthedocs.io/en/stable/user_install.html\">Jupyter\n",
       "  Widgets Documentation</a> for setup instructions.\n",
       "</p>\n",
       "<p>\n",
       "  If you're reading this message in another frontend (for example, a static\n",
       "  rendering on GitHub or <a href=\"https://nbviewer.jupyter.org/\">NBViewer</a>),\n",
       "  it may mean that your frontend doesn't currently support widgets.\n",
       "</p>\n"
      ],
      "text/plain": [
       "HBox(children=(IntProgress(value=0, description='Epoch', max=7), HTML(value='')))"
      ]
     },
     "metadata": {},
     "output_type": "display_data"
    },
    {
     "name": "stdout",
     "output_type": "stream",
     "text": [
      "epoch      trn_loss   val_loss   accuracy   \n",
      "    0      1.329769   1.067246   0.659722  \n",
      "    1      1.056969   0.844091   0.74375   \n",
      "    2      0.838151   0.812456   0.7625    \n",
      "    3      0.771546   0.752247   0.755208  \n",
      "    4      0.612778   0.696853   0.790972  \n",
      "    5      0.491818   0.672132   0.792708  \n",
      "    6      0.439065   0.662772   0.799653  \n",
      "\n"
     ]
    },
    {
     "data": {
      "text/plain": [
       "[0.66277236, 0.7996527850627899]"
      ]
     },
     "execution_count": 15,
     "metadata": {},
     "output_type": "execute_result"
    }
   ],
   "source": [
    "learn.unfreeze()\n",
    "lr = np.array([1e-4, 1e-3, 1e-2])\n",
    "learn.fit(lr, 3, cycle_len=1, cycle_mult=2)"
   ]
  },
  {
   "cell_type": "code",
   "execution_count": 16,
   "metadata": {},
   "outputs": [],
   "source": [
    "learn.save('196_suph')"
   ]
  },
  {
   "cell_type": "code",
   "execution_count": 17,
   "metadata": {},
   "outputs": [],
   "source": [
    "learn.load('196_suph')"
   ]
  },
  {
   "cell_type": "markdown",
   "metadata": {},
   "source": [
    "## repeat for sz = 255"
   ]
  },
  {
   "cell_type": "code",
   "execution_count": 18,
   "metadata": {},
   "outputs": [
    {
     "data": {
      "application/vnd.jupyter.widget-view+json": {
       "model_id": "31eb62942b804eba93712a31c1892984",
       "version_major": 2,
       "version_minor": 0
      },
      "text/html": [
       "<p>Failed to display Jupyter Widget of type <code>HBox</code>.</p>\n",
       "<p>\n",
       "  If you're reading this message in the Jupyter Notebook or JupyterLab Notebook, it may mean\n",
       "  that the widgets JavaScript is still loading. If this message persists, it\n",
       "  likely means that the widgets JavaScript library is either not installed or\n",
       "  not enabled. See the <a href=\"https://ipywidgets.readthedocs.io/en/stable/user_install.html\">Jupyter\n",
       "  Widgets Documentation</a> for setup instructions.\n",
       "</p>\n",
       "<p>\n",
       "  If you're reading this message in another frontend (for example, a static\n",
       "  rendering on GitHub or <a href=\"https://nbviewer.jupyter.org/\">NBViewer</a>),\n",
       "  it may mean that your frontend doesn't currently support widgets.\n",
       "</p>\n"
      ],
      "text/plain": [
       "HBox(children=(IntProgress(value=0, max=6), HTML(value='')))"
      ]
     },
     "metadata": {},
     "output_type": "display_data"
    },
    {
     "name": "stdout",
     "output_type": "stream",
     "text": [
      "\n"
     ]
    }
   ],
   "source": [
    "learn.set_data(get_data(256,32))\n",
    "learn.freeze()\n",
    "#learn.precompute=True\n",
    "#learn.fit(1e-2, 3, cycle_len=1)"
   ]
  },
  {
   "cell_type": "code",
   "execution_count": 19,
   "metadata": {},
   "outputs": [
    {
     "data": {
      "application/vnd.jupyter.widget-view+json": {
       "model_id": "4bc5763b8e054063b65dfc13e69d5d66",
       "version_major": 2,
       "version_minor": 0
      },
      "text/html": [
       "<p>Failed to display Jupyter Widget of type <code>HBox</code>.</p>\n",
       "<p>\n",
       "  If you're reading this message in the Jupyter Notebook or JupyterLab Notebook, it may mean\n",
       "  that the widgets JavaScript is still loading. If this message persists, it\n",
       "  likely means that the widgets JavaScript library is either not installed or\n",
       "  not enabled. See the <a href=\"https://ipywidgets.readthedocs.io/en/stable/user_install.html\">Jupyter\n",
       "  Widgets Documentation</a> for setup instructions.\n",
       "</p>\n",
       "<p>\n",
       "  If you're reading this message in another frontend (for example, a static\n",
       "  rendering on GitHub or <a href=\"https://nbviewer.jupyter.org/\">NBViewer</a>),\n",
       "  it may mean that your frontend doesn't currently support widgets.\n",
       "</p>\n"
      ],
      "text/plain": [
       "HBox(children=(IntProgress(value=0, description='Epoch', max=1), HTML(value='')))"
      ]
     },
     "metadata": {},
     "output_type": "display_data"
    },
    {
     "name": "stdout",
     "output_type": "stream",
     "text": [
      " 84%|████████▍ | 129/153 [00:38<00:07,  3.36it/s, loss=1.93]"
     ]
    },
    {
     "data": {
      "image/png": "[encoded data removed]",
      "text/plain": [
       "<matplotlib.figure.Figure at 0x7f8172923c50>"
      ]
     },
     "metadata": {},
     "output_type": "display_data"
    }
   ],
   "source": [
    "lrf2 = learn.lr_find()\n",
    "learn.sched.plot()"
   ]
  },
  {
   "cell_type": "code",
   "execution_count": 20,
   "metadata": {},
   "outputs": [
    {
     "data": {
      "application/vnd.jupyter.widget-view+json": {
       "model_id": "d1d45fde8dd34961ad4383f04caf996e",
       "version_major": 2,
       "version_minor": 0
      },
      "text/html": [
       "<p>Failed to display Jupyter Widget of type <code>HBox</code>.</p>\n",
       "<p>\n",
       "  If you're reading this message in the Jupyter Notebook or JupyterLab Notebook, it may mean\n",
       "  that the widgets JavaScript is still loading. If this message persists, it\n",
       "  likely means that the widgets JavaScript library is either not installed or\n",
       "  not enabled. See the <a href=\"https://ipywidgets.readthedocs.io/en/stable/user_install.html\">Jupyter\n",
       "  Widgets Documentation</a> for setup instructions.\n",
       "</p>\n",
       "<p>\n",
       "  If you're reading this message in another frontend (for example, a static\n",
       "  rendering on GitHub or <a href=\"https://nbviewer.jupyter.org/\">NBViewer</a>),\n",
       "  it may mean that your frontend doesn't currently support widgets.\n",
       "</p>\n"
      ],
      "text/plain": [
       "HBox(children=(IntProgress(value=0, description='Epoch', max=3), HTML(value='')))"
      ]
     },
     "metadata": {},
     "output_type": "display_data"
    },
    {
     "name": "stdout",
     "output_type": "stream",
     "text": [
      "  0%|          | 0/153 [00:00<?, ?it/s]\n"
     ]
    },
    {
     "name": "stderr",
     "output_type": "stream",
     "text": [
      "Exception in thread Thread-26:\n",
      "Traceback (most recent call last):\n",
      "  File \"/home/jchoo/miniconda3/envs/fastai/lib/python3.6/threading.py\", line 916, in _bootstrap_inner\n",
      "    self.run()\n",
      "  File \"/home/jchoo/miniconda3/envs/fastai/lib/python3.6/site-packages/tqdm/_tqdm.py\", line 144, in run\n",
      "    for instance in self.tqdm_cls._instances:\n",
      "  File \"/home/jchoo/miniconda3/envs/fastai/lib/python3.6/_weakrefset.py\", line 60, in __iter__\n",
      "    for itemref in self.data:\n",
      "RuntimeError: Set changed size during iteration\n",
      "\n"
     ]
    },
    {
     "name": "stdout",
     "output_type": "stream",
     "text": [
      "epoch      trn_loss   val_loss   accuracy   \n",
      "    0      0.499656   0.672522   0.79388   \n",
      "    1      0.509847   0.661885   0.795719  \n",
      "    2      0.517051   0.663638   0.801233  \n",
      "\n"
     ]
    },
    {
     "data": {
      "text/plain": [
       "[0.6636375, 0.8012333968106438]"
      ]
     },
     "execution_count": 20,
     "metadata": {},
     "output_type": "execute_result"
    }
   ],
   "source": [
    "learn.precompute=False\n",
    "learn.fit(1e-3, 3, cycle_len=1)"
   ]
  },
  {
   "cell_type": "code",
   "execution_count": 21,
   "metadata": {},
   "outputs": [
    {
     "data": {
      "application/vnd.jupyter.widget-view+json": {
       "model_id": "ed5548e8d42447ddbb8993b0e773cf9a",
       "version_major": 2,
       "version_minor": 0
      },
      "text/html": [
       "<p>Failed to display Jupyter Widget of type <code>HBox</code>.</p>\n",
       "<p>\n",
       "  If you're reading this message in the Jupyter Notebook or JupyterLab Notebook, it may mean\n",
       "  that the widgets JavaScript is still loading. If this message persists, it\n",
       "  likely means that the widgets JavaScript library is either not installed or\n",
       "  not enabled. See the <a href=\"https://ipywidgets.readthedocs.io/en/stable/user_install.html\">Jupyter\n",
       "  Widgets Documentation</a> for setup instructions.\n",
       "</p>\n",
       "<p>\n",
       "  If you're reading this message in another frontend (for example, a static\n",
       "  rendering on GitHub or <a href=\"https://nbviewer.jupyter.org/\">NBViewer</a>),\n",
       "  it may mean that your frontend doesn't currently support widgets.\n",
       "</p>\n"
      ],
      "text/plain": [
       "HBox(children=(IntProgress(value=0, description='Epoch', max=7), HTML(value='')))"
      ]
     },
     "metadata": {},
     "output_type": "display_data"
    },
    {
     "name": "stdout",
     "output_type": "stream",
     "text": [
      "epoch      trn_loss   val_loss   accuracy   \n",
      "    0      0.571698   0.620462   0.806748  \n",
      "    1      0.517594   0.560128   0.821454  \n",
      "    2      0.362984   0.554846   0.830704  \n",
      "    3      0.424336   0.596467   0.819734  \n",
      "    4      0.322179   0.558814   0.843572  \n",
      "    5      0.242034   0.566265   0.84541   \n",
      "    6      0.205975   0.557623   0.852823  \n",
      "\n"
     ]
    },
    {
     "data": {
      "text/plain": [
       "[0.55762345, 0.8528225807582631]"
      ]
     },
     "execution_count": 21,
     "metadata": {},
     "output_type": "execute_result"
    }
   ],
   "source": [
    "learn.unfreeze()\n",
    "lr = np.array([1e-4, 1e-3, 1e-2])\n",
    "learn.fit(lr, 3, cycle_len=1, cycle_mult=2)"
   ]
  },
  {
   "cell_type": "code",
   "execution_count": 22,
   "metadata": {},
   "outputs": [
    {
     "name": "stdout",
     "output_type": "stream",
     "text": []
    },
    {
     "data": {
      "text/plain": [
       "(0.8471454880294659, 0.5012338575039309)"
      ]
     },
     "execution_count": 22,
     "metadata": {},
     "output_type": "execute_result"
    }
   ],
   "source": [
    "log_preds, y = learn.TTA()\n",
    "probs = np.mean(np.exp(log_preds),axis=0)\n",
    "accuracy_np(probs, y), metrics.log_loss(y, probs)"
   ]
  },
  {
   "cell_type": "code",
   "execution_count": 23,
   "metadata": {},
   "outputs": [],
   "source": [
    "learn.save('256_suph')"
   ]
  },
  {
   "cell_type": "code",
   "execution_count": 24,
   "metadata": {},
   "outputs": [],
   "source": [
    "learn.load('256_suph')"
   ]
  },
  {
   "cell_type": "markdown",
   "metadata": {},
   "source": [
    "## submit"
   ]
  },
  {
   "cell_type": "code",
   "execution_count": 25,
   "metadata": {},
   "outputs": [
    {
     "name": "stdout",
     "output_type": "stream",
     "text": []
    },
    {
     "data": {
      "text/plain": [
       "0.044444444444444446"
      ]
     },
     "execution_count": 25,
     "metadata": {},
     "output_type": "execute_result"
    }
   ],
   "source": [
    "log_preds, y = learn.TTA(is_test=True)\n",
    "probs = np.mean(np.exp(log_preds), axis=0)\n",
    "accuracy_np(probs, y) #metrics.log_loss(y, probs)"
   ]
  },
  {
   "cell_type": "code",
   "execution_count": 26,
   "metadata": {},
   "outputs": [
    {
     "data": {
      "text/plain": [
       "(3375, 12)"
      ]
     },
     "execution_count": 26,
     "metadata": {},
     "output_type": "execute_result"
    }
   ],
   "source": [
    "probs.shape"
   ]
  },
  {
   "cell_type": "code",
   "execution_count": 27,
   "metadata": {},
   "outputs": [
    {
     "data": {
      "text/html": [
       "<div>\n",
       "<style scoped>\n",
       "    .dataframe tbody tr th:only-of-type {\n",
       "        vertical-align: middle;\n",
       "    }\n",
       "\n",
       "    .dataframe tbody tr th {\n",
       "        vertical-align: top;\n",
       "    }\n",
       "\n",
       "    .dataframe thead th {\n",
       "        text-align: right;\n",
       "    }\n",
       "</style>\n",
       "<table border=\"1\" class=\"dataframe\">\n",
       "  <thead>\n",
       "    <tr style=\"text-align: right;\">\n",
       "      <th></th>\n",
       "      <th>id</th>\n",
       "      <th>Ant-Man</th>\n",
       "      <th>Aquaman</th>\n",
       "      <th>Avengers</th>\n",
       "      <th>Batman</th>\n",
       "      <th>Black_Panther</th>\n",
       "      <th>Captain_America</th>\n",
       "      <th>Catwoman</th>\n",
       "      <th>Ghost_Rider</th>\n",
       "      <th>Hulk</th>\n",
       "      <th>Iron_Man</th>\n",
       "      <th>Spiderman</th>\n",
       "      <th>Superman</th>\n",
       "    </tr>\n",
       "  </thead>\n",
       "  <tbody>\n",
       "    <tr>\n",
       "      <th>0</th>\n",
       "      <td>superhero_test_981</td>\n",
       "      <td>0.000031</td>\n",
       "      <td>0.000002</td>\n",
       "      <td>0.000010</td>\n",
       "      <td>0.000001</td>\n",
       "      <td>0.000006</td>\n",
       "      <td>0.000002</td>\n",
       "      <td>2.209714e-07</td>\n",
       "      <td>0.000007</td>\n",
       "      <td>7.347269e-07</td>\n",
       "      <td>0.000006</td>\n",
       "      <td>0.999932</td>\n",
       "      <td>0.000002</td>\n",
       "    </tr>\n",
       "    <tr>\n",
       "      <th>1</th>\n",
       "      <td>superhero_test_1396</td>\n",
       "      <td>0.009406</td>\n",
       "      <td>0.029061</td>\n",
       "      <td>0.001229</td>\n",
       "      <td>0.009589</td>\n",
       "      <td>0.001257</td>\n",
       "      <td>0.001272</td>\n",
       "      <td>1.016960e-03</td>\n",
       "      <td>0.000528</td>\n",
       "      <td>2.308266e-04</td>\n",
       "      <td>0.934174</td>\n",
       "      <td>0.011789</td>\n",
       "      <td>0.000448</td>\n",
       "    </tr>\n",
       "    <tr>\n",
       "      <th>2</th>\n",
       "      <td>superhero_test_1840</td>\n",
       "      <td>0.000007</td>\n",
       "      <td>0.000079</td>\n",
       "      <td>0.000354</td>\n",
       "      <td>0.018702</td>\n",
       "      <td>0.978451</td>\n",
       "      <td>0.000015</td>\n",
       "      <td>7.715955e-05</td>\n",
       "      <td>0.001400</td>\n",
       "      <td>1.791029e-04</td>\n",
       "      <td>0.000014</td>\n",
       "      <td>0.000393</td>\n",
       "      <td>0.000327</td>\n",
       "    </tr>\n",
       "    <tr>\n",
       "      <th>3</th>\n",
       "      <td>superhero_test_726</td>\n",
       "      <td>0.068014</td>\n",
       "      <td>0.000838</td>\n",
       "      <td>0.192751</td>\n",
       "      <td>0.001120</td>\n",
       "      <td>0.000972</td>\n",
       "      <td>0.029064</td>\n",
       "      <td>1.635985e-03</td>\n",
       "      <td>0.051275</td>\n",
       "      <td>8.840571e-04</td>\n",
       "      <td>0.487333</td>\n",
       "      <td>0.165612</td>\n",
       "      <td>0.000501</td>\n",
       "    </tr>\n",
       "    <tr>\n",
       "      <th>4</th>\n",
       "      <td>superhero_test_598</td>\n",
       "      <td>0.056878</td>\n",
       "      <td>0.000010</td>\n",
       "      <td>0.000218</td>\n",
       "      <td>0.020673</td>\n",
       "      <td>0.000718</td>\n",
       "      <td>0.903222</td>\n",
       "      <td>5.438089e-04</td>\n",
       "      <td>0.000332</td>\n",
       "      <td>7.077456e-06</td>\n",
       "      <td>0.000772</td>\n",
       "      <td>0.016166</td>\n",
       "      <td>0.000460</td>\n",
       "    </tr>\n",
       "  </tbody>\n",
       "</table>\n",
       "</div>"
      ],
      "text/plain": [
       "                    id   Ant-Man   Aquaman  Avengers    Batman  Black_Panther  \\\n",
       "0   superhero_test_981  0.000031  0.000002  0.000010  0.000001       0.000006   \n",
       "1  superhero_test_1396  0.009406  0.029061  0.001229  0.009589       0.001257   \n",
       "2  superhero_test_1840  0.000007  0.000079  0.000354  0.018702       0.978451   \n",
       "3   superhero_test_726  0.068014  0.000838  0.192751  0.001120       0.000972   \n",
       "4   superhero_test_598  0.056878  0.000010  0.000218  0.020673       0.000718   \n",
       "\n",
       "   Captain_America      Catwoman  Ghost_Rider          Hulk  Iron_Man  \\\n",
       "0         0.000002  2.209714e-07     0.000007  7.347269e-07  0.000006   \n",
       "1         0.001272  1.016960e-03     0.000528  2.308266e-04  0.934174   \n",
       "2         0.000015  7.715955e-05     0.001400  1.791029e-04  0.000014   \n",
       "3         0.029064  1.635985e-03     0.051275  8.840571e-04  0.487333   \n",
       "4         0.903222  5.438089e-04     0.000332  7.077456e-06  0.000772   \n",
       "\n",
       "   Spiderman  Superman  \n",
       "0   0.999932  0.000002  \n",
       "1   0.011789  0.000448  \n",
       "2   0.000393  0.000327  \n",
       "3   0.165612  0.000501  \n",
       "4   0.016166  0.000460  "
      ]
     },
     "execution_count": 27,
     "metadata": {},
     "output_type": "execute_result"
    }
   ],
   "source": [
    "df = pd.DataFrame(probs)\n",
    "df.columns = data.classes\n",
    "df.insert(0, 'id', [o[5:-4] for o in data.test_ds.fnames])\n",
    "df.head()"
   ]
  },
  {
   "cell_type": "code",
   "execution_count": 28,
   "metadata": {},
   "outputs": [
    {
     "data": {
      "text/plain": [
       "(3375, 13)"
      ]
     },
     "execution_count": 28,
     "metadata": {},
     "output_type": "execute_result"
    }
   ],
   "source": [
    "df.shape"
   ]
  },
  {
   "cell_type": "code",
   "execution_count": 29,
   "metadata": {},
   "outputs": [],
   "source": [
    "SUBM = f'{PATH}subm/'\n",
    "os.makedirs(SUBM, exist_ok=True)\n",
    "df.to_csv(f'{SUBM}subm.csv')"
   ]
  },
  {
   "cell_type": "code",
   "execution_count": 33,
   "metadata": {},
   "outputs": [
    {
     "data": {
      "text/plain": [
       "Index(['id', 'Ant-Man', 'Aquaman', 'Avengers', 'Batman', 'Black_Panther',\n",
       "       'Captain_America', 'Catwoman', 'Ghost_Rider', 'Hulk', 'Iron_Man',\n",
       "       'Spiderman', 'Superman'],\n",
       "      dtype='object')"
      ]
     },
     "execution_count": 33,
     "metadata": {},
     "output_type": "execute_result"
    }
   ],
   "source": [
    "df.columns"
   ]
  },
  {
   "cell_type": "code",
   "execution_count": 47,
   "metadata": {},
   "outputs": [],
   "source": [
    "dfidx= df.copy()"
   ]
  },
  {
   "cell_type": "code",
   "execution_count": null,
   "metadata": {},
   "outputs": [],
   "source": [
    "df = df.copy()\n"
   ]
  },
  {
   "cell_type": "code",
   "execution_count": null,
   "metadata": {},
   "outputs": [],
   "source": []
  },
  {
   "cell_type": "code",
   "execution_count": null,
   "metadata": {},
   "outputs": [],
   "source": []
  },
  {
   "cell_type": "code",
   "execution_count": null,
   "metadata": {},
   "outputs": [],
   "source": []
  },
  {
   "cell_type": "code",
   "execution_count": null,
   "metadata": {},
   "outputs": [],
   "source": []
  },
  {
   "cell_type": "code",
   "execution_count": null,
   "metadata": {},
   "outputs": [],
   "source": []
  },
  {
   "cell_type": "code",
   "execution_count": null,
   "metadata": {},
   "outputs": [],
   "source": []
  },
  {
   "cell_type": "code",
   "execution_count": null,
   "metadata": {},
   "outputs": [],
   "source": []
  },
  {
   "cell_type": "code",
   "execution_count": null,
   "metadata": {},
   "outputs": [],
   "source": []
  },
  {
   "cell_type": "code",
   "execution_count": null,
   "metadata": {},
   "outputs": [],
   "source": []
  },
  {
   "cell_type": "code",
   "execution_count": null,
   "metadata": {},
   "outputs": [],
   "source": []
  },
  {
   "cell_type": "code",
   "execution_count": null,
   "metadata": {},
   "outputs": [],
   "source": []
  },
  {
   "cell_type": "code",
   "execution_count": null,
   "metadata": {},
   "outputs": [],
   "source": []
  },
  {
   "cell_type": "code",
   "execution_count": null,
   "metadata": {},
   "outputs": [],
   "source": []
  },
  {
   "cell_type": "code",
   "execution_count": null,
   "metadata": {},
   "outputs": [],
   "source": []
  },
  {
   "cell_type": "code",
   "execution_count": null,
   "metadata": {},
   "outputs": [],
   "source": []
  },
  {
   "cell_type": "code",
   "execution_count": 48,
   "metadata": {},
   "outputs": [],
   "source": [
    "dfidx.set_index('id', inplace=True)"
   ]
  },
  {
   "cell_type": "code",
   "execution_count": 49,
   "metadata": {},
   "outputs": [
    {
     "data": {
      "text/html": [
       "<div>\n",
       "<style scoped>\n",
       "    .dataframe tbody tr th:only-of-type {\n",
       "        vertical-align: middle;\n",
       "    }\n",
       "\n",
       "    .dataframe tbody tr th {\n",
       "        vertical-align: top;\n",
       "    }\n",
       "\n",
       "    .dataframe thead th {\n",
       "        text-align: right;\n",
       "    }\n",
       "</style>\n",
       "<table border=\"1\" class=\"dataframe\">\n",
       "  <thead>\n",
       "    <tr style=\"text-align: right;\">\n",
       "      <th></th>\n",
       "      <th>Ant-Man</th>\n",
       "      <th>Aquaman</th>\n",
       "      <th>Avengers</th>\n",
       "      <th>Batman</th>\n",
       "      <th>Black_Panther</th>\n",
       "      <th>Captain_America</th>\n",
       "      <th>Catwoman</th>\n",
       "      <th>Ghost_Rider</th>\n",
       "      <th>Hulk</th>\n",
       "      <th>Iron_Man</th>\n",
       "      <th>Spiderman</th>\n",
       "      <th>Superman</th>\n",
       "    </tr>\n",
       "    <tr>\n",
       "      <th>id</th>\n",
       "      <th></th>\n",
       "      <th></th>\n",
       "      <th></th>\n",
       "      <th></th>\n",
       "      <th></th>\n",
       "      <th></th>\n",
       "      <th></th>\n",
       "      <th></th>\n",
       "      <th></th>\n",
       "      <th></th>\n",
       "      <th></th>\n",
       "      <th></th>\n",
       "    </tr>\n",
       "  </thead>\n",
       "  <tbody>\n",
       "    <tr>\n",
       "      <th>superhero_test_981</th>\n",
       "      <td>0.000031</td>\n",
       "      <td>0.000002</td>\n",
       "      <td>0.000010</td>\n",
       "      <td>0.000001</td>\n",
       "      <td>0.000006</td>\n",
       "      <td>0.000002</td>\n",
       "      <td>2.209714e-07</td>\n",
       "      <td>0.000007</td>\n",
       "      <td>7.347269e-07</td>\n",
       "      <td>0.000006</td>\n",
       "      <td>0.999932</td>\n",
       "      <td>0.000002</td>\n",
       "    </tr>\n",
       "    <tr>\n",
       "      <th>superhero_test_1396</th>\n",
       "      <td>0.009406</td>\n",
       "      <td>0.029061</td>\n",
       "      <td>0.001229</td>\n",
       "      <td>0.009589</td>\n",
       "      <td>0.001257</td>\n",
       "      <td>0.001272</td>\n",
       "      <td>1.016960e-03</td>\n",
       "      <td>0.000528</td>\n",
       "      <td>2.308266e-04</td>\n",
       "      <td>0.934174</td>\n",
       "      <td>0.011789</td>\n",
       "      <td>0.000448</td>\n",
       "    </tr>\n",
       "    <tr>\n",
       "      <th>superhero_test_1840</th>\n",
       "      <td>0.000007</td>\n",
       "      <td>0.000079</td>\n",
       "      <td>0.000354</td>\n",
       "      <td>0.018702</td>\n",
       "      <td>0.978451</td>\n",
       "      <td>0.000015</td>\n",
       "      <td>7.715955e-05</td>\n",
       "      <td>0.001400</td>\n",
       "      <td>1.791029e-04</td>\n",
       "      <td>0.000014</td>\n",
       "      <td>0.000393</td>\n",
       "      <td>0.000327</td>\n",
       "    </tr>\n",
       "    <tr>\n",
       "      <th>superhero_test_726</th>\n",
       "      <td>0.068014</td>\n",
       "      <td>0.000838</td>\n",
       "      <td>0.192751</td>\n",
       "      <td>0.001120</td>\n",
       "      <td>0.000972</td>\n",
       "      <td>0.029064</td>\n",
       "      <td>1.635985e-03</td>\n",
       "      <td>0.051275</td>\n",
       "      <td>8.840571e-04</td>\n",
       "      <td>0.487333</td>\n",
       "      <td>0.165612</td>\n",
       "      <td>0.000501</td>\n",
       "    </tr>\n",
       "    <tr>\n",
       "      <th>superhero_test_598</th>\n",
       "      <td>0.056878</td>\n",
       "      <td>0.000010</td>\n",
       "      <td>0.000218</td>\n",
       "      <td>0.020673</td>\n",
       "      <td>0.000718</td>\n",
       "      <td>0.903222</td>\n",
       "      <td>5.438089e-04</td>\n",
       "      <td>0.000332</td>\n",
       "      <td>7.077456e-06</td>\n",
       "      <td>0.000772</td>\n",
       "      <td>0.016166</td>\n",
       "      <td>0.000460</td>\n",
       "    </tr>\n",
       "  </tbody>\n",
       "</table>\n",
       "</div>"
      ],
      "text/plain": [
       "                      Ant-Man   Aquaman  Avengers    Batman  Black_Panther  \\\n",
       "id                                                                           \n",
       "superhero_test_981   0.000031  0.000002  0.000010  0.000001       0.000006   \n",
       "superhero_test_1396  0.009406  0.029061  0.001229  0.009589       0.001257   \n",
       "superhero_test_1840  0.000007  0.000079  0.000354  0.018702       0.978451   \n",
       "superhero_test_726   0.068014  0.000838  0.192751  0.001120       0.000972   \n",
       "superhero_test_598   0.056878  0.000010  0.000218  0.020673       0.000718   \n",
       "\n",
       "                     Captain_America      Catwoman  Ghost_Rider          Hulk  \\\n",
       "id                                                                              \n",
       "superhero_test_981          0.000002  2.209714e-07     0.000007  7.347269e-07   \n",
       "superhero_test_1396         0.001272  1.016960e-03     0.000528  2.308266e-04   \n",
       "superhero_test_1840         0.000015  7.715955e-05     0.001400  1.791029e-04   \n",
       "superhero_test_726          0.029064  1.635985e-03     0.051275  8.840571e-04   \n",
       "superhero_test_598          0.903222  5.438089e-04     0.000332  7.077456e-06   \n",
       "\n",
       "                     Iron_Man  Spiderman  Superman  \n",
       "id                                                  \n",
       "superhero_test_981   0.000006   0.999932  0.000002  \n",
       "superhero_test_1396  0.934174   0.011789  0.000448  \n",
       "superhero_test_1840  0.000014   0.000393  0.000327  \n",
       "superhero_test_726   0.487333   0.165612  0.000501  \n",
       "superhero_test_598   0.000772   0.016166  0.000460  "
      ]
     },
     "execution_count": 49,
     "metadata": {},
     "output_type": "execute_result"
    }
   ],
   "source": [
    "dfidx.head()"
   ]
  },
  {
   "cell_type": "code",
   "execution_count": 51,
   "metadata": {},
   "outputs": [],
   "source": [
    "dfidx['max']=dfidx.idxmax(axis=1)\n"
   ]
  },
  {
   "cell_type": "code",
   "execution_count": 52,
   "metadata": {},
   "outputs": [
    {
     "data": {
      "text/html": [
       "<div>\n",
       "<style scoped>\n",
       "    .dataframe tbody tr th:only-of-type {\n",
       "        vertical-align: middle;\n",
       "    }\n",
       "\n",
       "    .dataframe tbody tr th {\n",
       "        vertical-align: top;\n",
       "    }\n",
       "\n",
       "    .dataframe thead th {\n",
       "        text-align: right;\n",
       "    }\n",
       "</style>\n",
       "<table border=\"1\" class=\"dataframe\">\n",
       "  <thead>\n",
       "    <tr style=\"text-align: right;\">\n",
       "      <th></th>\n",
       "      <th>Ant-Man</th>\n",
       "      <th>Aquaman</th>\n",
       "      <th>Avengers</th>\n",
       "      <th>Batman</th>\n",
       "      <th>Black_Panther</th>\n",
       "      <th>Captain_America</th>\n",
       "      <th>Catwoman</th>\n",
       "      <th>Ghost_Rider</th>\n",
       "      <th>Hulk</th>\n",
       "      <th>Iron_Man</th>\n",
       "      <th>Spiderman</th>\n",
       "      <th>Superman</th>\n",
       "      <th>max</th>\n",
       "    </tr>\n",
       "    <tr>\n",
       "      <th>id</th>\n",
       "      <th></th>\n",
       "      <th></th>\n",
       "      <th></th>\n",
       "      <th></th>\n",
       "      <th></th>\n",
       "      <th></th>\n",
       "      <th></th>\n",
       "      <th></th>\n",
       "      <th></th>\n",
       "      <th></th>\n",
       "      <th></th>\n",
       "      <th></th>\n",
       "      <th></th>\n",
       "    </tr>\n",
       "  </thead>\n",
       "  <tbody>\n",
       "    <tr>\n",
       "      <th>superhero_test_981</th>\n",
       "      <td>0.000031</td>\n",
       "      <td>0.000002</td>\n",
       "      <td>0.000010</td>\n",
       "      <td>0.000001</td>\n",
       "      <td>0.000006</td>\n",
       "      <td>0.000002</td>\n",
       "      <td>2.209714e-07</td>\n",
       "      <td>0.000007</td>\n",
       "      <td>7.347269e-07</td>\n",
       "      <td>0.000006</td>\n",
       "      <td>0.999932</td>\n",
       "      <td>0.000002</td>\n",
       "      <td>Spiderman</td>\n",
       "    </tr>\n",
       "    <tr>\n",
       "      <th>superhero_test_1396</th>\n",
       "      <td>0.009406</td>\n",
       "      <td>0.029061</td>\n",
       "      <td>0.001229</td>\n",
       "      <td>0.009589</td>\n",
       "      <td>0.001257</td>\n",
       "      <td>0.001272</td>\n",
       "      <td>1.016960e-03</td>\n",
       "      <td>0.000528</td>\n",
       "      <td>2.308266e-04</td>\n",
       "      <td>0.934174</td>\n",
       "      <td>0.011789</td>\n",
       "      <td>0.000448</td>\n",
       "      <td>Iron_Man</td>\n",
       "    </tr>\n",
       "    <tr>\n",
       "      <th>superhero_test_1840</th>\n",
       "      <td>0.000007</td>\n",
       "      <td>0.000079</td>\n",
       "      <td>0.000354</td>\n",
       "      <td>0.018702</td>\n",
       "      <td>0.978451</td>\n",
       "      <td>0.000015</td>\n",
       "      <td>7.715955e-05</td>\n",
       "      <td>0.001400</td>\n",
       "      <td>1.791029e-04</td>\n",
       "      <td>0.000014</td>\n",
       "      <td>0.000393</td>\n",
       "      <td>0.000327</td>\n",
       "      <td>Black_Panther</td>\n",
       "    </tr>\n",
       "    <tr>\n",
       "      <th>superhero_test_726</th>\n",
       "      <td>0.068014</td>\n",
       "      <td>0.000838</td>\n",
       "      <td>0.192751</td>\n",
       "      <td>0.001120</td>\n",
       "      <td>0.000972</td>\n",
       "      <td>0.029064</td>\n",
       "      <td>1.635985e-03</td>\n",
       "      <td>0.051275</td>\n",
       "      <td>8.840571e-04</td>\n",
       "      <td>0.487333</td>\n",
       "      <td>0.165612</td>\n",
       "      <td>0.000501</td>\n",
       "      <td>Iron_Man</td>\n",
       "    </tr>\n",
       "    <tr>\n",
       "      <th>superhero_test_598</th>\n",
       "      <td>0.056878</td>\n",
       "      <td>0.000010</td>\n",
       "      <td>0.000218</td>\n",
       "      <td>0.020673</td>\n",
       "      <td>0.000718</td>\n",
       "      <td>0.903222</td>\n",
       "      <td>5.438089e-04</td>\n",
       "      <td>0.000332</td>\n",
       "      <td>7.077456e-06</td>\n",
       "      <td>0.000772</td>\n",
       "      <td>0.016166</td>\n",
       "      <td>0.000460</td>\n",
       "      <td>Captain_America</td>\n",
       "    </tr>\n",
       "  </tbody>\n",
       "</table>\n",
       "</div>"
      ],
      "text/plain": [
       "                      Ant-Man   Aquaman  Avengers    Batman  Black_Panther  \\\n",
       "id                                                                           \n",
       "superhero_test_981   0.000031  0.000002  0.000010  0.000001       0.000006   \n",
       "superhero_test_1396  0.009406  0.029061  0.001229  0.009589       0.001257   \n",
       "superhero_test_1840  0.000007  0.000079  0.000354  0.018702       0.978451   \n",
       "superhero_test_726   0.068014  0.000838  0.192751  0.001120       0.000972   \n",
       "superhero_test_598   0.056878  0.000010  0.000218  0.020673       0.000718   \n",
       "\n",
       "                     Captain_America      Catwoman  Ghost_Rider          Hulk  \\\n",
       "id                                                                              \n",
       "superhero_test_981          0.000002  2.209714e-07     0.000007  7.347269e-07   \n",
       "superhero_test_1396         0.001272  1.016960e-03     0.000528  2.308266e-04   \n",
       "superhero_test_1840         0.000015  7.715955e-05     0.001400  1.791029e-04   \n",
       "superhero_test_726          0.029064  1.635985e-03     0.051275  8.840571e-04   \n",
       "superhero_test_598          0.903222  5.438089e-04     0.000332  7.077456e-06   \n",
       "\n",
       "                     Iron_Man  Spiderman  Superman              max  \n",
       "id                                                                   \n",
       "superhero_test_981   0.000006   0.999932  0.000002        Spiderman  \n",
       "superhero_test_1396  0.934174   0.011789  0.000448         Iron_Man  \n",
       "superhero_test_1840  0.000014   0.000393  0.000327    Black_Panther  \n",
       "superhero_test_726   0.487333   0.165612  0.000501         Iron_Man  \n",
       "superhero_test_598   0.000772   0.016166  0.000460  Captain_America  "
      ]
     },
     "execution_count": 52,
     "metadata": {},
     "output_type": "execute_result"
    }
   ],
   "source": [
    "dfidx.head()"
   ]
  },
  {
   "cell_type": "code",
   "execution_count": 53,
   "metadata": {},
   "outputs": [
    {
     "data": {
      "text/plain": [
       "(3375, 13)"
      ]
     },
     "execution_count": 53,
     "metadata": {},
     "output_type": "execute_result"
    }
   ],
   "source": [
    "dfidx.shape"
   ]
  },
  {
   "cell_type": "code",
   "execution_count": 54,
   "metadata": {},
   "outputs": [],
   "source": [
    "dfidx.reset_index(inplace=True)"
   ]
  },
  {
   "cell_type": "code",
   "execution_count": 55,
   "metadata": {},
   "outputs": [
    {
     "data": {
      "text/html": [
       "<div>\n",
       "<style scoped>\n",
       "    .dataframe tbody tr th:only-of-type {\n",
       "        vertical-align: middle;\n",
       "    }\n",
       "\n",
       "    .dataframe tbody tr th {\n",
       "        vertical-align: top;\n",
       "    }\n",
       "\n",
       "    .dataframe thead th {\n",
       "        text-align: right;\n",
       "    }\n",
       "</style>\n",
       "<table border=\"1\" class=\"dataframe\">\n",
       "  <thead>\n",
       "    <tr style=\"text-align: right;\">\n",
       "      <th></th>\n",
       "      <th>id</th>\n",
       "      <th>Ant-Man</th>\n",
       "      <th>Aquaman</th>\n",
       "      <th>Avengers</th>\n",
       "      <th>Batman</th>\n",
       "      <th>Black_Panther</th>\n",
       "      <th>Captain_America</th>\n",
       "      <th>Catwoman</th>\n",
       "      <th>Ghost_Rider</th>\n",
       "      <th>Hulk</th>\n",
       "      <th>Iron_Man</th>\n",
       "      <th>Spiderman</th>\n",
       "      <th>Superman</th>\n",
       "      <th>max</th>\n",
       "    </tr>\n",
       "  </thead>\n",
       "  <tbody>\n",
       "    <tr>\n",
       "      <th>0</th>\n",
       "      <td>superhero_test_981</td>\n",
       "      <td>0.000031</td>\n",
       "      <td>0.000002</td>\n",
       "      <td>0.000010</td>\n",
       "      <td>0.000001</td>\n",
       "      <td>0.000006</td>\n",
       "      <td>0.000002</td>\n",
       "      <td>2.209714e-07</td>\n",
       "      <td>0.000007</td>\n",
       "      <td>7.347269e-07</td>\n",
       "      <td>0.000006</td>\n",
       "      <td>0.999932</td>\n",
       "      <td>0.000002</td>\n",
       "      <td>Spiderman</td>\n",
       "    </tr>\n",
       "    <tr>\n",
       "      <th>1</th>\n",
       "      <td>superhero_test_1396</td>\n",
       "      <td>0.009406</td>\n",
       "      <td>0.029061</td>\n",
       "      <td>0.001229</td>\n",
       "      <td>0.009589</td>\n",
       "      <td>0.001257</td>\n",
       "      <td>0.001272</td>\n",
       "      <td>1.016960e-03</td>\n",
       "      <td>0.000528</td>\n",
       "      <td>2.308266e-04</td>\n",
       "      <td>0.934174</td>\n",
       "      <td>0.011789</td>\n",
       "      <td>0.000448</td>\n",
       "      <td>Iron_Man</td>\n",
       "    </tr>\n",
       "    <tr>\n",
       "      <th>2</th>\n",
       "      <td>superhero_test_1840</td>\n",
       "      <td>0.000007</td>\n",
       "      <td>0.000079</td>\n",
       "      <td>0.000354</td>\n",
       "      <td>0.018702</td>\n",
       "      <td>0.978451</td>\n",
       "      <td>0.000015</td>\n",
       "      <td>7.715955e-05</td>\n",
       "      <td>0.001400</td>\n",
       "      <td>1.791029e-04</td>\n",
       "      <td>0.000014</td>\n",
       "      <td>0.000393</td>\n",
       "      <td>0.000327</td>\n",
       "      <td>Black_Panther</td>\n",
       "    </tr>\n",
       "    <tr>\n",
       "      <th>3</th>\n",
       "      <td>superhero_test_726</td>\n",
       "      <td>0.068014</td>\n",
       "      <td>0.000838</td>\n",
       "      <td>0.192751</td>\n",
       "      <td>0.001120</td>\n",
       "      <td>0.000972</td>\n",
       "      <td>0.029064</td>\n",
       "      <td>1.635985e-03</td>\n",
       "      <td>0.051275</td>\n",
       "      <td>8.840571e-04</td>\n",
       "      <td>0.487333</td>\n",
       "      <td>0.165612</td>\n",
       "      <td>0.000501</td>\n",
       "      <td>Iron_Man</td>\n",
       "    </tr>\n",
       "    <tr>\n",
       "      <th>4</th>\n",
       "      <td>superhero_test_598</td>\n",
       "      <td>0.056878</td>\n",
       "      <td>0.000010</td>\n",
       "      <td>0.000218</td>\n",
       "      <td>0.020673</td>\n",
       "      <td>0.000718</td>\n",
       "      <td>0.903222</td>\n",
       "      <td>5.438089e-04</td>\n",
       "      <td>0.000332</td>\n",
       "      <td>7.077456e-06</td>\n",
       "      <td>0.000772</td>\n",
       "      <td>0.016166</td>\n",
       "      <td>0.000460</td>\n",
       "      <td>Captain_America</td>\n",
       "    </tr>\n",
       "  </tbody>\n",
       "</table>\n",
       "</div>"
      ],
      "text/plain": [
       "                    id   Ant-Man   Aquaman  Avengers    Batman  Black_Panther  \\\n",
       "0   superhero_test_981  0.000031  0.000002  0.000010  0.000001       0.000006   \n",
       "1  superhero_test_1396  0.009406  0.029061  0.001229  0.009589       0.001257   \n",
       "2  superhero_test_1840  0.000007  0.000079  0.000354  0.018702       0.978451   \n",
       "3   superhero_test_726  0.068014  0.000838  0.192751  0.001120       0.000972   \n",
       "4   superhero_test_598  0.056878  0.000010  0.000218  0.020673       0.000718   \n",
       "\n",
       "   Captain_America      Catwoman  Ghost_Rider          Hulk  Iron_Man  \\\n",
       "0         0.000002  2.209714e-07     0.000007  7.347269e-07  0.000006   \n",
       "1         0.001272  1.016960e-03     0.000528  2.308266e-04  0.934174   \n",
       "2         0.000015  7.715955e-05     0.001400  1.791029e-04  0.000014   \n",
       "3         0.029064  1.635985e-03     0.051275  8.840571e-04  0.487333   \n",
       "4         0.903222  5.438089e-04     0.000332  7.077456e-06  0.000772   \n",
       "\n",
       "   Spiderman  Superman              max  \n",
       "0   0.999932  0.000002        Spiderman  \n",
       "1   0.011789  0.000448         Iron_Man  \n",
       "2   0.000393  0.000327    Black_Panther  \n",
       "3   0.165612  0.000501         Iron_Man  \n",
       "4   0.016166  0.000460  Captain_America  "
      ]
     },
     "execution_count": 55,
     "metadata": {},
     "output_type": "execute_result"
    }
   ],
   "source": [
    "dfidx.head()"
   ]
  },
  {
   "cell_type": "code",
   "execution_count": 56,
   "metadata": {},
   "outputs": [
    {
     "data": {
      "text/html": [
       "<div>\n",
       "<style scoped>\n",
       "    .dataframe tbody tr th:only-of-type {\n",
       "        vertical-align: middle;\n",
       "    }\n",
       "\n",
       "    .dataframe tbody tr th {\n",
       "        vertical-align: top;\n",
       "    }\n",
       "\n",
       "    .dataframe thead th {\n",
       "        text-align: right;\n",
       "    }\n",
       "</style>\n",
       "<table border=\"1\" class=\"dataframe\">\n",
       "  <thead>\n",
       "    <tr style=\"text-align: right;\">\n",
       "      <th></th>\n",
       "      <th>filename</th>\n",
       "      <th>Ant-Man</th>\n",
       "      <th>Aquaman</th>\n",
       "      <th>Avengers</th>\n",
       "      <th>Batman</th>\n",
       "      <th>Black_Panther</th>\n",
       "      <th>Captain_America</th>\n",
       "      <th>Catwoman</th>\n",
       "      <th>Ghost_Rider</th>\n",
       "      <th>Hulk</th>\n",
       "      <th>Iron_Man</th>\n",
       "      <th>Spiderman</th>\n",
       "      <th>Superman</th>\n",
       "      <th>max</th>\n",
       "    </tr>\n",
       "  </thead>\n",
       "  <tbody>\n",
       "    <tr>\n",
       "      <th>0</th>\n",
       "      <td>superhero_test_981</td>\n",
       "      <td>0.000031</td>\n",
       "      <td>0.000002</td>\n",
       "      <td>0.000010</td>\n",
       "      <td>0.000001</td>\n",
       "      <td>0.000006</td>\n",
       "      <td>0.000002</td>\n",
       "      <td>2.209714e-07</td>\n",
       "      <td>0.000007</td>\n",
       "      <td>7.347269e-07</td>\n",
       "      <td>0.000006</td>\n",
       "      <td>0.999932</td>\n",
       "      <td>0.000002</td>\n",
       "      <td>Spiderman</td>\n",
       "    </tr>\n",
       "    <tr>\n",
       "      <th>1</th>\n",
       "      <td>superhero_test_1396</td>\n",
       "      <td>0.009406</td>\n",
       "      <td>0.029061</td>\n",
       "      <td>0.001229</td>\n",
       "      <td>0.009589</td>\n",
       "      <td>0.001257</td>\n",
       "      <td>0.001272</td>\n",
       "      <td>1.016960e-03</td>\n",
       "      <td>0.000528</td>\n",
       "      <td>2.308266e-04</td>\n",
       "      <td>0.934174</td>\n",
       "      <td>0.011789</td>\n",
       "      <td>0.000448</td>\n",
       "      <td>Iron_Man</td>\n",
       "    </tr>\n",
       "    <tr>\n",
       "      <th>2</th>\n",
       "      <td>superhero_test_1840</td>\n",
       "      <td>0.000007</td>\n",
       "      <td>0.000079</td>\n",
       "      <td>0.000354</td>\n",
       "      <td>0.018702</td>\n",
       "      <td>0.978451</td>\n",
       "      <td>0.000015</td>\n",
       "      <td>7.715955e-05</td>\n",
       "      <td>0.001400</td>\n",
       "      <td>1.791029e-04</td>\n",
       "      <td>0.000014</td>\n",
       "      <td>0.000393</td>\n",
       "      <td>0.000327</td>\n",
       "      <td>Black_Panther</td>\n",
       "    </tr>\n",
       "    <tr>\n",
       "      <th>3</th>\n",
       "      <td>superhero_test_726</td>\n",
       "      <td>0.068014</td>\n",
       "      <td>0.000838</td>\n",
       "      <td>0.192751</td>\n",
       "      <td>0.001120</td>\n",
       "      <td>0.000972</td>\n",
       "      <td>0.029064</td>\n",
       "      <td>1.635985e-03</td>\n",
       "      <td>0.051275</td>\n",
       "      <td>8.840571e-04</td>\n",
       "      <td>0.487333</td>\n",
       "      <td>0.165612</td>\n",
       "      <td>0.000501</td>\n",
       "      <td>Iron_Man</td>\n",
       "    </tr>\n",
       "    <tr>\n",
       "      <th>4</th>\n",
       "      <td>superhero_test_598</td>\n",
       "      <td>0.056878</td>\n",
       "      <td>0.000010</td>\n",
       "      <td>0.000218</td>\n",
       "      <td>0.020673</td>\n",
       "      <td>0.000718</td>\n",
       "      <td>0.903222</td>\n",
       "      <td>5.438089e-04</td>\n",
       "      <td>0.000332</td>\n",
       "      <td>7.077456e-06</td>\n",
       "      <td>0.000772</td>\n",
       "      <td>0.016166</td>\n",
       "      <td>0.000460</td>\n",
       "      <td>Captain_America</td>\n",
       "    </tr>\n",
       "  </tbody>\n",
       "</table>\n",
       "</div>"
      ],
      "text/plain": [
       "              filename   Ant-Man   Aquaman  Avengers    Batman  Black_Panther  \\\n",
       "0   superhero_test_981  0.000031  0.000002  0.000010  0.000001       0.000006   \n",
       "1  superhero_test_1396  0.009406  0.029061  0.001229  0.009589       0.001257   \n",
       "2  superhero_test_1840  0.000007  0.000079  0.000354  0.018702       0.978451   \n",
       "3   superhero_test_726  0.068014  0.000838  0.192751  0.001120       0.000972   \n",
       "4   superhero_test_598  0.056878  0.000010  0.000218  0.020673       0.000718   \n",
       "\n",
       "   Captain_America      Catwoman  Ghost_Rider          Hulk  Iron_Man  \\\n",
       "0         0.000002  2.209714e-07     0.000007  7.347269e-07  0.000006   \n",
       "1         0.001272  1.016960e-03     0.000528  2.308266e-04  0.934174   \n",
       "2         0.000015  7.715955e-05     0.001400  1.791029e-04  0.000014   \n",
       "3         0.029064  1.635985e-03     0.051275  8.840571e-04  0.487333   \n",
       "4         0.903222  5.438089e-04     0.000332  7.077456e-06  0.000772   \n",
       "\n",
       "   Spiderman  Superman              max  \n",
       "0   0.999932  0.000002        Spiderman  \n",
       "1   0.011789  0.000448         Iron_Man  \n",
       "2   0.000393  0.000327    Black_Panther  \n",
       "3   0.165612  0.000501         Iron_Man  \n",
       "4   0.016166  0.000460  Captain_America  "
      ]
     },
     "execution_count": 56,
     "metadata": {},
     "output_type": "execute_result"
    }
   ],
   "source": [
    "dfidx.rename(columns={'id': 'filename'}, inplace=True)\n",
    "dfidx.head()\n"
   ]
  },
  {
   "cell_type": "code",
   "execution_count": 34,
   "metadata": {},
   "outputs": [
    {
     "data": {
      "text/plain": [
       "(           filename  Superhero\n",
       " 0  superhero_test_1        NaN\n",
       " 1  superhero_test_2        NaN\n",
       " 2  superhero_test_3        NaN\n",
       " 3  superhero_test_4        NaN\n",
       " 4  superhero_test_5        NaN,\n",
       " Index(['filename', 'Superhero'], dtype='object'))"
      ]
     },
     "execution_count": 34,
     "metadata": {},
     "output_type": "execute_result"
    }
   ],
   "source": [
    "ssf = pd.read_csv(PATH+'Superhero_Submission_Format.csv')\n",
    "ssf.head(), ssf.columns"
   ]
  },
  {
   "cell_type": "code",
   "execution_count": 66,
   "metadata": {},
   "outputs": [
    {
     "data": {
      "text/plain": [
       "(3375, 2)"
      ]
     },
     "execution_count": 66,
     "metadata": {},
     "output_type": "execute_result"
    }
   ],
   "source": [
    "ssf.shape"
   ]
  },
  {
   "cell_type": "code",
   "execution_count": 57,
   "metadata": {},
   "outputs": [],
   "source": [
    "# result = pd.merge(left, right, how='inner', on=['key1', 'key2'])\n",
    "ans = ssf.merge(dfidx, how='inner', on='filename')"
   ]
  },
  {
   "cell_type": "code",
   "execution_count": 58,
   "metadata": {},
   "outputs": [
    {
     "data": {
      "text/html": [
       "<div>\n",
       "<style scoped>\n",
       "    .dataframe tbody tr th:only-of-type {\n",
       "        vertical-align: middle;\n",
       "    }\n",
       "\n",
       "    .dataframe tbody tr th {\n",
       "        vertical-align: top;\n",
       "    }\n",
       "\n",
       "    .dataframe thead th {\n",
       "        text-align: right;\n",
       "    }\n",
       "</style>\n",
       "<table border=\"1\" class=\"dataframe\">\n",
       "  <thead>\n",
       "    <tr style=\"text-align: right;\">\n",
       "      <th></th>\n",
       "      <th>filename</th>\n",
       "      <th>Superhero</th>\n",
       "      <th>Ant-Man</th>\n",
       "      <th>Aquaman</th>\n",
       "      <th>Avengers</th>\n",
       "      <th>Batman</th>\n",
       "      <th>Black_Panther</th>\n",
       "      <th>Captain_America</th>\n",
       "      <th>Catwoman</th>\n",
       "      <th>Ghost_Rider</th>\n",
       "      <th>Hulk</th>\n",
       "      <th>Iron_Man</th>\n",
       "      <th>Spiderman</th>\n",
       "      <th>Superman</th>\n",
       "      <th>max</th>\n",
       "    </tr>\n",
       "  </thead>\n",
       "  <tbody>\n",
       "    <tr>\n",
       "      <th>0</th>\n",
       "      <td>superhero_test_1</td>\n",
       "      <td>NaN</td>\n",
       "      <td>0.001233</td>\n",
       "      <td>0.000271</td>\n",
       "      <td>0.003492</td>\n",
       "      <td>0.001082</td>\n",
       "      <td>2.101998e-03</td>\n",
       "      <td>0.003378</td>\n",
       "      <td>0.000055</td>\n",
       "      <td>0.000538</td>\n",
       "      <td>0.000236</td>\n",
       "      <td>0.059885</td>\n",
       "      <td>0.926837</td>\n",
       "      <td>0.000890</td>\n",
       "      <td>Spiderman</td>\n",
       "    </tr>\n",
       "    <tr>\n",
       "      <th>1</th>\n",
       "      <td>superhero_test_2</td>\n",
       "      <td>NaN</td>\n",
       "      <td>0.000002</td>\n",
       "      <td>0.000010</td>\n",
       "      <td>0.000004</td>\n",
       "      <td>0.000039</td>\n",
       "      <td>8.109657e-07</td>\n",
       "      <td>0.000221</td>\n",
       "      <td>0.000002</td>\n",
       "      <td>0.000005</td>\n",
       "      <td>0.000004</td>\n",
       "      <td>0.000236</td>\n",
       "      <td>0.000073</td>\n",
       "      <td>0.999404</td>\n",
       "      <td>Superman</td>\n",
       "    </tr>\n",
       "    <tr>\n",
       "      <th>2</th>\n",
       "      <td>superhero_test_3</td>\n",
       "      <td>NaN</td>\n",
       "      <td>0.000016</td>\n",
       "      <td>0.000008</td>\n",
       "      <td>0.002042</td>\n",
       "      <td>0.000013</td>\n",
       "      <td>7.913500e-05</td>\n",
       "      <td>0.000471</td>\n",
       "      <td>0.000016</td>\n",
       "      <td>0.000054</td>\n",
       "      <td>0.001746</td>\n",
       "      <td>0.995479</td>\n",
       "      <td>0.000050</td>\n",
       "      <td>0.000027</td>\n",
       "      <td>Iron_Man</td>\n",
       "    </tr>\n",
       "    <tr>\n",
       "      <th>3</th>\n",
       "      <td>superhero_test_4</td>\n",
       "      <td>NaN</td>\n",
       "      <td>0.003035</td>\n",
       "      <td>0.002588</td>\n",
       "      <td>0.005527</td>\n",
       "      <td>0.064983</td>\n",
       "      <td>6.603359e-01</td>\n",
       "      <td>0.015272</td>\n",
       "      <td>0.020904</td>\n",
       "      <td>0.002384</td>\n",
       "      <td>0.017200</td>\n",
       "      <td>0.054237</td>\n",
       "      <td>0.152237</td>\n",
       "      <td>0.001297</td>\n",
       "      <td>Black_Panther</td>\n",
       "    </tr>\n",
       "    <tr>\n",
       "      <th>4</th>\n",
       "      <td>superhero_test_5</td>\n",
       "      <td>NaN</td>\n",
       "      <td>0.007660</td>\n",
       "      <td>0.017071</td>\n",
       "      <td>0.066724</td>\n",
       "      <td>0.040261</td>\n",
       "      <td>2.287223e-02</td>\n",
       "      <td>0.229109</td>\n",
       "      <td>0.000863</td>\n",
       "      <td>0.027910</td>\n",
       "      <td>0.052788</td>\n",
       "      <td>0.242001</td>\n",
       "      <td>0.245771</td>\n",
       "      <td>0.046971</td>\n",
       "      <td>Spiderman</td>\n",
       "    </tr>\n",
       "  </tbody>\n",
       "</table>\n",
       "</div>"
      ],
      "text/plain": [
       "           filename  Superhero   Ant-Man   Aquaman  Avengers    Batman  \\\n",
       "0  superhero_test_1        NaN  0.001233  0.000271  0.003492  0.001082   \n",
       "1  superhero_test_2        NaN  0.000002  0.000010  0.000004  0.000039   \n",
       "2  superhero_test_3        NaN  0.000016  0.000008  0.002042  0.000013   \n",
       "3  superhero_test_4        NaN  0.003035  0.002588  0.005527  0.064983   \n",
       "4  superhero_test_5        NaN  0.007660  0.017071  0.066724  0.040261   \n",
       "\n",
       "   Black_Panther  Captain_America  Catwoman  Ghost_Rider      Hulk  Iron_Man  \\\n",
       "0   2.101998e-03         0.003378  0.000055     0.000538  0.000236  0.059885   \n",
       "1   8.109657e-07         0.000221  0.000002     0.000005  0.000004  0.000236   \n",
       "2   7.913500e-05         0.000471  0.000016     0.000054  0.001746  0.995479   \n",
       "3   6.603359e-01         0.015272  0.020904     0.002384  0.017200  0.054237   \n",
       "4   2.287223e-02         0.229109  0.000863     0.027910  0.052788  0.242001   \n",
       "\n",
       "   Spiderman  Superman            max  \n",
       "0   0.926837  0.000890      Spiderman  \n",
       "1   0.000073  0.999404       Superman  \n",
       "2   0.000050  0.000027       Iron_Man  \n",
       "3   0.152237  0.001297  Black_Panther  \n",
       "4   0.245771  0.046971      Spiderman  "
      ]
     },
     "execution_count": 58,
     "metadata": {},
     "output_type": "execute_result"
    }
   ],
   "source": [
    "ans.head()"
   ]
  },
  {
   "cell_type": "code",
   "execution_count": 62,
   "metadata": {},
   "outputs": [
    {
     "data": {
      "text/html": [
       "<div>\n",
       "<style scoped>\n",
       "    .dataframe tbody tr th:only-of-type {\n",
       "        vertical-align: middle;\n",
       "    }\n",
       "\n",
       "    .dataframe tbody tr th {\n",
       "        vertical-align: top;\n",
       "    }\n",
       "\n",
       "    .dataframe thead th {\n",
       "        text-align: right;\n",
       "    }\n",
       "</style>\n",
       "<table border=\"1\" class=\"dataframe\">\n",
       "  <thead>\n",
       "    <tr style=\"text-align: right;\">\n",
       "      <th></th>\n",
       "      <th>filename</th>\n",
       "      <th>max</th>\n",
       "    </tr>\n",
       "  </thead>\n",
       "  <tbody>\n",
       "    <tr>\n",
       "      <th>0</th>\n",
       "      <td>superhero_test_1</td>\n",
       "      <td>Spiderman</td>\n",
       "    </tr>\n",
       "    <tr>\n",
       "      <th>1</th>\n",
       "      <td>superhero_test_2</td>\n",
       "      <td>Superman</td>\n",
       "    </tr>\n",
       "    <tr>\n",
       "      <th>2</th>\n",
       "      <td>superhero_test_3</td>\n",
       "      <td>Iron_Man</td>\n",
       "    </tr>\n",
       "    <tr>\n",
       "      <th>3</th>\n",
       "      <td>superhero_test_4</td>\n",
       "      <td>Black_Panther</td>\n",
       "    </tr>\n",
       "    <tr>\n",
       "      <th>4</th>\n",
       "      <td>superhero_test_5</td>\n",
       "      <td>Spiderman</td>\n",
       "    </tr>\n",
       "  </tbody>\n",
       "</table>\n",
       "</div>"
      ],
      "text/plain": [
       "           filename            max\n",
       "0  superhero_test_1      Spiderman\n",
       "1  superhero_test_2       Superman\n",
       "2  superhero_test_3       Iron_Man\n",
       "3  superhero_test_4  Black_Panther\n",
       "4  superhero_test_5      Spiderman"
      ]
     },
     "execution_count": 62,
     "metadata": {},
     "output_type": "execute_result"
    }
   ],
   "source": [
    "ans1 = ans[['filename', 'max']].copy()\n",
    "ans1.head()"
   ]
  },
  {
   "cell_type": "code",
   "execution_count": 63,
   "metadata": {},
   "outputs": [
    {
     "data": {
      "text/html": [
       "<div>\n",
       "<style scoped>\n",
       "    .dataframe tbody tr th:only-of-type {\n",
       "        vertical-align: middle;\n",
       "    }\n",
       "\n",
       "    .dataframe tbody tr th {\n",
       "        vertical-align: top;\n",
       "    }\n",
       "\n",
       "    .dataframe thead th {\n",
       "        text-align: right;\n",
       "    }\n",
       "</style>\n",
       "<table border=\"1\" class=\"dataframe\">\n",
       "  <thead>\n",
       "    <tr style=\"text-align: right;\">\n",
       "      <th></th>\n",
       "      <th>filename</th>\n",
       "      <th>Superhero</th>\n",
       "    </tr>\n",
       "  </thead>\n",
       "  <tbody>\n",
       "    <tr>\n",
       "      <th>0</th>\n",
       "      <td>superhero_test_1</td>\n",
       "      <td>Spiderman</td>\n",
       "    </tr>\n",
       "    <tr>\n",
       "      <th>1</th>\n",
       "      <td>superhero_test_2</td>\n",
       "      <td>Superman</td>\n",
       "    </tr>\n",
       "    <tr>\n",
       "      <th>2</th>\n",
       "      <td>superhero_test_3</td>\n",
       "      <td>Iron_Man</td>\n",
       "    </tr>\n",
       "    <tr>\n",
       "      <th>3</th>\n",
       "      <td>superhero_test_4</td>\n",
       "      <td>Black_Panther</td>\n",
       "    </tr>\n",
       "    <tr>\n",
       "      <th>4</th>\n",
       "      <td>superhero_test_5</td>\n",
       "      <td>Spiderman</td>\n",
       "    </tr>\n",
       "  </tbody>\n",
       "</table>\n",
       "</div>"
      ],
      "text/plain": [
       "           filename      Superhero\n",
       "0  superhero_test_1      Spiderman\n",
       "1  superhero_test_2       Superman\n",
       "2  superhero_test_3       Iron_Man\n",
       "3  superhero_test_4  Black_Panther\n",
       "4  superhero_test_5      Spiderman"
      ]
     },
     "execution_count": 63,
     "metadata": {},
     "output_type": "execute_result"
    }
   ],
   "source": [
    "ans1.rename(columns={'max': 'Superhero'}, inplace=True)\n",
    "ans1.head()"
   ]
  },
  {
   "cell_type": "code",
   "execution_count": 64,
   "metadata": {},
   "outputs": [
    {
     "data": {
      "text/plain": [
       "(3375, 2)"
      ]
     },
     "execution_count": 64,
     "metadata": {},
     "output_type": "execute_result"
    }
   ],
   "source": [
    "ans1.shape"
   ]
  },
  {
   "cell_type": "code",
   "execution_count": 65,
   "metadata": {},
   "outputs": [],
   "source": [
    "#SUBM = f'{PATH}subm/'\n",
    "#os.makedirs(SUBM, exist_ok=True)\n",
    "ans1.to_csv(f'{SUBM}ans1.csv')"
   ]
  },
  {
   "cell_type": "code",
   "execution_count": null,
   "metadata": {},
   "outputs": [],
   "source": []
  }
 ],
 "metadata": {
  "kernelspec": {
   "display_name": "Python 3",
   "language": "python",
   "name": "python3"
  },
  "language_info": {
   "codemirror_mode": {
    "name": "ipython",
    "version": 3
   },
   "file_extension": ".py",
   "mimetype": "text/x-python",
   "name": "python",
   "nbconvert_exporter": "python",
   "pygments_lexer": "ipython3",
   "version": "3.6.4"
  }
 },
 "nbformat": 4,
 "nbformat_minor": 2
}
