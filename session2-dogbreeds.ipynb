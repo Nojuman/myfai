{
 "cells": [
  {
   "cell_type": "code",
   "execution_count": 1,
   "metadata": {},
   "outputs": [],
   "source": [
    "%reload_ext autoreload\n",
    "%autoreload 2\n",
    "%matplotlib inline"
   ]
  },
  {
   "cell_type": "code",
   "execution_count": 2,
   "metadata": {},
   "outputs": [],
   "source": [
    "from fastai.imports import *\n",
    "from fastai.transforms import *\n",
    "from fastai.conv_learner import *\n",
    "from fastai.model import *\n",
    "from fastai.dataset import *\n",
    "from fastai.sgdr import *\n",
    "from fastai.plots import *"
   ]
  },
  {
   "cell_type": "code",
   "execution_count": 3,
   "metadata": {},
   "outputs": [
    {
     "data": {
      "text/plain": [
       "(True, True)"
      ]
     },
     "execution_count": 3,
     "metadata": {},
     "output_type": "execute_result"
    }
   ],
   "source": [
    "torch.cuda.is_available(), torch.backends.cudnn.enabled"
   ]
  },
  {
   "cell_type": "code",
   "execution_count": 4,
   "metadata": {},
   "outputs": [],
   "source": [
    "PATH = \"data/dogbreed/\"\n",
    "sz = 224\n",
    "arch= resnext50\n",
    "bs = 64"
   ]
  },
  {
   "cell_type": "code",
   "execution_count": 5,
   "metadata": {},
   "outputs": [],
   "source": [
    "label_csv = f'{PATH}labels.csv'\n",
    "n = len(list(open(label_csv)))-1\n",
    "val_idxs = get_cv_idxs(n)          # get random 20% of labels for val idx"
   ]
  },
  {
   "cell_type": "markdown",
   "metadata": {},
   "source": [
    "## Step 1\n",
    "### Enable data augmentation, precompute=True"
   ]
  },
  {
   "cell_type": "code",
   "execution_count": 6,
   "metadata": {},
   "outputs": [],
   "source": [
    "# create function to make it easy to vary img sz and bs for sota technique\n",
    "# of increasing img sz and bs to prevent overfitting\n",
    "def get_data(sz, bs):\n",
    "    tfms = tfms_from_model(arch,sz, aug_tfms=transforms_side_on, max_zoom=1.1)\n",
    "    data = ImageClassifierData.from_csv(PATH,'train', f'{PATH}labels.csv',\n",
    "                                        test_name='test', num_workers=4,\n",
    "                                        val_idxs=val_idxs, suffix=\".jpg\",\n",
    "                                        tfms=tfms, bs=bs)\n",
    "    return data if sz>300 else data.resize(340,'tmp')   "
   ]
  },
  {
   "cell_type": "code",
   "execution_count": 12,
   "metadata": {},
   "outputs": [
    {
     "data": {
      "application/vnd.jupyter.widget-view+json": {
       "model_id": "326725b583ff4cf19eb55f96a15b71e5",
       "version_major": 2,
       "version_minor": 0
      },
      "text/html": [
       "<p>Failed to display Jupyter Widget of type <code>HBox</code>.</p>\n",
       "<p>\n",
       "  If you're reading this message in the Jupyter Notebook or JupyterLab Notebook, it may mean\n",
       "  that the widgets JavaScript is still loading. If this message persists, it\n",
       "  likely means that the widgets JavaScript library is either not installed or\n",
       "  not enabled. See the <a href=\"https://ipywidgets.readthedocs.io/en/stable/user_install.html\">Jupyter\n",
       "  Widgets Documentation</a> for setup instructions.\n",
       "</p>\n",
       "<p>\n",
       "  If you're reading this message in another frontend (for example, a static\n",
       "  rendering on GitHub or <a href=\"https://nbviewer.jupyter.org/\">NBViewer</a>),\n",
       "  it may mean that your frontend doesn't currently support widgets.\n",
       "</p>\n"
      ],
      "text/plain": [
       "HBox(children=(IntProgress(value=0, max=6), HTML(value='')))"
      ]
     },
     "metadata": {},
     "output_type": "display_data"
    },
    {
     "name": "stdout",
     "output_type": "stream",
     "text": [
      "\n"
     ]
    }
   ],
   "source": [
    "data = get_data(sz, bs)\n",
    "learn = ConvLearner.pretrained(arch, data, precompute=True, ps=0.5)\n",
    "#learn.fit(1e-2, 5)"
   ]
  },
  {
   "cell_type": "markdown",
   "metadata": {},
   "source": [
    "## Step 2\n",
    "### Learning Rate Finder"
   ]
  },
  {
   "cell_type": "code",
   "execution_count": 8,
   "metadata": {},
   "outputs": [
    {
     "data": {
      "application/vnd.jupyter.widget-view+json": {
       "model_id": "5bb48233a84645de8199cffc140130e1",
       "version_major": 2,
       "version_minor": 0
      },
      "text/html": [
       "<p>Failed to display Jupyter Widget of type <code>HBox</code>.</p>\n",
       "<p>\n",
       "  If you're reading this message in the Jupyter Notebook or JupyterLab Notebook, it may mean\n",
       "  that the widgets JavaScript is still loading. If this message persists, it\n",
       "  likely means that the widgets JavaScript library is either not installed or\n",
       "  not enabled. See the <a href=\"https://ipywidgets.readthedocs.io/en/stable/user_install.html\">Jupyter\n",
       "  Widgets Documentation</a> for setup instructions.\n",
       "</p>\n",
       "<p>\n",
       "  If you're reading this message in another frontend (for example, a static\n",
       "  rendering on GitHub or <a href=\"https://nbviewer.jupyter.org/\">NBViewer</a>),\n",
       "  it may mean that your frontend doesn't currently support widgets.\n",
       "</p>\n"
      ],
      "text/plain": [
       "HBox(children=(IntProgress(value=0, description='Epoch', max=1), HTML(value='')))"
      ]
     },
     "metadata": {},
     "output_type": "display_data"
    },
    {
     "name": "stdout",
     "output_type": "stream",
     "text": [
      " 70%|███████   | 90/128 [00:00<00:00, 101.44it/s, loss=15.2]\n"
     ]
    }
   ],
   "source": [
    "lfr = learn.lr_find()"
   ]
  },
  {
   "cell_type": "code",
   "execution_count": 9,
   "metadata": {},
   "outputs": [
    {
     "data": {
      "image/png": "[encoded data removed]",
      "text/plain": [
       "<matplotlib.figure.Figure at 0x7fba863c20b8>"
      ]
     },
     "metadata": {},
     "output_type": "display_data"
    }
   ],
   "source": [
    "learn.sched.plot_lr()"
   ]
  },
  {
   "cell_type": "code",
   "execution_count": 10,
   "metadata": {},
   "outputs": [
    {
     "data": {
      "image/png": "[encoded data removed]",
      "text/plain": [
       "<matplotlib.figure.Figure at 0x7fba863c2240>"
      ]
     },
     "metadata": {},
     "output_type": "display_data"
    }
   ],
   "source": [
    "learn.sched.plot()"
   ]
  },
  {
   "cell_type": "code",
   "execution_count": 13,
   "metadata": {},
   "outputs": [
    {
     "data": {
      "text/plain": [
       "(0.1, 0.1, 0.1)"
      ]
     },
     "execution_count": 13,
     "metadata": {},
     "output_type": "execute_result"
    }
   ],
   "source": [
    "1e-1, pow(10,-1), 10**-1"
   ]
  },
  {
   "cell_type": "markdown",
   "metadata": {},
   "source": [
    "## Step 3\n",
    "### Train last layer with precomputed activations"
   ]
  },
  {
   "cell_type": "code",
   "execution_count": 13,
   "metadata": {},
   "outputs": [
    {
     "data": {
      "application/vnd.jupyter.widget-view+json": {
       "model_id": "d83ccead58ac48f19f699df38067d1c9",
       "version_major": 2,
       "version_minor": 0
      },
      "text/html": [
       "<p>Failed to display Jupyter Widget of type <code>HBox</code>.</p>\n",
       "<p>\n",
       "  If you're reading this message in the Jupyter Notebook or JupyterLab Notebook, it may mean\n",
       "  that the widgets JavaScript is still loading. If this message persists, it\n",
       "  likely means that the widgets JavaScript library is either not installed or\n",
       "  not enabled. See the <a href=\"https://ipywidgets.readthedocs.io/en/stable/user_install.html\">Jupyter\n",
       "  Widgets Documentation</a> for setup instructions.\n",
       "</p>\n",
       "<p>\n",
       "  If you're reading this message in another frontend (for example, a static\n",
       "  rendering on GitHub or <a href=\"https://nbviewer.jupyter.org/\">NBViewer</a>),\n",
       "  it may mean that your frontend doesn't currently support widgets.\n",
       "</p>\n"
      ],
      "text/plain": [
       "HBox(children=(IntProgress(value=0, description='Epoch', max=2), HTML(value='')))"
      ]
     },
     "metadata": {},
     "output_type": "display_data"
    },
    {
     "name": "stdout",
     "output_type": "stream",
     "text": [
      "epoch      trn_loss   val_loss   accuracy   \n",
      "    0      1.356435   0.516203   0.882161  \n",
      "    1      0.649076   0.372333   0.902669  \n",
      "\n"
     ]
    },
    {
     "data": {
      "text/plain": [
       "[0.3723328, 0.902669271454215]"
      ]
     },
     "execution_count": 13,
     "metadata": {},
     "output_type": "execute_result"
    }
   ],
   "source": [
    "learn.fit(1e-2, 2)"
   ]
  },
  {
   "cell_type": "markdown",
   "metadata": {},
   "source": [
    "## Step 4\n",
    "### Train last layer with data augmentation(ie. precompute=False) for 2-3 epochs, cycle_len=1"
   ]
  },
  {
   "cell_type": "code",
   "execution_count": 15,
   "metadata": {},
   "outputs": [
    {
     "data": {
      "application/vnd.jupyter.widget-view+json": {
       "model_id": "a5b12946ef1c4ab6828e241fdb53cc72",
       "version_major": 2,
       "version_minor": 0
      },
      "text/html": [
       "<p>Failed to display Jupyter Widget of type <code>HBox</code>.</p>\n",
       "<p>\n",
       "  If you're reading this message in the Jupyter Notebook or JupyterLab Notebook, it may mean\n",
       "  that the widgets JavaScript is still loading. If this message persists, it\n",
       "  likely means that the widgets JavaScript library is either not installed or\n",
       "  not enabled. See the <a href=\"https://ipywidgets.readthedocs.io/en/stable/user_install.html\">Jupyter\n",
       "  Widgets Documentation</a> for setup instructions.\n",
       "</p>\n",
       "<p>\n",
       "  If you're reading this message in another frontend (for example, a static\n",
       "  rendering on GitHub or <a href=\"https://nbviewer.jupyter.org/\">NBViewer</a>),\n",
       "  it may mean that your frontend doesn't currently support widgets.\n",
       "</p>\n"
      ],
      "text/plain": [
       "HBox(children=(IntProgress(value=0, description='Epoch', max=5), HTML(value='')))"
      ]
     },
     "metadata": {},
     "output_type": "display_data"
    },
    {
     "name": "stdout",
     "output_type": "stream",
     "text": [
      "epoch      trn_loss   val_loss   accuracy   \n",
      "    0      0.435729   0.308123   0.903158  \n",
      "    1      0.411381   0.29721    0.902214  \n",
      "    2      0.395301   0.294251   0.906152  \n",
      "    3      0.363094   0.292198   0.906608  \n",
      "    4      0.34976    0.290315   0.903223  \n",
      "\n"
     ]
    },
    {
     "data": {
      "text/plain": [
       "[0.29031485, 0.903222655877471]"
      ]
     },
     "execution_count": 15,
     "metadata": {},
     "output_type": "execute_result"
    }
   ],
   "source": [
    "learn.precompute=False\n",
    "learn.fit(1e-2, 5, cycle_len=1)"
   ]
  },
  {
   "cell_type": "markdown",
   "metadata": {},
   "source": [
    "## Step 5 jump to Step 8\n",
    "### Step 5 - unfreeze all layers\n",
    "### Step 6 - set differential lr\n",
    "### step 7 - find lr again ( for what?)\n",
    "### step 8 - Train full network with cycle_mult=2 until overfitting"
   ]
  },
  {
   "cell_type": "markdown",
   "metadata": {},
   "source": [
    "### Did not unfreeze becos result is not getting better, because images are too similar to imagenet's, thus doesn't improve to train the filter layers. So we go straight to Step 8"
   ]
  },
  {
   "cell_type": "code",
   "execution_count": 16,
   "metadata": {},
   "outputs": [
    {
     "data": {
      "application/vnd.jupyter.widget-view+json": {
       "model_id": "a1ced6f91c0a4e7aad1c4e6b71eab77a",
       "version_major": 2,
       "version_minor": 0
      },
      "text/html": [
       "<p>Failed to display Jupyter Widget of type <code>HBox</code>.</p>\n",
       "<p>\n",
       "  If you're reading this message in the Jupyter Notebook or JupyterLab Notebook, it may mean\n",
       "  that the widgets JavaScript is still loading. If this message persists, it\n",
       "  likely means that the widgets JavaScript library is either not installed or\n",
       "  not enabled. See the <a href=\"https://ipywidgets.readthedocs.io/en/stable/user_install.html\">Jupyter\n",
       "  Widgets Documentation</a> for setup instructions.\n",
       "</p>\n",
       "<p>\n",
       "  If you're reading this message in another frontend (for example, a static\n",
       "  rendering on GitHub or <a href=\"https://nbviewer.jupyter.org/\">NBViewer</a>),\n",
       "  it may mean that your frontend doesn't currently support widgets.\n",
       "</p>\n"
      ],
      "text/plain": [
       "HBox(children=(IntProgress(value=0, max=6), HTML(value='')))"
      ]
     },
     "metadata": {},
     "output_type": "display_data"
    },
    {
     "name": "stdout",
     "output_type": "stream",
     "text": [
      "\n"
     ]
    },
    {
     "data": {
      "application/vnd.jupyter.widget-view+json": {
       "model_id": "5b4d067473e34a9d952c37691f64db73",
       "version_major": 2,
       "version_minor": 0
      },
      "text/html": [
       "<p>Failed to display Jupyter Widget of type <code>HBox</code>.</p>\n",
       "<p>\n",
       "  If you're reading this message in the Jupyter Notebook or JupyterLab Notebook, it may mean\n",
       "  that the widgets JavaScript is still loading. If this message persists, it\n",
       "  likely means that the widgets JavaScript library is either not installed or\n",
       "  not enabled. See the <a href=\"https://ipywidgets.readthedocs.io/en/stable/user_install.html\">Jupyter\n",
       "  Widgets Documentation</a> for setup instructions.\n",
       "</p>\n",
       "<p>\n",
       "  If you're reading this message in another frontend (for example, a static\n",
       "  rendering on GitHub or <a href=\"https://nbviewer.jupyter.org/\">NBViewer</a>),\n",
       "  it may mean that your frontend doesn't currently support widgets.\n",
       "</p>\n"
      ],
      "text/plain": [
       "HBox(children=(IntProgress(value=0, description='Epoch', max=7), HTML(value='')))"
      ]
     },
     "metadata": {},
     "output_type": "display_data"
    },
    {
     "name": "stdout",
     "output_type": "stream",
     "text": [
      "epoch      trn_loss   val_loss   accuracy   \n",
      "    0      0.347219   0.267942   0.913477  \n",
      "    1      0.335738   0.260982   0.911035  \n",
      "    2      0.309181   0.257374   0.912988  \n",
      "    3      0.301881   0.258165   0.914974  \n",
      "    4      0.299811   0.257177   0.9125    \n",
      "    5      0.264777   0.252175   0.9125    \n",
      "    6      0.254588   0.25064    0.912012  \n",
      "\n",
      "CPU times: user 40min 23s, sys: 1h 54s, total: 1h 41min 17s\n",
      "Wall time: 13min 24s\n"
     ]
    },
    {
     "data": {
      "text/plain": [
       "[0.25064045, 0.912011718377471]"
      ]
     },
     "execution_count": 16,
     "metadata": {},
     "output_type": "execute_result"
    }
   ],
   "source": [
    "learn.set_data(get_data(299,bs))\n",
    "learn.freeze()\n",
    "% time learn.fit(1e-2, 3, cycle_len=1, cycle_mult=2)"
   ]
  },
  {
   "cell_type": "code",
   "execution_count": null,
   "metadata": {},
   "outputs": [],
   "source": []
  },
  {
   "cell_type": "markdown",
   "metadata": {},
   "source": [
    "### File format for kaggle\n",
    "'''\n",
    "id,affenpinscher,afghan_hound,..,yorkshire_terrier\n",
    "\n",
    "000621fb3cbb32d8935728e48679680e,0.0083,0.0,...,0.0083\n",
    "etc.\n",
    "'''"
   ]
  },
  {
   "cell_type": "code",
   "execution_count": null,
   "metadata": {},
   "outputs": [],
   "source": [
    "log_preds, y = learn.TTA()\n",
    "probs = np.mean(np.exp(log_preds),axis=0)\n",
    "accuracy_np(probs, y)\n",
    "#metrics.log_loss(y, probs)"
   ]
  },
  {
   "cell_type": "code",
   "execution_count": 27,
   "metadata": {},
   "outputs": [
    {
     "name": "stdout",
     "output_type": "stream",
     "text": []
    },
    {
     "data": {
      "text/plain": [
       "0.006855266969199575"
      ]
     },
     "execution_count": 27,
     "metadata": {},
     "output_type": "execute_result"
    }
   ],
   "source": [
    "log_preds, y = learn.TTA(is_test=True)\n",
    "probs = np.mean(np.exp(log_preds), axis=0)\n",
    "accuracy_np(probs, y) #metrics.log_loss(y, probs)"
   ]
  },
  {
   "cell_type": "code",
   "execution_count": 28,
   "metadata": {},
   "outputs": [
    {
     "data": {
      "text/plain": [
       "(10357, 120)"
      ]
     },
     "execution_count": 28,
     "metadata": {},
     "output_type": "execute_result"
    }
   ],
   "source": [
    "probs.shape"
   ]
  },
  {
   "cell_type": "code",
   "execution_count": 29,
   "metadata": {},
   "outputs": [],
   "source": [
    "df = pd.DataFrame(probs)\n",
    "df.columns = data.classes\n",
    "df.insert(0, 'id', [o[5:-4] for o in data.test_ds.fnames])"
   ]
  },
  {
   "cell_type": "code",
   "execution_count": 30,
   "metadata": {},
   "outputs": [
    {
     "data": {
      "text/html": [
       "<div>\n",
       "<style scoped>\n",
       "    .dataframe tbody tr th:only-of-type {\n",
       "        vertical-align: middle;\n",
       "    }\n",
       "\n",
       "    .dataframe tbody tr th {\n",
       "        vertical-align: top;\n",
       "    }\n",
       "\n",
       "    .dataframe thead th {\n",
       "        text-align: right;\n",
       "    }\n",
       "</style>\n",
       "<table border=\"1\" class=\"dataframe\">\n",
       "  <thead>\n",
       "    <tr style=\"text-align: right;\">\n",
       "      <th></th>\n",
       "      <th>id</th>\n",
       "      <th>affenpinscher</th>\n",
       "      <th>afghan_hound</th>\n",
       "      <th>african_hunting_dog</th>\n",
       "      <th>airedale</th>\n",
       "      <th>american_staffordshire_terrier</th>\n",
       "      <th>appenzeller</th>\n",
       "      <th>australian_terrier</th>\n",
       "      <th>basenji</th>\n",
       "      <th>basset</th>\n",
       "      <th>...</th>\n",
       "      <th>toy_poodle</th>\n",
       "      <th>toy_terrier</th>\n",
       "      <th>vizsla</th>\n",
       "      <th>walker_hound</th>\n",
       "      <th>weimaraner</th>\n",
       "      <th>welsh_springer_spaniel</th>\n",
       "      <th>west_highland_white_terrier</th>\n",
       "      <th>whippet</th>\n",
       "      <th>wire-haired_fox_terrier</th>\n",
       "      <th>yorkshire_terrier</th>\n",
       "    </tr>\n",
       "  </thead>\n",
       "  <tbody>\n",
       "    <tr>\n",
       "      <th>0</th>\n",
       "      <td>342ff6aaf1169be5b50d5d5bfee7dd50</td>\n",
       "      <td>1.873375e-07</td>\n",
       "      <td>2.851573e-07</td>\n",
       "      <td>2.593911e-07</td>\n",
       "      <td>0.975029</td>\n",
       "      <td>2.025003e-07</td>\n",
       "      <td>6.973732e-07</td>\n",
       "      <td>1.814769e-06</td>\n",
       "      <td>0.000002</td>\n",
       "      <td>3.897409e-07</td>\n",
       "      <td>...</td>\n",
       "      <td>0.000001</td>\n",
       "      <td>1.666846e-07</td>\n",
       "      <td>3.750872e-06</td>\n",
       "      <td>3.383532e-07</td>\n",
       "      <td>7.723045e-07</td>\n",
       "      <td>0.000003</td>\n",
       "      <td>2.072683e-07</td>\n",
       "      <td>7.995872e-08</td>\n",
       "      <td>0.000616</td>\n",
       "      <td>7.206818e-07</td>\n",
       "    </tr>\n",
       "    <tr>\n",
       "      <th>1</th>\n",
       "      <td>5fd4c3dad6367ee986e2f9c4a5358483</td>\n",
       "      <td>1.354099e-05</td>\n",
       "      <td>1.586721e-05</td>\n",
       "      <td>5.833979e-05</td>\n",
       "      <td>0.000096</td>\n",
       "      <td>7.191534e-04</td>\n",
       "      <td>8.226297e-05</td>\n",
       "      <td>2.233172e-05</td>\n",
       "      <td>0.000953</td>\n",
       "      <td>3.214495e-03</td>\n",
       "      <td>...</td>\n",
       "      <td>0.000058</td>\n",
       "      <td>9.145900e-04</td>\n",
       "      <td>2.472739e-04</td>\n",
       "      <td>2.040113e-01</td>\n",
       "      <td>4.947311e-05</td>\n",
       "      <td>0.000169</td>\n",
       "      <td>1.099349e-04</td>\n",
       "      <td>4.189739e-05</td>\n",
       "      <td>0.000344</td>\n",
       "      <td>6.553438e-05</td>\n",
       "    </tr>\n",
       "    <tr>\n",
       "      <th>2</th>\n",
       "      <td>3a43689ad0c3a2a3989cd670697fb7de</td>\n",
       "      <td>2.439326e-05</td>\n",
       "      <td>5.196368e-07</td>\n",
       "      <td>4.615485e-06</td>\n",
       "      <td>0.000005</td>\n",
       "      <td>3.086877e-05</td>\n",
       "      <td>2.905544e-07</td>\n",
       "      <td>4.531111e-03</td>\n",
       "      <td>0.000004</td>\n",
       "      <td>2.005487e-06</td>\n",
       "      <td>...</td>\n",
       "      <td>0.000012</td>\n",
       "      <td>4.618090e-05</td>\n",
       "      <td>2.736795e-07</td>\n",
       "      <td>9.184016e-07</td>\n",
       "      <td>1.506919e-06</td>\n",
       "      <td>0.000002</td>\n",
       "      <td>4.604228e-05</td>\n",
       "      <td>4.359619e-07</td>\n",
       "      <td>0.000013</td>\n",
       "      <td>1.127948e-04</td>\n",
       "    </tr>\n",
       "    <tr>\n",
       "      <th>3</th>\n",
       "      <td>6479fb9f458435d91d0d066004c2fc33</td>\n",
       "      <td>1.871660e-04</td>\n",
       "      <td>1.136072e-05</td>\n",
       "      <td>3.762071e-06</td>\n",
       "      <td>0.000011</td>\n",
       "      <td>4.605698e-06</td>\n",
       "      <td>3.646188e-05</td>\n",
       "      <td>9.051022e-06</td>\n",
       "      <td>0.000019</td>\n",
       "      <td>3.346601e-06</td>\n",
       "      <td>...</td>\n",
       "      <td>0.000005</td>\n",
       "      <td>1.767963e-05</td>\n",
       "      <td>9.520038e-06</td>\n",
       "      <td>8.652905e-07</td>\n",
       "      <td>4.166549e-06</td>\n",
       "      <td>0.000004</td>\n",
       "      <td>9.279604e-05</td>\n",
       "      <td>2.559088e-05</td>\n",
       "      <td>0.000078</td>\n",
       "      <td>2.170592e-04</td>\n",
       "    </tr>\n",
       "    <tr>\n",
       "      <th>4</th>\n",
       "      <td>3af107e3ec5e7e7800fba57ce40ab0a9</td>\n",
       "      <td>9.201250e-07</td>\n",
       "      <td>6.778320e-05</td>\n",
       "      <td>6.161466e-07</td>\n",
       "      <td>0.000022</td>\n",
       "      <td>9.896938e-06</td>\n",
       "      <td>3.365512e-06</td>\n",
       "      <td>3.728637e-07</td>\n",
       "      <td>0.000003</td>\n",
       "      <td>1.607328e-06</td>\n",
       "      <td>...</td>\n",
       "      <td>0.000083</td>\n",
       "      <td>5.247106e-06</td>\n",
       "      <td>1.536754e-06</td>\n",
       "      <td>4.700181e-06</td>\n",
       "      <td>6.436803e-05</td>\n",
       "      <td>0.000002</td>\n",
       "      <td>2.035174e-06</td>\n",
       "      <td>5.538335e-05</td>\n",
       "      <td>0.001069</td>\n",
       "      <td>5.998601e-07</td>\n",
       "    </tr>\n",
       "  </tbody>\n",
       "</table>\n",
       "<p>5 rows × 121 columns</p>\n",
       "</div>"
      ],
      "text/plain": [
       "                                 id  affenpinscher  afghan_hound  \\\n",
       "0  342ff6aaf1169be5b50d5d5bfee7dd50   1.873375e-07  2.851573e-07   \n",
       "1  5fd4c3dad6367ee986e2f9c4a5358483   1.354099e-05  1.586721e-05   \n",
       "2  3a43689ad0c3a2a3989cd670697fb7de   2.439326e-05  5.196368e-07   \n",
       "3  6479fb9f458435d91d0d066004c2fc33   1.871660e-04  1.136072e-05   \n",
       "4  3af107e3ec5e7e7800fba57ce40ab0a9   9.201250e-07  6.778320e-05   \n",
       "\n",
       "   african_hunting_dog  airedale  american_staffordshire_terrier  \\\n",
       "0         2.593911e-07  0.975029                    2.025003e-07   \n",
       "1         5.833979e-05  0.000096                    7.191534e-04   \n",
       "2         4.615485e-06  0.000005                    3.086877e-05   \n",
       "3         3.762071e-06  0.000011                    4.605698e-06   \n",
       "4         6.161466e-07  0.000022                    9.896938e-06   \n",
       "\n",
       "    appenzeller  australian_terrier   basenji        basset  \\\n",
       "0  6.973732e-07        1.814769e-06  0.000002  3.897409e-07   \n",
       "1  8.226297e-05        2.233172e-05  0.000953  3.214495e-03   \n",
       "2  2.905544e-07        4.531111e-03  0.000004  2.005487e-06   \n",
       "3  3.646188e-05        9.051022e-06  0.000019  3.346601e-06   \n",
       "4  3.365512e-06        3.728637e-07  0.000003  1.607328e-06   \n",
       "\n",
       "         ...          toy_poodle   toy_terrier        vizsla  walker_hound  \\\n",
       "0        ...            0.000001  1.666846e-07  3.750872e-06  3.383532e-07   \n",
       "1        ...            0.000058  9.145900e-04  2.472739e-04  2.040113e-01   \n",
       "2        ...            0.000012  4.618090e-05  2.736795e-07  9.184016e-07   \n",
       "3        ...            0.000005  1.767963e-05  9.520038e-06  8.652905e-07   \n",
       "4        ...            0.000083  5.247106e-06  1.536754e-06  4.700181e-06   \n",
       "\n",
       "     weimaraner  welsh_springer_spaniel  west_highland_white_terrier  \\\n",
       "0  7.723045e-07                0.000003                 2.072683e-07   \n",
       "1  4.947311e-05                0.000169                 1.099349e-04   \n",
       "2  1.506919e-06                0.000002                 4.604228e-05   \n",
       "3  4.166549e-06                0.000004                 9.279604e-05   \n",
       "4  6.436803e-05                0.000002                 2.035174e-06   \n",
       "\n",
       "        whippet  wire-haired_fox_terrier  yorkshire_terrier  \n",
       "0  7.995872e-08                 0.000616       7.206818e-07  \n",
       "1  4.189739e-05                 0.000344       6.553438e-05  \n",
       "2  4.359619e-07                 0.000013       1.127948e-04  \n",
       "3  2.559088e-05                 0.000078       2.170592e-04  \n",
       "4  5.538335e-05                 0.001069       5.998601e-07  \n",
       "\n",
       "[5 rows x 121 columns]"
      ]
     },
     "execution_count": 30,
     "metadata": {},
     "output_type": "execute_result"
    }
   ],
   "source": [
    "df.head()"
   ]
  },
  {
   "cell_type": "code",
   "execution_count": 32,
   "metadata": {},
   "outputs": [
    {
     "data": {
      "text/plain": [
       "(10357, 121)"
      ]
     },
     "execution_count": 32,
     "metadata": {},
     "output_type": "execute_result"
    }
   ],
   "source": [
    "df.shape"
   ]
  },
  {
   "cell_type": "code",
   "execution_count": 31,
   "metadata": {},
   "outputs": [],
   "source": [
    "SUBM = f'{PATH}subm/'\n",
    "os.makedirs(SUBM, exist_ok=True)\n",
    "df.to_csv(f'{SUBM}subm.gz', compression='gzip', index=False)"
   ]
  },
  {
   "cell_type": "markdown",
   "metadata": {},
   "source": [
    "## Individual prediction"
   ]
  },
  {
   "cell_type": "code",
   "execution_count": null,
   "metadata": {},
   "outputs": [],
   "source": [
    "fn = data.val_ds.fnames[0]"
   ]
  },
  {
   "cell_type": "code",
   "execution_count": null,
   "metadata": {},
   "outputs": [],
   "source": [
    "fn"
   ]
  },
  {
   "cell_type": "code",
   "execution_count": null,
   "metadata": {},
   "outputs": [],
   "source": [
    "Image.open((PATH+fn).resize(150,150))"
   ]
  },
  {
   "cell_type": "code",
   "execution_count": null,
   "metadata": {},
   "outputs": [],
   "source": [
    "trn_tfms, val_tfms = tfms_from_model(arch, sz)\n",
    "\n",
    "im = trn_tfms(Image.open(PATH+fn))\n",
    "preds = learn.predict_array(im[None]) # create a mini-batch of 1 image for learn.predict_array\n",
    "np.argmax(preds)"
   ]
  },
  {
   "cell_type": "code",
   "execution_count": null,
   "metadata": {},
   "outputs": [],
   "source": []
  },
  {
   "cell_type": "code",
   "execution_count": null,
   "metadata": {},
   "outputs": [],
   "source": []
  },
  {
   "cell_type": "code",
   "execution_count": null,
   "metadata": {},
   "outputs": [],
   "source": []
  },
  {
   "cell_type": "code",
   "execution_count": null,
   "metadata": {},
   "outputs": [],
   "source": []
  }
 ],
 "metadata": {
  "kernelspec": {
   "display_name": "Python 3",
   "language": "python",
   "name": "python3"
  },
  "language_info": {
   "codemirror_mode": {
    "name": "ipython",
    "version": 3
   },
   "file_extension": ".py",
   "mimetype": "text/x-python",
   "name": "python",
   "nbconvert_exporter": "python",
   "pygments_lexer": "ipython3",
   "version": "3.6.4"
  }
 },
 "nbformat": 4,
 "nbformat_minor": 2
}
